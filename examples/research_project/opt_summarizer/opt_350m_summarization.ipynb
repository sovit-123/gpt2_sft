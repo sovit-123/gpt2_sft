{
 "cells": [
  {
   "cell_type": "markdown",
   "id": "ce34bb67",
   "metadata": {
    "id": "w2COtOpNja4S",
    "papermill": {
     "duration": 0.051246,
     "end_time": "2024-02-27T01:40:38.872360",
     "exception": false,
     "start_time": "2024-02-27T01:40:38.821114",
     "status": "completed"
    },
    "tags": []
   },
   "source": [
    "## Setup"
   ]
  },
  {
   "cell_type": "code",
   "execution_count": 1,
   "id": "bc2ec76c",
   "metadata": {
    "colab": {
     "base_uri": "https://localhost:8080/"
    },
    "executionInfo": {
     "elapsed": 508520,
     "status": "ok",
     "timestamp": 1711285858314,
     "user": {
      "displayName": "Debugger Cafe",
      "userId": "06353083029077617508"
     },
     "user_tz": -330
    },
    "id": "QNtGxG8oja4T",
    "outputId": "63096ba9-eb8e-4bb5-ad46-fd0ea866878a",
    "papermill": {
     "duration": 40.486456,
     "end_time": "2024-02-27T01:41:19.410515",
     "exception": false,
     "start_time": "2024-02-27T01:40:38.924059",
     "status": "completed"
    },
    "scrolled": true,
    "tags": []
   },
   "outputs": [
    {
     "name": "stdout",
     "output_type": "stream",
     "text": [
      "Requirement already satisfied: datasets in /home/sovitdl/miniconda3/envs/experiments/lib/python3.11/site-packages (2.19.1)\n",
      "Requirement already satisfied: transformers in /home/sovitdl/miniconda3/envs/experiments/lib/python3.11/site-packages (4.40.2)\n",
      "Requirement already satisfied: trl in /home/sovitdl/miniconda3/envs/experiments/lib/python3.11/site-packages (0.8.6)\n",
      "Requirement already satisfied: filelock in /home/sovitdl/miniconda3/envs/experiments/lib/python3.11/site-packages (from datasets) (3.14.0)\n",
      "Requirement already satisfied: numpy>=1.17 in /home/sovitdl/miniconda3/envs/experiments/lib/python3.11/site-packages (from datasets) (1.26.4)\n",
      "Requirement already satisfied: pyarrow>=12.0.0 in /home/sovitdl/miniconda3/envs/experiments/lib/python3.11/site-packages (from datasets) (16.0.0)\n",
      "Requirement already satisfied: pyarrow-hotfix in /home/sovitdl/miniconda3/envs/experiments/lib/python3.11/site-packages (from datasets) (0.6)\n",
      "Requirement already satisfied: dill<0.3.9,>=0.3.0 in /home/sovitdl/miniconda3/envs/experiments/lib/python3.11/site-packages (from datasets) (0.3.8)\n",
      "Requirement already satisfied: pandas in /home/sovitdl/miniconda3/envs/experiments/lib/python3.11/site-packages (from datasets) (2.2.2)\n",
      "Requirement already satisfied: requests>=2.19.0 in /home/sovitdl/miniconda3/envs/experiments/lib/python3.11/site-packages (from datasets) (2.31.0)\n",
      "Requirement already satisfied: tqdm>=4.62.1 in /home/sovitdl/miniconda3/envs/experiments/lib/python3.11/site-packages (from datasets) (4.66.4)\n",
      "Requirement already satisfied: xxhash in /home/sovitdl/miniconda3/envs/experiments/lib/python3.11/site-packages (from datasets) (3.4.1)\n",
      "Requirement already satisfied: multiprocess in /home/sovitdl/miniconda3/envs/experiments/lib/python3.11/site-packages (from datasets) (0.70.16)\n",
      "Requirement already satisfied: fsspec<=2024.3.1,>=2023.1.0 in /home/sovitdl/miniconda3/envs/experiments/lib/python3.11/site-packages (from fsspec[http]<=2024.3.1,>=2023.1.0->datasets) (2024.3.1)\n",
      "Requirement already satisfied: aiohttp in /home/sovitdl/miniconda3/envs/experiments/lib/python3.11/site-packages (from datasets) (3.9.5)\n",
      "Requirement already satisfied: huggingface-hub>=0.21.2 in /home/sovitdl/miniconda3/envs/experiments/lib/python3.11/site-packages (from datasets) (0.23.0)\n",
      "Requirement already satisfied: packaging in /home/sovitdl/miniconda3/envs/experiments/lib/python3.11/site-packages (from datasets) (24.0)\n",
      "Requirement already satisfied: pyyaml>=5.1 in /home/sovitdl/miniconda3/envs/experiments/lib/python3.11/site-packages (from datasets) (6.0.1)\n",
      "Requirement already satisfied: regex!=2019.12.17 in /home/sovitdl/miniconda3/envs/experiments/lib/python3.11/site-packages (from transformers) (2024.4.28)\n",
      "Requirement already satisfied: tokenizers<0.20,>=0.19 in /home/sovitdl/miniconda3/envs/experiments/lib/python3.11/site-packages (from transformers) (0.19.1)\n",
      "Requirement already satisfied: safetensors>=0.4.1 in /home/sovitdl/miniconda3/envs/experiments/lib/python3.11/site-packages (from transformers) (0.4.3)\n",
      "Requirement already satisfied: torch>=1.4.0 in /home/sovitdl/miniconda3/envs/experiments/lib/python3.11/site-packages (from trl) (2.3.0)\n",
      "Requirement already satisfied: accelerate in /home/sovitdl/miniconda3/envs/experiments/lib/python3.11/site-packages (from trl) (0.30.1)\n",
      "Requirement already satisfied: tyro>=0.5.11 in /home/sovitdl/miniconda3/envs/experiments/lib/python3.11/site-packages (from trl) (0.8.3)\n",
      "Requirement already satisfied: aiosignal>=1.1.2 in /home/sovitdl/miniconda3/envs/experiments/lib/python3.11/site-packages (from aiohttp->datasets) (1.3.1)\n",
      "Requirement already satisfied: attrs>=17.3.0 in /home/sovitdl/miniconda3/envs/experiments/lib/python3.11/site-packages (from aiohttp->datasets) (23.2.0)\n",
      "Requirement already satisfied: frozenlist>=1.1.1 in /home/sovitdl/miniconda3/envs/experiments/lib/python3.11/site-packages (from aiohttp->datasets) (1.4.1)\n",
      "Requirement already satisfied: multidict<7.0,>=4.5 in /home/sovitdl/miniconda3/envs/experiments/lib/python3.11/site-packages (from aiohttp->datasets) (6.0.5)\n",
      "Requirement already satisfied: yarl<2.0,>=1.0 in /home/sovitdl/miniconda3/envs/experiments/lib/python3.11/site-packages (from aiohttp->datasets) (1.9.4)\n",
      "Requirement already satisfied: typing-extensions>=3.7.4.3 in /home/sovitdl/miniconda3/envs/experiments/lib/python3.11/site-packages (from huggingface-hub>=0.21.2->datasets) (4.11.0)\n",
      "Requirement already satisfied: charset-normalizer<4,>=2 in /home/sovitdl/miniconda3/envs/experiments/lib/python3.11/site-packages (from requests>=2.19.0->datasets) (3.3.2)\n",
      "Requirement already satisfied: idna<4,>=2.5 in /home/sovitdl/miniconda3/envs/experiments/lib/python3.11/site-packages (from requests>=2.19.0->datasets) (3.7)\n",
      "Requirement already satisfied: urllib3<3,>=1.21.1 in /home/sovitdl/miniconda3/envs/experiments/lib/python3.11/site-packages (from requests>=2.19.0->datasets) (2.2.1)\n",
      "Requirement already satisfied: certifi>=2017.4.17 in /home/sovitdl/miniconda3/envs/experiments/lib/python3.11/site-packages (from requests>=2.19.0->datasets) (2024.2.2)\n",
      "Requirement already satisfied: sympy in /home/sovitdl/miniconda3/envs/experiments/lib/python3.11/site-packages (from torch>=1.4.0->trl) (1.12)\n",
      "Requirement already satisfied: networkx in /home/sovitdl/miniconda3/envs/experiments/lib/python3.11/site-packages (from torch>=1.4.0->trl) (3.3)\n",
      "Requirement already satisfied: jinja2 in /home/sovitdl/miniconda3/envs/experiments/lib/python3.11/site-packages (from torch>=1.4.0->trl) (3.1.3)\n",
      "Requirement already satisfied: nvidia-cuda-nvrtc-cu12==12.1.105 in /home/sovitdl/miniconda3/envs/experiments/lib/python3.11/site-packages (from torch>=1.4.0->trl) (12.1.105)\n",
      "Requirement already satisfied: nvidia-cuda-runtime-cu12==12.1.105 in /home/sovitdl/miniconda3/envs/experiments/lib/python3.11/site-packages (from torch>=1.4.0->trl) (12.1.105)\n",
      "Requirement already satisfied: nvidia-cuda-cupti-cu12==12.1.105 in /home/sovitdl/miniconda3/envs/experiments/lib/python3.11/site-packages (from torch>=1.4.0->trl) (12.1.105)\n",
      "Requirement already satisfied: nvidia-cudnn-cu12==8.9.2.26 in /home/sovitdl/miniconda3/envs/experiments/lib/python3.11/site-packages (from torch>=1.4.0->trl) (8.9.2.26)\n",
      "Requirement already satisfied: nvidia-cublas-cu12==12.1.3.1 in /home/sovitdl/miniconda3/envs/experiments/lib/python3.11/site-packages (from torch>=1.4.0->trl) (12.1.3.1)\n",
      "Requirement already satisfied: nvidia-cufft-cu12==11.0.2.54 in /home/sovitdl/miniconda3/envs/experiments/lib/python3.11/site-packages (from torch>=1.4.0->trl) (11.0.2.54)\n",
      "Requirement already satisfied: nvidia-curand-cu12==10.3.2.106 in /home/sovitdl/miniconda3/envs/experiments/lib/python3.11/site-packages (from torch>=1.4.0->trl) (10.3.2.106)\n",
      "Requirement already satisfied: nvidia-cusolver-cu12==11.4.5.107 in /home/sovitdl/miniconda3/envs/experiments/lib/python3.11/site-packages (from torch>=1.4.0->trl) (11.4.5.107)\n",
      "Requirement already satisfied: nvidia-cusparse-cu12==12.1.0.106 in /home/sovitdl/miniconda3/envs/experiments/lib/python3.11/site-packages (from torch>=1.4.0->trl) (12.1.0.106)\n",
      "Requirement already satisfied: nvidia-nccl-cu12==2.20.5 in /home/sovitdl/miniconda3/envs/experiments/lib/python3.11/site-packages (from torch>=1.4.0->trl) (2.20.5)\n",
      "Requirement already satisfied: nvidia-nvtx-cu12==12.1.105 in /home/sovitdl/miniconda3/envs/experiments/lib/python3.11/site-packages (from torch>=1.4.0->trl) (12.1.105)\n",
      "Requirement already satisfied: triton==2.3.0 in /home/sovitdl/miniconda3/envs/experiments/lib/python3.11/site-packages (from torch>=1.4.0->trl) (2.3.0)\n",
      "Requirement already satisfied: nvidia-nvjitlink-cu12 in /home/sovitdl/miniconda3/envs/experiments/lib/python3.11/site-packages (from nvidia-cusolver-cu12==11.4.5.107->torch>=1.4.0->trl) (12.4.127)\n",
      "Requirement already satisfied: docstring-parser>=0.14.1 in /home/sovitdl/miniconda3/envs/experiments/lib/python3.11/site-packages (from tyro>=0.5.11->trl) (0.16)\n",
      "Requirement already satisfied: rich>=11.1.0 in /home/sovitdl/miniconda3/envs/experiments/lib/python3.11/site-packages (from tyro>=0.5.11->trl) (13.7.1)\n",
      "Requirement already satisfied: shtab>=1.5.6 in /home/sovitdl/miniconda3/envs/experiments/lib/python3.11/site-packages (from tyro>=0.5.11->trl) (1.7.1)\n",
      "Requirement already satisfied: psutil in /home/sovitdl/miniconda3/envs/experiments/lib/python3.11/site-packages (from accelerate->trl) (5.9.8)\n",
      "Requirement already satisfied: python-dateutil>=2.8.2 in /home/sovitdl/miniconda3/envs/experiments/lib/python3.11/site-packages (from pandas->datasets) (2.9.0.post0)\n",
      "Requirement already satisfied: pytz>=2020.1 in /home/sovitdl/miniconda3/envs/experiments/lib/python3.11/site-packages (from pandas->datasets) (2024.1)\n",
      "Requirement already satisfied: tzdata>=2022.7 in /home/sovitdl/miniconda3/envs/experiments/lib/python3.11/site-packages (from pandas->datasets) (2024.1)\n",
      "Requirement already satisfied: six>=1.5 in /home/sovitdl/miniconda3/envs/experiments/lib/python3.11/site-packages (from python-dateutil>=2.8.2->pandas->datasets) (1.16.0)\n",
      "Requirement already satisfied: markdown-it-py>=2.2.0 in /home/sovitdl/miniconda3/envs/experiments/lib/python3.11/site-packages (from rich>=11.1.0->tyro>=0.5.11->trl) (3.0.0)\n",
      "Requirement already satisfied: pygments<3.0.0,>=2.13.0 in /home/sovitdl/miniconda3/envs/experiments/lib/python3.11/site-packages (from rich>=11.1.0->tyro>=0.5.11->trl) (2.18.0)\n",
      "Requirement already satisfied: MarkupSafe>=2.0 in /home/sovitdl/miniconda3/envs/experiments/lib/python3.11/site-packages (from jinja2->torch>=1.4.0->trl) (2.1.5)\n",
      "Requirement already satisfied: mpmath>=0.19 in /home/sovitdl/miniconda3/envs/experiments/lib/python3.11/site-packages (from sympy->torch>=1.4.0->trl) (1.3.0)\n",
      "Requirement already satisfied: mdurl~=0.1 in /home/sovitdl/miniconda3/envs/experiments/lib/python3.11/site-packages (from markdown-it-py>=2.2.0->rich>=11.1.0->tyro>=0.5.11->trl) (0.1.2)\n"
     ]
    }
   ],
   "source": [
    "!pip install -U datasets transformers trl"
   ]
  },
  {
   "cell_type": "markdown",
   "id": "79a25494",
   "metadata": {
    "_cell_guid": "b1076dfc-b9ad-4769-8c92-a6c4dae69d19",
    "_uuid": "8f2839f25d086af736a60e9eeb907d3b93b6e0e5",
    "id": "e0keS6O7ja4V",
    "papermill": {
     "duration": 0.053204,
     "end_time": "2024-02-27T01:41:19.517559",
     "exception": false,
     "start_time": "2024-02-27T01:41:19.464355",
     "status": "completed"
    },
    "tags": []
   },
   "source": [
    "## Imports"
   ]
  },
  {
   "cell_type": "code",
   "execution_count": 2,
   "id": "d08322c8",
   "metadata": {
    "executionInfo": {
     "elapsed": 15263,
     "status": "ok",
     "timestamp": 1711285873572,
     "user": {
      "displayName": "Debugger Cafe",
      "userId": "06353083029077617508"
     },
     "user_tz": -330
    },
    "id": "1uyQitYoja4V",
    "papermill": {
     "duration": 22.233414,
     "end_time": "2024-02-27T01:41:41.804881",
     "exception": false,
     "start_time": "2024-02-27T01:41:19.571467",
     "status": "completed"
    },
    "tags": []
   },
   "outputs": [],
   "source": [
    "from datasets import load_dataset\n",
    "from transformers import (\n",
    "    AutoTokenizer,\n",
    "    AutoModelForCausalLM,\n",
    "    TrainingArguments,\n",
    "    Trainer\n",
    ")\n",
    "from trl import SFTTrainer\n",
    "\n",
    "import os\n",
    "import torch"
   ]
  },
  {
   "cell_type": "markdown",
   "id": "a8fdd64e",
   "metadata": {
    "id": "AcOir2yUja4V",
    "papermill": {
     "duration": 0.055575,
     "end_time": "2024-02-27T01:41:41.915777",
     "exception": false,
     "start_time": "2024-02-27T01:41:41.860202",
     "status": "completed"
    },
    "tags": []
   },
   "source": [
    "## Configuration"
   ]
  },
  {
   "cell_type": "code",
   "execution_count": 3,
   "id": "bd86e13a",
   "metadata": {
    "executionInfo": {
     "elapsed": 1,
     "status": "ok",
     "timestamp": 1711286798202,
     "user": {
      "displayName": "Debugger Cafe",
      "userId": "06353083029077617508"
     },
     "user_tz": -330
    },
    "id": "xzYv9bVWja4W",
    "papermill": {
     "duration": 0.064144,
     "end_time": "2024-02-27T01:41:42.035217",
     "exception": false,
     "start_time": "2024-02-27T01:41:41.971073",
     "status": "completed"
    },
    "tags": []
   },
   "outputs": [],
   "source": [
    "batch_size = 1\n",
    "num_workers = os.cpu_count()\n",
    "epochs = 5\n",
    "bf16 = True\n",
    "fp16 = False\n",
    "gradient_accumulation_steps = 8\n",
    "context_length = 1024\n",
    "learning_rate = 0.0002\n",
    "model_name = 'facebook/opt-350m'\n",
    "out_dir = 'outputs/opt_350m_summarizer'\n",
    "seed = 42"
   ]
  },
  {
   "cell_type": "markdown",
   "id": "45f5d9ad",
   "metadata": {
    "id": "G8OlnHHBja4W",
    "papermill": {
     "duration": 0.11626,
     "end_time": "2024-02-27T01:41:42.206951",
     "exception": false,
     "start_time": "2024-02-27T01:41:42.090691",
     "status": "completed"
    },
    "tags": []
   },
   "source": [
    "## Dataset Preparation"
   ]
  },
  {
   "cell_type": "code",
   "execution_count": 4,
   "id": "3c911912",
   "metadata": {
    "colab": {
     "base_uri": "https://localhost:8080/",
     "height": 420,
     "referenced_widgets": [
      "42916ca4775641b283ebcea299798cff",
      "a4a4db37118a445cae7d65982120e56b",
      "21da089babee4b588ba18f6e1e602e3d",
      "7400aed6789a4344a4d7b2534456e994",
      "222e0bf320764651a5952a2615ed98f6",
      "10de4d3353ab48e8a66f0ba8590b5976",
      "31f6cb7b53af4d9f9fd448b857ff7854",
      "cb335c401f6542d48449fec6e1b60d95",
      "a4dcb8065f5d4bc6a2ebc115c4b3a51a",
      "99063c861cb44727876ef6bae384a442",
      "8a8ac477631b4ac7b14fee0f2bd79b98",
      "0b8d05668e46425dae178ced5ce0c83c",
      "e279e4d83b4044fc9ead8e04bcfcb8fc",
      "956c56a89b684b1fb80227d2609fcf16",
      "a6e6283a7cc642108eaae6aec21d0fa4",
      "8ab2dd8375c94eb482cffa628472401d",
      "0ccf2164328c427e8dc2572cd255eb61",
      "ffb81d456c564b189db55e52c9dd3d4e",
      "42283ce8cab3416ebf57e53eab965ba5",
      "48449fb57195448ca8da6a8f13767faf",
      "74ee89414fff41128e920a1c532f6141",
      "5d4aa28e2c8c4b4f93c516abd3cb0226",
      "6cb893e92a1b4d16a8f3dd1d04f1ac63",
      "c7342141fcde413eaac853d36be975d4",
      "431c7a736bf34972b9c53fddc5fe354d",
      "bfcbfb910eec4f2d9c892b4354b5883a",
      "81edabfc33ca4463bf85a08170633ac0",
      "0d8cabee6cc747859b0fde69eda21fb6",
      "707b3191109c412db58ecfbcc2a599dd",
      "7af802ea864147959290ac75a94088f6",
      "f1213c049af342e3bce482416c2eb60d",
      "e1cb12e3f3cf4b76ae66129b895e47ff",
      "cb83436c968747ddba562891232e1d29",
      "3805f357295947ca814561f60f79149f",
      "99daf2308d0d4b268d8c578bbf20c6ac",
      "96d4e62fb6b44f95b8d85cab6355f815",
      "494e2e504ae84a4b803a120bf6202659",
      "e68f78291aa54043ae123b7bd1296d1c",
      "d723e5230db245cfa5ca96681dd057c7",
      "6b4c96fb9a724d6c8d5238082f7c66eb",
      "c419b75f9e054470b218b3d4f2f08c39",
      "f83e6c60caaf4c128c5b26cf56f29950",
      "7d7130ea87f645179552c7dce7471644",
      "4c6128765fd54099ac604e7e69db3489",
      "8bfe84a5a3e14e2e8174303efde94c72",
      "63eb204bd9ba4e36958142e1e17b6cf7",
      "831bf10c50d34088bfdbc906e4f3a98f",
      "bba4a1c3233d4dc2bd4531e891572d47",
      "642c937e28b445999874e80e6bff83a3",
      "f4ef1de9f71e45a28db327ec4e6fac05",
      "683752aeeaa9412490840e86e70fc74e",
      "45e80102bf924de3a04c30b16ca9cb8d",
      "a0775d0a655347239c550d9b1abe1f1d",
      "9df55bab55434bf58b391c949fd97912",
      "691dd05ab4b04602aa48454ea5833dec"
     ]
    },
    "executionInfo": {
     "elapsed": 7862,
     "status": "ok",
     "timestamp": 1711286684844,
     "user": {
      "displayName": "Debugger Cafe",
      "userId": "06353083029077617508"
     },
     "user_tz": -330
    },
    "id": "svMsK2SHja4W",
    "outputId": "30ac2f55-c3c5-43b7-9be8-5a22473838a3",
    "papermill": {
     "duration": 7.879301,
     "end_time": "2024-02-27T01:41:50.141656",
     "exception": false,
     "start_time": "2024-02-27T01:41:42.262355",
     "status": "completed"
    },
    "tags": []
   },
   "outputs": [
    {
     "name": "stdout",
     "output_type": "stream",
     "text": [
      "Dataset({\n",
      "    features: ['File_path', 'Articles', 'Summaries'],\n",
      "    num_rows: 1779\n",
      "})\n",
      "Dataset({\n",
      "    features: ['File_path', 'Articles', 'Summaries'],\n",
      "    num_rows: 445\n",
      "})\n"
     ]
    }
   ],
   "source": [
    "dataset = load_dataset('gopalkalpande/bbc-news-summary', split='train')\n",
    "full_dataset = dataset.train_test_split(test_size=0.2, shuffle=True, seed=seed)\n",
    "dataset_train = full_dataset['train']\n",
    "dataset_valid = full_dataset['test']\n",
    " \n",
    "print(dataset_train)\n",
    "print(dataset_valid)"
   ]
  },
  {
   "cell_type": "code",
   "execution_count": 5,
   "id": "3cb54569",
   "metadata": {
    "colab": {
     "base_uri": "https://localhost:8080/"
    },
    "executionInfo": {
     "elapsed": 3,
     "status": "ok",
     "timestamp": 1711286684844,
     "user": {
      "displayName": "Debugger Cafe",
      "userId": "06353083029077617508"
     },
     "user_tz": -330
    },
    "id": "tYHm3qs_ja4W",
    "outputId": "02dc4393-a46c-42ef-f152-bd0969795b2d",
    "papermill": {
     "duration": 0.066199,
     "end_time": "2024-02-27T01:41:50.264229",
     "exception": false,
     "start_time": "2024-02-27T01:41:50.198030",
     "status": "completed"
    },
    "tags": []
   },
   "outputs": [
    {
     "name": "stdout",
     "output_type": "stream",
     "text": [
      "{'File_path': 'entertainment', 'Articles': 'Angels \\'favourite funeral song\\'..Angels by Robbie Williams is the song Britons would most like played at their funeral, a survey has suggested...While the melancholy hit topped the UK poll, Europeans favoured Queen\\'s more upbeat anthem The Show Must Go On as their first choice. Frank Sinatra\\'s My Way was second in the UK vote with Monty Python\\'s Always Look on the Bright Side of Life in third place. More than 45,000 people were surveyed by digital TV station Music Choice...The European chart, which included Denmark, France and Germany, put Led Zeppelin\\'s Stairway to Heaven in second and AC/DC\\'s Highway to Hell in third. Queen\\'s Who Wants to Live Forever was highly favoured by both UK and European voters...Both lists featured only one traditional or classic song each, with Britons requesting the Royal Scots Dragoon Guards\\' Amazing Grace and their continental counterparts opting for Mozart\\'s Requiem. \"Wanting to share your most treasured musical gem with those you\\'re leaving behind is the perfect way to sign off and leave a lasting impression,\" Music Choice music and marketing manager Simon George said.', 'Summaries': \"Queen's Who Wants to Live Forever was highly favoured by both UK and European voters.While the melancholy hit topped the UK poll, Europeans favoured Queen's more upbeat anthem The Show Must Go On as their first choice.Frank Sinatra's My Way was second in the UK vote with Monty Python's Always Look on the Bright Side of Life in third place.Angels by Robbie Williams is the song Britons would most like played at their funeral, a survey has suggested.\"}\n"
     ]
    }
   ],
   "source": [
    "print(dataset_train[0])"
   ]
  },
  {
   "cell_type": "code",
   "execution_count": 6,
   "id": "8f9b1125",
   "metadata": {
    "executionInfo": {
     "elapsed": 389,
     "status": "ok",
     "timestamp": 1711286758762,
     "user": {
      "displayName": "Debugger Cafe",
      "userId": "06353083029077617508"
     },
     "user_tz": -330
    },
    "id": "Dq5zQme5ja4W",
    "papermill": {
     "duration": 0.065588,
     "end_time": "2024-02-27T01:41:53.340075",
     "exception": false,
     "start_time": "2024-02-27T01:41:53.274487",
     "status": "completed"
    },
    "tags": []
   },
   "outputs": [],
   "source": [
    "# def preprocess_function(example):\n",
    "#     text = f\"### ARTICLE:\\n{example['Articles']}\\n### SUMMARY:\\n{example['Summaries']}\\n\"\n",
    "#     return text\n",
    "\n",
    "def preprocess_function(example):\n",
    "    output_text = []\n",
    "    for i in range(len(example['Articles'])):\n",
    "        text = f\"### Instruction:\\nSummarize the following article.\\n\\n### Input:\\n{example['Articles'][i]}\\n\\n### Response:\\n{example['Summaries'][i]}</s>\\n\"\n",
    "        output_text.append(text)\n",
    "    return output_text"
   ]
  },
  {
   "cell_type": "markdown",
   "id": "e7cb23dd",
   "metadata": {
    "id": "-DtStE0Xja4W",
    "papermill": {
     "duration": 0.059713,
     "end_time": "2024-02-27T01:43:12.798481",
     "exception": false,
     "start_time": "2024-02-27T01:43:12.738768",
     "status": "completed"
    },
    "tags": []
   },
   "source": [
    "## Model"
   ]
  },
  {
   "cell_type": "code",
   "execution_count": 7,
   "id": "76c96c64",
   "metadata": {
    "executionInfo": {
     "elapsed": 436,
     "status": "ok",
     "timestamp": 1711286803552,
     "user": {
      "displayName": "Debugger Cafe",
      "userId": "06353083029077617508"
     },
     "user_tz": -330
    },
    "id": "mOyf0Zyija4W"
   },
   "outputs": [
    {
     "name": "stderr",
     "output_type": "stream",
     "text": [
      "/home/sovitdl/miniconda3/envs/experiments/lib/python3.11/site-packages/huggingface_hub/file_download.py:1132: FutureWarning: `resume_download` is deprecated and will be removed in version 1.0.0. Downloads always resume when possible. If you want to force a new download, use `force_download=True`.\n",
      "  warnings.warn(\n"
     ]
    }
   ],
   "source": [
    "if bf16:\n",
    "    model = AutoModelForCausalLM.from_pretrained(model_name).to(dtype=torch.bfloat16)\n",
    "else:\n",
    "    model = AutoModelForCausalLM.from_pretrained(model_name)"
   ]
  },
  {
   "cell_type": "code",
   "execution_count": 8,
   "id": "10cb5bf0",
   "metadata": {
    "colab": {
     "base_uri": "https://localhost:8080/"
    },
    "executionInfo": {
     "elapsed": 2,
     "status": "ok",
     "timestamp": 1711286803552,
     "user": {
      "displayName": "Debugger Cafe",
      "userId": "06353083029077617508"
     },
     "user_tz": -330
    },
    "id": "lc4ZVpu7ja4X",
    "outputId": "6821b21f-99d4-4ded-b6b2-af0ae541cda9",
    "papermill": {
     "duration": 2.127713,
     "end_time": "2024-02-27T01:43:14.983578",
     "exception": false,
     "start_time": "2024-02-27T01:43:12.855865",
     "status": "completed"
    },
    "tags": []
   },
   "outputs": [
    {
     "name": "stdout",
     "output_type": "stream",
     "text": [
      "OPTForCausalLM(\n",
      "  (model): OPTModel(\n",
      "    (decoder): OPTDecoder(\n",
      "      (embed_tokens): Embedding(50272, 512, padding_idx=1)\n",
      "      (embed_positions): OPTLearnedPositionalEmbedding(2050, 1024)\n",
      "      (project_out): Linear(in_features=1024, out_features=512, bias=False)\n",
      "      (project_in): Linear(in_features=512, out_features=1024, bias=False)\n",
      "      (layers): ModuleList(\n",
      "        (0-23): 24 x OPTDecoderLayer(\n",
      "          (self_attn): OPTAttention(\n",
      "            (k_proj): Linear(in_features=1024, out_features=1024, bias=True)\n",
      "            (v_proj): Linear(in_features=1024, out_features=1024, bias=True)\n",
      "            (q_proj): Linear(in_features=1024, out_features=1024, bias=True)\n",
      "            (out_proj): Linear(in_features=1024, out_features=1024, bias=True)\n",
      "          )\n",
      "          (activation_fn): ReLU()\n",
      "          (self_attn_layer_norm): LayerNorm((1024,), eps=1e-05, elementwise_affine=True)\n",
      "          (fc1): Linear(in_features=1024, out_features=4096, bias=True)\n",
      "          (fc2): Linear(in_features=4096, out_features=1024, bias=True)\n",
      "          (final_layer_norm): LayerNorm((1024,), eps=1e-05, elementwise_affine=True)\n",
      "        )\n",
      "      )\n",
      "    )\n",
      "  )\n",
      "  (lm_head): Linear(in_features=512, out_features=50272, bias=False)\n",
      ")\n",
      "331,196,416 total parameters.\n",
      "331,196,416 training parameters.\n"
     ]
    }
   ],
   "source": [
    "print(model)\n",
    "# Total parameters and trainable parameters.\n",
    "total_params = sum(p.numel() for p in model.parameters())\n",
    "print(f\"{total_params:,} total parameters.\")\n",
    "total_trainable_params = sum(\n",
    "    p.numel() for p in model.parameters() if p.requires_grad)\n",
    "print(f\"{total_trainable_params:,} training parameters.\")"
   ]
  },
  {
   "cell_type": "markdown",
   "id": "adbc2a5e",
   "metadata": {
    "id": "pAw6Uu__ja4X"
   },
   "source": [
    "## Tokenizer"
   ]
  },
  {
   "cell_type": "code",
   "execution_count": 9,
   "id": "cc5835bc",
   "metadata": {
    "executionInfo": {
     "elapsed": 1,
     "status": "ok",
     "timestamp": 1711286803552,
     "user": {
      "displayName": "Debugger Cafe",
      "userId": "06353083029077617508"
     },
     "user_tz": -330
    },
    "id": "cIyYzqIUja4X"
   },
   "outputs": [],
   "source": [
    "tokenizer = AutoTokenizer.from_pretrained(\n",
    "    model_name,\n",
    "    trust_remote_code=True,\n",
    "    use_fast=False\n",
    ")"
   ]
  },
  {
   "cell_type": "code",
   "execution_count": 10,
   "id": "0ec40b46-7a6d-4b74-a543-865066372619",
   "metadata": {},
   "outputs": [],
   "source": [
    "tokenizer.add_eos_token = True"
   ]
  },
  {
   "cell_type": "code",
   "execution_count": 11,
   "id": "6a76d438-514d-4db1-bf3e-42e4f7b948da",
   "metadata": {},
   "outputs": [],
   "source": [
    "tokenizer.bos_token = '<s>'"
   ]
  },
  {
   "cell_type": "code",
   "execution_count": 12,
   "id": "06ab9a66-096a-4b2d-ab7a-f9d9bcd8ef5b",
   "metadata": {},
   "outputs": [
    {
     "name": "stdout",
     "output_type": "stream",
     "text": [
      "GPT2Tokenizer(name_or_path='facebook/opt-350m', vocab_size=50265, model_max_length=1000000000000000019884624838656, is_fast=False, padding_side='right', truncation_side='right', special_tokens={'bos_token': '<s>', 'eos_token': '</s>', 'unk_token': '</s>', 'pad_token': '<pad>'}, clean_up_tokenization_spaces=True),  added_tokens_decoder={\n",
      "\t1: AddedToken(\"<pad>\", rstrip=False, lstrip=False, single_word=False, normalized=True, special=True),\n",
      "\t2: AddedToken(\"</s>\", rstrip=False, lstrip=False, single_word=False, normalized=True, special=True),\n",
      "}\n"
     ]
    }
   ],
   "source": [
    "print(tokenizer)"
   ]
  },
  {
   "cell_type": "markdown",
   "id": "5072d244",
   "metadata": {
    "id": "4-G34oxuja4X",
    "papermill": {
     "duration": 0.058412,
     "end_time": "2024-02-27T01:43:15.352980",
     "exception": false,
     "start_time": "2024-02-27T01:43:15.294568",
     "status": "completed"
    },
    "tags": []
   },
   "source": [
    "## Training"
   ]
  },
  {
   "cell_type": "code",
   "execution_count": 13,
   "id": "2c58495b",
   "metadata": {
    "executionInfo": {
     "elapsed": 2,
     "status": "ok",
     "timestamp": 1711286804452,
     "user": {
      "displayName": "Debugger Cafe",
      "userId": "06353083029077617508"
     },
     "user_tz": -330
    },
    "id": "R8qCvYgaja4X",
    "papermill": {
     "duration": 0.070869,
     "end_time": "2024-02-27T01:43:15.481585",
     "exception": false,
     "start_time": "2024-02-27T01:43:15.410716",
     "status": "completed"
    },
    "tags": []
   },
   "outputs": [],
   "source": [
    "training_args = TrainingArguments(\n",
    "    output_dir=f\"{out_dir}/logs\",\n",
    "    evaluation_strategy='epoch',\n",
    "    weight_decay=0.01,\n",
    "    load_best_model_at_end=True,\n",
    "    per_device_train_batch_size=batch_size,\n",
    "    per_device_eval_batch_size=batch_size,\n",
    "    logging_strategy='epoch',\n",
    "    save_strategy='epoch',\n",
    "    save_total_limit=2,\n",
    "    bf16=bf16,\n",
    "    fp16=fp16,\n",
    "    report_to='tensorboard',\n",
    "    num_train_epochs=epochs,\n",
    "    dataloader_num_workers=num_workers,\n",
    "    gradient_accumulation_steps=gradient_accumulation_steps,\n",
    "    learning_rate=learning_rate,\n",
    "    lr_scheduler_type='constant',\n",
    "    seed=seed\n",
    ")"
   ]
  },
  {
   "cell_type": "code",
   "execution_count": 14,
   "id": "1ef0f444",
   "metadata": {
    "colab": {
     "base_uri": "https://localhost:8080/",
     "height": 153,
     "referenced_widgets": [
      "32ee9ed0d7c7485885e245d78a28c603",
      "783ad2588d7046cba452eed38068e31d",
      "3ca301257e3544c6a300216d5802de37",
      "8cf6f4ce5ff348d58cc1e781ee42932a",
      "6f2593a81ad94772a4de83a5cbb9036d",
      "81c6d0caa5d544df834540847c4aa036",
      "d9e06f02d41a46d989d831d636039483",
      "e44394e7416a4816b36b6bf685b17968",
      "3884325e7e4441b29e76fab1fd12105c",
      "1ea23f3d9a8b462aa1442982457bbb0c",
      "b38aadb2c7734cbe8f0120041a6991ea",
      "b1493f8f091d42ae84229c3c5378f95b",
      "52b113d604514fa3812fe358596467d4",
      "b0e4403cc7fe4317ad71c01b6cc7c812",
      "8ed5fd63f12a4ee781a282723b8d877f",
      "b6d99144d93c4c0198275bc21f9b324a",
      "ce0d6e6c34534949be79efad5ba8c0be",
      "470e0cba8350451c97ff8b4328abfdd8",
      "89f9d03c7446483f9015e7a26ade83af",
      "d0dd84dc339a4828bf51c3aa8717153c",
      "120bcebc614742829d39c3a3c99c17c3",
      "0583a1e631df4d74a01646336a294e84"
     ]
    },
    "executionInfo": {
     "elapsed": 135134,
     "status": "ok",
     "timestamp": 1711286947610,
     "user": {
      "displayName": "Debugger Cafe",
      "userId": "06353083029077617508"
     },
     "user_tz": -330
    },
    "id": "rnlgtE8Vja4X",
    "outputId": "d866c551-5ef0-4b8b-8197-26d4d25afe17",
    "papermill": {
     "duration": 0.311583,
     "end_time": "2024-02-27T01:43:15.850170",
     "exception": false,
     "start_time": "2024-02-27T01:43:15.538587",
     "status": "completed"
    },
    "scrolled": true,
    "tags": []
   },
   "outputs": [
    {
     "data": {
      "application/vnd.jupyter.widget-view+json": {
       "model_id": "b2e56727d27b4602a78c691934a87b72",
       "version_major": 2,
       "version_minor": 0
      },
      "text/plain": [
       "Map:   0%|          | 0/1779 [00:00<?, ? examples/s]"
      ]
     },
     "metadata": {},
     "output_type": "display_data"
    }
   ],
   "source": [
    "trainer = SFTTrainer(\n",
    "    model=model,\n",
    "    train_dataset=dataset_train,\n",
    "    eval_dataset=dataset_train,\n",
    "    max_seq_length=context_length,\n",
    "    tokenizer=tokenizer,\n",
    "    args=training_args,\n",
    "    formatting_func=preprocess_function\n",
    ")"
   ]
  },
  {
   "cell_type": "code",
   "execution_count": 15,
   "id": "6dc662d8",
   "metadata": {
    "colab": {
     "base_uri": "https://localhost:8080/"
    },
    "executionInfo": {
     "elapsed": 409,
     "status": "ok",
     "timestamp": 1711286955190,
     "user": {
      "displayName": "Debugger Cafe",
      "userId": "06353083029077617508"
     },
     "user_tz": -330
    },
    "id": "wU2rr0-3ja4X",
    "outputId": "beee7b37-13ef-4004-ca02-e0bdb8b21440",
    "scrolled": true
   },
   "outputs": [
    {
     "name": "stdout",
     "output_type": "stream",
     "text": [
      "<s>### Instruction:\n",
      "Summarize the following article.\n",
      "\n",
      "### Input:\n",
      "PC photo printers challenge pros..Home printed pictures can be cheaper and higher quality than those from High Street developers, tests shows...A survey carried out by PC Pro magazine looked at which of 100 home photo printers offered a better deal than handing your snaps to a photo lab. The tests found that images from top PC printers kept their colour longer than professionally produced photographs. But using the wrong printer cartridge could means snaps fade in months, warned the magazine...The group test of 100 home photo printers for PCs discovered how much it costs to create images using the devices compared to online developers as well as High Street names such as Jessops, Boots and Snappy Snaps. The comprehensive test also revealed how quickly different printers produced images, the quality of the finished image and how resistant finished pictures were to smudging or water damage. It found that although some ink for printers now costs more than £2 per millilitre it can still be cheaper to produce prints from photographs at home than it is to send them off to a High Street store. \"If you really like your photos, then it's definitely worth printing at home instead of going to the high street, but only if you choose the right printer,\" said Nick Ross, top tester at PC Pro...Mr Ross said that a new generation of printers produced images with brighter colours and that were less likely to fade than many High Street developers or even some professional wedding photographers. Some High Street photo shops can be the cheapest when it came to developing prints that were 6x4in, said Mr Ross, but the test revealed that images 7x5in and 8x10in in size were cheaper to produce at home. According to PC Pro, producing a print 8x10in on an Epson R800 printer using top quality paper costs £1.87. At Jessops the same image would cost £2.50 and at Snappy Snaps £9.99. A 10x7in snap at Boots would cost £4.99. \"Considering how inconvenient it can be to go to the High Street and how silver-halide prints can fade in the sun, we're adamant that it's now better, cheaper and more convenient to print at home,\" he said. Ann Simpson, marketing manager at Snappy Snaps believes the convenience of high street printing will continue to attract customers. \"Some people will want to do their own thing on their computer but the feedback to us is that customers often have to print two or three pictures at home in order to get a good one,\" she said. \"Many people are not skilled at getting the colour, contrast and cropping right and they don't want the hassle,\" she added. The magazine test found that which ink consumers use determined how long their prints lasted before they started fading. It recommended avoiding so-called third-party inks not produced by printer makers because they tended to produce prints that fade the quickest.\n",
      "\n",
      "### Response:\n",
      "The group test of 100 home photo printers for PCs discovered how much it costs to create images using the devices compared to online developers as well as High Street names such as Jessops, Boots and Snappy Snaps.It found that although some ink for printers now costs more than £2 per millilitre it can still be cheaper to produce prints from photographs at home than it is to send them off to a High Street store.Some High Street photo shops can be the cheapest when it came to developing prints that were 6x4in, said Mr Ross, but the test revealed that images 7x5in and 8x10in in size were cheaper to produce at home.\"Considering how inconvenient it can be to go to the High Street and how silver-halide prints can fade in the sun, we're adamant that it's now better, cheaper and more convenient to print at home,\" he said.Mr Ross said that a new generation of printers produced images with brighter colours and that were less likely to fade than many High Street developers or even some professional wedding photographers.According to PC Pro, producing a print 8x10in on an Epson R800 printer using top quality paper costs £1.87.\"If you really like your photos, then it's definitely worth printing at home instead of going to the high street, but only if you choose the right printer,\" said Nick Ross, top tester at PC Pro.Home printed pictures can be cheaper and higher quality than those from High Street developers, tests shows.</s>\n",
      "\n",
      "##################################################\n",
      "<s>### Instruction:\n",
      "Summarize the following article.\n",
      "\n",
      "### Input:\n",
      "Dollar slides ahead of New Year..The US dollar has hit a new record low against the euro and analysts predict that more declines are likely in 2005...Disappointing economic reports dented the currency, which had been rallying after European policy makers said they were worried about the euro's strength. Earlier on Thursday, the Japanese yen touched its lowest versus the euro on concerns about economic growth in Asia. Currency markets have been volatile over the past week because of technical and automated trading and light demand. This has amplified reactions, analysts said, adding that they expect markets to become less jumpy in January...\"People want to go into the weekend and the New Year positioned for a weaker buck,\" said Tim Mazanec, director of foreign exchange at Investors Bank and Trust. The dollar slid to a record $1.3666 versus the euro on Thursday, before bouncing back to $1.3636. Against the yen the dollar was trading down at $103.05...The yen, meanwhile, dropped to 141.60 per euro in afternoon trading. It later strengthened to 140.55. Investors are concerned about the size of the US trade and budget deficits and are betting that George W Bush's administration will allow the dollar to weaken despite saying they favour a strong currency. Also playing on investors' minds are mixed reports about the state of the US economy. On Thursday, disappointing business figures from Chicago brought a sudden end to a rally in the value of the dollar. The National Association of Purchasing Management-Chicago said its index dropped to 61.2, more than analysts had expected. German Chancellor Gerhard Schroeder and Italian Prime Minister Silvio Berlusconi voiced concerns about the strength of the euro. Mr Berlusconi said the euro's strength was \"absolutely worrying\" for Italian exports. Mr Schroeder said in a newspaper article that stability in foreign exchange markets required a correction of global economic imbalances.\n",
      "\n",
      "### Response:\n",
      "Against the yen the dollar was trading down at $103.05.The US dollar has hit a new record low against the euro and analysts predict that more declines are likely in 2005.The dollar slid to a record $1.3666 versus the euro on Thursday, before bouncing back to $1.3636.Disappointing economic reports dented the currency, which had been rallying after European policy makers said they were worried about the euro's strength.The yen, meanwhile, dropped to 141.60 per euro in afternoon trading.Mr Berlusconi said the euro's strength was \"absolutely worrying\" for Italian exports.Earlier on Thursday, the Japanese yen touched its lowest versus the euro on concerns about economic growth in Asia.</s>\n",
      "\n",
      "##################################################\n",
      "<s>### Instruction:\n",
      "Summarize the following article.\n",
      "\n",
      "### Input:\n",
      "Federer joins all-time greats..The last year has seen one player dominate men's tennis, and one country dominate the women's game...Roger Federer became the first man since Mats Wilander in 1988 to win three Grand Slams in one season. And after Anastasia Myskina became the first Russian woman to win a Grand Slam at the French Open, two more followed at Wimbledon and the US Open. Meanwhile, Briton Tim Henman enjoyed his best year, while Greg Rusedski fought back superbly from adversity. Federer began the year as world number one and holder of the Wimbledon and Masters Cup titles, and set about conquering new ground. The Swiss sounded warning of the dominance to come at the Australian Open...He ripped through the draw before beating Marat Safin in the final. Andy Roddick was the only player to put up any real resistance at Wimbledon, and Federer's performance against Lleyton Hewitt in the US Open final was breathtaking. Federer again got the better of Hewitt in the season-ending Masters Cup. His victory in Houston proved to be his 13th successive win in a final, an Open era record. The only major let-down was a third-round loss to Gustavo Kuerten at the French Open, and Roland Garros will be his main target in 2005...There was also a surprise loss to the unheralded Tomas Berdych at the Olympic Games, which saw Chile dominate as Nicoals Massu took the singles and then paired up with Fernando Gonzaelz to win doubles gold. Another major trophy that looks beyond Federer is the Davis Cup, which was won by Spain in a 3-2 home success over the USA in Seville. Roddick struggled on the clay, losing to Rafael Nadal on the opening day before going down to Carlos Moya in the all-important fourth rubber...Henman broke new ground by reaching the semis on clay at the French Open - a stunning effort - and also at the US Open. A quarter-final defeat to Mario Ancic at Wimbledon was disappointing for the limp manner of the Briton's defeat, but he remains optimistic of going further next year...British number two Rusedski endured a rollercoaster year, returning to the circuit after being cleared of a doping offence in March. With his ranking down at 168, many feared the 31-year-old's career was over, but he battled back in the second half of the season to re-enter the top 50. The Russian women finally delivered on their long-recognised promise in 2004, with Myskina, Maria Sharapova and Svetlana Kuznetsova winning Grand Slams, before taking the season-ending Fed Cup. But while the young Russians were on the way up, it was a different story for the Belgians and the Williams sisters. Only veteran Lindsay Davenport held the new wave at bay, a stunning run of form after Wimbledon taking her to number one ahead of Amelie Mauresmo, whose Grand Slam drought goes on. The year started in regulation fashion as Justine Henin-Hardenne beat compatriot Kim Clijsters at the Australian Open...A virus ruined the rest of Henin-Hardenne's year, although she was fit enough to win Olympic gold, but Clijsters had an even more miserable 2004. She suffered a serious wrist injury and then announced the end of her relationship with Lleyton Hewitt, and will be happy to see the year end. In their absence, Myskina thrashed Elena Dementieva in a historic, but woeful, all-Russian final at the French Open. Wimbledon was a more refreshing affair as Sharapova captivated SW19, showing nerves of steel as she battled past Davenport and Serena Williams to take the title...Davenport was a strong favourite for the US Open but, hampered by injury, lost to the powerful and unflappable Kuznetsova in the semis. Kuznetsova went on to give Dementieva another Grand Slam final thrashing, with the latter's wayward serve becoming one of the talking points of the year. With the Russians still improving, the likes of Henin-Hardenne, Clijsters, Davenport, Mauresmo, Venus and Serena will need to be fully fit and motivated in 2005. And it may take their compatriot Safin to challenge Federer on the men's side.\n",
      "\n",
      "### Response:\n",
      "Andy Roddick was the only player to put up any real resistance at Wimbledon, and Federer's performance against Lleyton Hewitt in the US Open final was breathtaking.And after Anastasia Myskina became the first Russian woman to win a Grand Slam at the French Open, two more followed at Wimbledon and the\n",
      "##################################################\n",
      "<s>### Instruction:\n",
      "Summarize the following article.\n",
      "\n",
      "### Input:\n",
      "Marsh executive in guilty plea..An executive at US insurance firm Marsh & McLennan has pleaded guilty to criminal charges in connection with an ongoing fraud and bid-rigging probe...New York Attorney General Elliot Spitzer said senior vice president Robert Stearns had pleaded guilty to scheming to defraud. The offence carries a sentence of 16 months to four years in state prison. Mr Spitzer's office added Mr Stearns had also agreed to testify in future cases during the industry inquiry. \"We are saddened by the development,\" Marsh said in a statement. The company added it would continue to co-operate in the case, adding it was \"committed to resolving the company's legal issues and to serving our clients with the highest standards of transparency and ethics\"...According to a statement from Mr Spitzer's office, the Marsh executive admitted he instructed insurance companies to submit non-competitive bids for insurance business between 2002 and 2004. Those bids were then \"conveyed to Marsh clients under false and fraudulent pretences\". Through the practice, Marsh was allowed to determine which insurers won business from clients, and so control the insurance market, Mr Spitzer's office added. It also protected incumbent insurers when their business was up for renewal and helped Marsh to maximise its fees, a statement said. In one case, an email showed Mr Stearns had instructed a colleague to solicit a non-competitive - or \"B\" - quote from AIG that was \"higher in premium and more restrictive in coverage\" and so fixed the bids in a way that would support the present provider Chubb. The company is also still being examined by US stock market regulator the Securities and Exchange Commission (SEC). Late last month the SEC asked for information about transactions involving holders of 5% or more of the firm's shares.\n",
      "\n",
      "### Response:\n",
      "According to a statement from Mr Spitzer's office, the Marsh executive admitted he instructed insurance companies to submit non-competitive bids for insurance business between 2002 and 2004.Through the practice, Marsh was allowed to determine which insurers won business from clients, and so control the insurance market, Mr Spitzer's office added.It also protected incumbent insurers when their business was up for renewal and helped Marsh to maximise its fees, a statement said.Mr Spitzer's office added Mr Stearns had also agreed to testify in future cases during the industry inquiry.\"We are saddened by the development,\" Marsh said in a statement.An executive at US insurance firm Marsh & McLennan has pleaded guilty to criminal charges in connection with an ongoing fraud and bid-rigging probe.</s>\n",
      "\n",
      "##################################################\n",
      "<s>### Instruction:\n",
      "Summarize the following article.\n",
      "\n",
      "### Input:\n",
      "WorldCom director admits lying..The former chief financial officer at US telecoms firm WorldCom has admitted before a New York court that he used to lie to fellow board members...Speaking at the trial of his former boss Bernard Ebbers, Scott Sullivan said he lied to the board to cover up the hole in WorldCom's finances. Mr Ebbers is on trial for fraud and conspiracy in relation to WorldCom's collapse in 2002. He pleads not guilty. The firm had been overstating its accounts by $11bn (£8.5bn). Mr Sullivan, 42, has already pleaded guilty to fraud and will be sentenced following Mr Ebbers' trial, where he is appearing as a prosecution witness. Mr Ebbers, 63, has always insisted that he was unaware of any hidden shortfalls in WorldCom's finances...In the New York court on Wednesday, Mr Ebbers' lawyer Reid Weingarten asked Mr Sullivan: \"If you believe something is in your interest, you are willing and able to lie to accomplish it, isn't that right?\"..\"On that date, yes. I was lying,\" replied Mr Sullivan. Mr Weingarten has suggested that Mr Sullivan is implicating Mr Ebbers only to win a lighter sentence, something Mr Sullivan denies. Mr Sullivan also rejects a suggestion that he had once told fellow WorldCom board member Bert Roberts that Mr Ebbers was unaware of the accounting fraud at WorldCom. The trial of Mr Ebbers is now into its third week...Under 23 hours of questioning from a federal prosecutor, Mr Sullivan has previously told the court that he repeatedly warned Mr Ebbers that falsifying the books would be the only way to meet Wall Street revenue and earnings expectations. Mr Sullivan claims that Mr Ebbers refused to stop the fraud. Mr Ebbers could face a sentence of 85 years if convicted of all the charges he is facing. WorldCom's problems appear to have begun with the collapse of the dotcom boom which cut its business from internet companies. Prosecutors allege that the company's top executives responded by orchestrating massive fraud over a two-year period. WorldCom emerged from bankruptcy protection in 2004, and is now known as MCI.\n",
      "\n",
      "### Response:\n",
      "Mr Sullivan, 42, has already pleaded guilty to fraud and will be sentenced following Mr Ebbers' trial, where he is appearing as a prosecution witness.Mr Sullivan claims that Mr Ebbers refused to stop the fraud.Mr Weingarten has suggested that Mr Sullivan is implicating Mr Ebbers only to win a lighter sentence, something Mr Sullivan denies.Mr Sullivan also rejects a suggestion that he had once told fellow WorldCom board member Bert Roberts that Mr Ebbers was unaware of the accounting fraud at WorldCom.Mr Ebbers is on trial for fraud and conspiracy in relation to WorldCom's collapse in 2002.The trial of Mr Ebbers is now into its third week.In the New York court on Wednesday, Mr Ebbers' lawyer Reid Weingarten asked Mr Sullivan: \"If you believe something is in your interest, you are willing and able to lie to accomplish it, isn't that right?\"Mr Ebbers, 63, has always insisted that he was unaware of any hidden shortfalls in WorldCom's finances.</s>\n",
      "\n",
      "##################################################\n",
      "<s>### Instruction:\n",
      "Summarize the following article.\n",
      "\n",
      "### Input:\n",
      "Women MPs reveal sexist taunts..Women MPs endure \"shocking\" levels of sexist abuse at the hands of their male counterparts, a new study shows...Male MPs pretended to juggle imaginary breasts and jeered \"melons\" as women made Commons speeches, researchers from Birkbeck College were told. Labour's Yvette Cooper said she found it hard to persuade Commons officials she was a minister and not a secretary. Some 83 MPs gave their answers in 100 hours of taped interviews for the study \"Whose Secretary are You, minister\"...The research team, under Professor Joni Lovenduski, had set out to look at the achievements and experiences of women at Westminster. But what emerged was complaints from MPs of all parties of sexist barracking in the Chamber, sexist insults and patronising assumptions about their abilities. Barbara Follet, one of the so-called \"Blair Babes\" elected in 1997, told researchers: \"I remember some Conservatives - whenever a Labour woman got up to speak they would take their breasts - imaginary breasts - in their hands and wiggle them and say'melons' as we spoke.\" Former Liberal Democrat MP Jackie Ballard recalled a stream of remarks from a leading MP on topics such as women's legs or their sexual persuasion. And ex-Tory education secretary Gillian Shepherd remembered how one of her male colleagues called all women \"Betty\"...\"When I said, 'Look you know my name isn't Betty', he said, 'ah but you're all the same, so I call you all Betty'.\" Harriet Harman told researchers of the sheer hostility prompted by her advancement to the Cabinet: \"Well, you've only succeeded because you're a woman.\" Another current member of the Cabinet says she was told: \"Oh, you've had a very fast rise, who have you been sleeping with?\" Even after the great influx of women MPs at the 1997 general election, and greater numbers of women in the Cabinet, female MPs often say they feel stuck on the edge of a male world...Liberal Democrat Sarah Teather, the most recent female MP to be elected, told researchers: \"Lots of people say it's like an old boys club. \"I've always said to me it feels more like a teenage public school - you know a public school full of teenagers.\" Prof Joni Lovenduski, who conducted the study with the help of Margaret Moran MP and a team of journalists, said she was shocked at the findings. \"We expected a bit of this but nothing like this extent. We expected to find a couple of shocking episodes.\" But she said there was a difference between the experiences of women before the 1997 intake and afterwards. This was mainly because there were more women present in Parliament who were not prepared to \"put up with\" the sexist attitudes they came across, Prof Lovenduski said. But she added: \"Some women, including the women who came in 1997, received extraordinary treatment and I am not convinced that if the number of women changed back to what it was before 1997 that things would not change back. \"What I think is shocking to the general public is that these things go on in the House of Commons.\" The interviews are to be placed in the British Library as a historical record.\n",
      "\n",
      "### Response:\n",
      "But she said there was a difference between the experiences of women before the 1997 intake and afterwards.Even after the great influx of women MPs at the 1997 general election, and greater numbers of women in the Cabinet, female MPs often say they feel stuck on the edge of a male world.This was mainly because there were more women present in Parliament who were not prepared to \"put up with\" the sexist attitudes they came across, Prof Lovenduski said.Male MPs pretended to juggle imaginary breasts and jeered \"melons\" as women made Commons speeches, researchers from Birkbeck College were told.Prof Joni Lovenduski, who conducted the study with the help of Margaret Moran MP and a team of journalists, said she was shocked at the findings.But she added: \"Some women, including the women who came in 1997, received extraordinary treatment and I am not convinced that if the number of women changed back to what it was before 1997 that things would not change back.Labour's Yvette Cooper said she found it hard to persuade Commons officials she was a minister and not a secretary.Women MPs endure \"shocking\" levels of sexist abuse at the hands of their male counterparts, a new study shows.And ex-Tory education secretary Gillian Shepherd remembered how one of her male colleagues called all women \"Betty\".Barbara Follet, one of the so-called \"Blair Babes\" elected in 1997, told researchers: \"I remember some Conservatives - whenever a Labour woman got up to speak they would take their breasts - imaginary breasts - in their hands and wiggle them and say'melons' as we spoke.\"</s>\n",
      "\n",
      "##################################################\n"
     ]
    }
   ],
   "source": [
    "dataloader = trainer.get_train_dataloader()\n",
    "for i, sample in enumerate(dataloader):\n",
    "    print(tokenizer.decode(sample['input_ids'][0]))\n",
    "    print('#'*50)\n",
    "    if i == 5:\n",
    "        break"
   ]
  },
  {
   "cell_type": "markdown",
   "id": "8d78ef5a",
   "metadata": {
    "id": "KkYCQXt7ja4X"
   },
   "source": [
    "## Train"
   ]
  },
  {
   "cell_type": "code",
   "execution_count": 16,
   "id": "4ee7653f",
   "metadata": {
    "colab": {
     "base_uri": "https://localhost:8080/",
     "height": 345
    },
    "executionInfo": {
     "elapsed": 251200,
     "status": "error",
     "timestamp": 1711287209449,
     "user": {
      "displayName": "Debugger Cafe",
      "userId": "06353083029077617508"
     },
     "user_tz": -330
    },
    "id": "vSJy4962ja4X",
    "outputId": "40fe8572-58fc-47e3-ca64-6d2abaab4a0a",
    "papermill": {
     "duration": 16862.51137,
     "end_time": "2024-02-27T06:24:18.419513",
     "exception": false,
     "start_time": "2024-02-27T01:43:15.908143",
     "status": "completed"
    },
    "tags": []
   },
   "outputs": [
    {
     "data": {
      "text/html": [
       "\n",
       "    <div>\n",
       "      \n",
       "      <progress value='1110' max='1110' style='width:300px; height:20px; vertical-align: middle;'></progress>\n",
       "      [1110/1110 17:42, Epoch 4/5]\n",
       "    </div>\n",
       "    <table border=\"1\" class=\"dataframe\">\n",
       "  <thead>\n",
       " <tr style=\"text-align: left;\">\n",
       "      <th>Epoch</th>\n",
       "      <th>Training Loss</th>\n",
       "      <th>Validation Loss</th>\n",
       "    </tr>\n",
       "  </thead>\n",
       "  <tbody>\n",
       "    <tr>\n",
       "      <td>0</td>\n",
       "      <td>2.327700</td>\n",
       "      <td>1.710479</td>\n",
       "    </tr>\n",
       "    <tr>\n",
       "      <td>1</td>\n",
       "      <td>1.807700</td>\n",
       "      <td>1.320235</td>\n",
       "    </tr>\n",
       "    <tr>\n",
       "      <td>2</td>\n",
       "      <td>1.436800</td>\n",
       "      <td>1.006781</td>\n",
       "    </tr>\n",
       "    <tr>\n",
       "      <td>3</td>\n",
       "      <td>1.141700</td>\n",
       "      <td>0.741407</td>\n",
       "    </tr>\n",
       "    <tr>\n",
       "      <td>4</td>\n",
       "      <td>0.884600</td>\n",
       "      <td>0.541737</td>\n",
       "    </tr>\n",
       "  </tbody>\n",
       "</table><p>"
      ],
      "text/plain": [
       "<IPython.core.display.HTML object>"
      ]
     },
     "metadata": {},
     "output_type": "display_data"
    },
    {
     "name": "stderr",
     "output_type": "stream",
     "text": [
      "There were missing keys in the checkpoint model loaded: ['lm_head.weight'].\n"
     ]
    }
   ],
   "source": [
    "history = trainer.train()"
   ]
  },
  {
   "cell_type": "code",
   "execution_count": 17,
   "id": "046e8f61",
   "metadata": {
    "executionInfo": {
     "elapsed": 2,
     "status": "aborted",
     "timestamp": 1711287209449,
     "user": {
      "displayName": "Debugger Cafe",
      "userId": "06353083029077617508"
     },
     "user_tz": -330
    },
    "id": "NpgJ6G7wja4X",
    "papermill": {
     "duration": 0.744863,
     "end_time": "2024-02-27T06:24:19.221038",
     "exception": false,
     "start_time": "2024-02-27T06:24:18.476175",
     "status": "completed"
    },
    "tags": []
   },
   "outputs": [
    {
     "data": {
      "text/plain": [
       "('outputs/opt_350m_summarizer/best_model/tokenizer_config.json',\n",
       " 'outputs/opt_350m_summarizer/best_model/special_tokens_map.json',\n",
       " 'outputs/opt_350m_summarizer/best_model/vocab.json',\n",
       " 'outputs/opt_350m_summarizer/best_model/merges.txt',\n",
       " 'outputs/opt_350m_summarizer/best_model/added_tokens.json')"
      ]
     },
     "execution_count": 17,
     "metadata": {},
     "output_type": "execute_result"
    }
   ],
   "source": [
    "model.save_pretrained(f\"{out_dir}/best_model\")\n",
    "tokenizer.save_pretrained(f\"{out_dir}/best_model\")"
   ]
  },
  {
   "cell_type": "markdown",
   "id": "3c762fe1",
   "metadata": {
    "id": "JvWufOjaja4X",
    "papermill": {
     "duration": 0.056529,
     "end_time": "2024-02-27T06:24:19.335075",
     "exception": false,
     "start_time": "2024-02-27T06:24:19.278546",
     "status": "completed"
    },
    "tags": []
   },
   "source": [
    "## Inference"
   ]
  },
  {
   "cell_type": "code",
   "execution_count": 18,
   "id": "000ec059",
   "metadata": {
    "id": "48HHi04Pja4X",
    "papermill": {
     "duration": 0.077644,
     "end_time": "2024-02-27T06:24:19.468887",
     "exception": false,
     "start_time": "2024-02-27T06:24:19.391243",
     "status": "completed"
    },
    "tags": []
   },
   "outputs": [],
   "source": [
    "from transformers import AutoModelForCausalLM, AutoTokenizer, pipeline\n",
    "\n",
    "import torch"
   ]
  },
  {
   "cell_type": "code",
   "execution_count": 19,
   "id": "90fb9017",
   "metadata": {
    "id": "l6Aa_Lp_ja4X",
    "papermill": {
     "duration": 1.152558,
     "end_time": "2024-02-27T06:24:20.685359",
     "exception": false,
     "start_time": "2024-02-27T06:24:19.532801",
     "status": "completed"
    },
    "tags": []
   },
   "outputs": [],
   "source": [
    "model = AutoModelForCausalLM.from_pretrained(\n",
    "    'outputs/opt_350m_summarizer/best_model',\n",
    "    device_map='cuda'\n",
    ")\n",
    "tokenizer = AutoTokenizer.from_pretrained('outputs/opt_350m_summarizer/best_model/')"
   ]
  },
  {
   "cell_type": "code",
   "execution_count": 20,
   "id": "2ca3df5d",
   "metadata": {},
   "outputs": [],
   "source": [
    "def post_process(text):\n",
    "    return ''.join(text.split('### SUMMARY:')[0])"
   ]
  },
  {
   "cell_type": "code",
   "execution_count": 26,
   "id": "f67775dd",
   "metadata": {
    "id": "EHOMuWIWja4X",
    "papermill": {
     "duration": 0.067267,
     "end_time": "2024-02-27T06:24:20.809714",
     "exception": false,
     "start_time": "2024-02-27T06:24:20.742447",
     "status": "completed"
    },
    "tags": []
   },
   "outputs": [],
   "source": [
    "prompt = \"\"\"<s>### Instruction:\n",
    "Summarize the following article.\n",
    "\n",
    "### Input:\n",
    "George Russell and Fernando Alonso have each offered their take on the incident that preceded Russell’s dramatic crash on the penultimate lap of the Australian Grand Prix following their battle for P6, with the Spaniard subsequently hit with a 20-second penalty after the race.\n",
    "\n",
    "Russell had been chasing the Aston Martin for several laps following his final pit stop but, after getting close towards the Turn 6/7 complex, lost control of his Mercedes and hit the barriers, with the W15 then ricocheting back onto the track and ending up on its side.\n",
    "\n",
    "READ MORE: Alonso hit with post-race time penalty in Australia over ‘potentially dangerous’ driving before Russell crash\n",
    "\n",
    "While Russell fortunately reported that he was unharmed in the incident, it ultimately ended what had been a tough day for the Silver Arrows following Lewis Hamilton’s earlier retirement due to a mechanical issue.\n",
    "\n",
    "It was confirmed after the race that both Russell and Alonso had been summoned to the stewards over the incident, with the Aston Martin man hit with a 20-second penalty for what the stewards deemed was \"potentially dangerous\" driving. Speaking before the hearing, Alonso gave his version of events during a conversation on Sky Sports.\n",
    "\n",
    "“Well, obviously I was focusing in front of me and not behind,” the Spaniard explained. “I had some issues for the last 15 laps, something on the battery on the deployment, so definitely I was struggling a little bit at the end of the race, but yeah, I cannot focus on the cars behind. But he’s okay apparently, I saw the car and I was very worried.”\n",
    "\n",
    "### Response:\n",
    "\"\"\""
   ]
  },
  {
   "cell_type": "code",
   "execution_count": 27,
   "id": "87571f85",
   "metadata": {
    "id": "58WzTUb4ja4X",
    "papermill": {
     "duration": 0.064942,
     "end_time": "2024-02-27T06:24:20.931485",
     "exception": false,
     "start_time": "2024-02-27T06:24:20.866543",
     "status": "completed"
    },
    "tags": []
   },
   "outputs": [
    {
     "name": "stdout",
     "output_type": "stream",
     "text": [
      "<s>### Instruction:\n",
      "Summarize the following article.\n",
      "\n",
      "### Input:\n",
      "George Russell and Fernando Alonso have each offered their take on the incident that preceded Russell’s dramatic crash on the penultimate lap of the Australian Grand Prix following their battle for P6, with the Spaniard subsequently hit with a 20-second penalty after the race.\n",
      "\n",
      "Russell had been chasing the Aston Martin for several laps following his final pit stop but, after getting close towards the Turn 6/7 complex, lost control of his Mercedes and hit the barriers, with the W15 then ricocheting back onto the track and ending up on its side.\n",
      "\n",
      "READ MORE: Alonso hit with post-race time penalty in Australia over ‘potentially dangerous’ driving before Russell crash\n",
      "\n",
      "While Russell fortunately reported that he was unharmed in the incident, it ultimately ended what had been a tough day for the Silver Arrows following Lewis Hamilton’s earlier retirement due to a mechanical issue.\n",
      "\n",
      "It was confirmed after the race that both Russell and Alonso had been summoned to the stewards over the incident, with the Aston Martin man hit with a 20-second penalty for what the stewards deemed was \"potentially dangerous\" driving. Speaking before the hearing, Alonso gave his version of events during a conversation on Sky Sports.\n",
      "\n",
      "“Well, obviously I was focusing in front of me and not behind,” the Spaniard explained. “I had some issues for the last 15 laps, something on the battery on the deployment, so definitely I was struggling a little bit at the end of the race, but yeah, I cannot focus on the cars behind. But he’s okay apparently, I saw the car and I was very worried.”\n",
      "\n",
      "### Response:\n",
      "\n"
     ]
    }
   ],
   "source": [
    "print(prompt)"
   ]
  },
  {
   "cell_type": "code",
   "execution_count": 28,
   "id": "7433c795",
   "metadata": {
    "id": "qI6Ueyj5ja4Y",
    "papermill": {
     "duration": 0.058393,
     "end_time": "2024-02-27T06:24:43.238098",
     "exception": false,
     "start_time": "2024-02-27T06:24:43.179705",
     "status": "completed"
    },
    "scrolled": true,
    "tags": []
   },
   "outputs": [
    {
     "name": "stdout",
     "output_type": "stream",
     "text": [
      "While Russell fortunately reported that he was unharmed in the incident, it ultimately ended what had been a tough day for the Silver Arrows following Lewis Hamilton's earlier retirement due to a mechanical issue.Speaking before the hearing, Alonso gave his version of events during a conversation on Sky Sports.Russell had been chasing the Aston Martin for several laps following his final pit stop but, after getting close towards the Turn 6/7 complex, lost control of his Mercedes and hit the barriers, with the W15 then ricocheting back onto the track and ending up on its side.Speaking after the hearing, Alonso gave his version of events during a conversation on Sky Sports.\n"
     ]
    }
   ],
   "source": [
    "pipe = pipeline(\n",
    "    task=\"text-generation\",\n",
    "    model=model,\n",
    "    tokenizer=tokenizer,\n",
    "    max_new_tokens=500,\n",
    "    return_full_text=False,\n",
    ")\n",
    "result = pipe(\n",
    "    prompt,\n",
    "    eos_token_id=tokenizer.eos_token_id\n",
    ")\n",
    "\n",
    "print(result[0]['generated_text'])"
   ]
  },
  {
   "cell_type": "code",
   "execution_count": 24,
   "id": "50c043d4",
   "metadata": {
    "id": "B0jI3vGvja4Y"
   },
   "outputs": [],
   "source": [
    "# print(post_process(result[0]['generated_text']))"
   ]
  },
  {
   "cell_type": "code",
   "execution_count": null,
   "id": "861c680d",
   "metadata": {
    "id": "2suJKHC1ja4Y"
   },
   "outputs": [],
   "source": []
  }
 ],
 "metadata": {
  "accelerator": "GPU",
  "colab": {
   "gpuType": "T4",
   "provenance": []
  },
  "kaggle": {
   "accelerator": "gpu",
   "dataSources": [],
   "dockerImageVersionId": 30699,
   "isGpuEnabled": true,
   "isInternetEnabled": true,
   "language": "python",
   "sourceType": "notebook"
  },
  "kernelspec": {
   "display_name": "Python 3 (ipykernel)",
   "language": "python",
   "name": "python3"
  },
  "language_info": {
   "codemirror_mode": {
    "name": "ipython",
    "version": 3
   },
   "file_extension": ".py",
   "mimetype": "text/x-python",
   "name": "python",
   "nbconvert_exporter": "python",
   "pygments_lexer": "ipython3",
   "version": "3.11.9"
  },
  "papermill": {
   "default_parameters": {},
   "duration": 17051.055341,
   "end_time": "2024-02-27T06:24:46.785208",
   "environment_variables": {},
   "exception": null,
   "input_path": "__notebook__.ipynb",
   "output_path": "__notebook__.ipynb",
   "parameters": {},
   "start_time": "2024-02-27T01:40:35.729867",
   "version": "2.5.0"
  },
  "widgets": {
   "application/vnd.jupyter.widget-state+json": {
    "0583a1e631df4d74a01646336a294e84": {
     "model_module": "@jupyter-widgets/controls",
     "model_module_version": "1.5.0",
     "model_name": "DescriptionStyleModel",
     "state": {
      "_model_module": "@jupyter-widgets/controls",
      "_model_module_version": "1.5.0",
      "_model_name": "DescriptionStyleModel",
      "_view_count": null,
      "_view_module": "@jupyter-widgets/base",
      "_view_module_version": "1.2.0",
      "_view_name": "StyleView",
      "description_width": ""
     }
    },
    "0b8d05668e46425dae178ced5ce0c83c": {
     "model_module": "@jupyter-widgets/controls",
     "model_module_version": "1.5.0",
     "model_name": "HBoxModel",
     "state": {
      "_dom_classes": [],
      "_model_module": "@jupyter-widgets/controls",
      "_model_module_version": "1.5.0",
      "_model_name": "HBoxModel",
      "_view_count": null,
      "_view_module": "@jupyter-widgets/controls",
      "_view_module_version": "1.5.0",
      "_view_name": "HBoxView",
      "box_style": "",
      "children": [
       "IPY_MODEL_e279e4d83b4044fc9ead8e04bcfcb8fc",
       "IPY_MODEL_956c56a89b684b1fb80227d2609fcf16",
       "IPY_MODEL_a6e6283a7cc642108eaae6aec21d0fa4"
      ],
      "layout": "IPY_MODEL_8ab2dd8375c94eb482cffa628472401d"
     }
    },
    "0ccf2164328c427e8dc2572cd255eb61": {
     "model_module": "@jupyter-widgets/base",
     "model_module_version": "1.2.0",
     "model_name": "LayoutModel",
     "state": {
      "_model_module": "@jupyter-widgets/base",
      "_model_module_version": "1.2.0",
      "_model_name": "LayoutModel",
      "_view_count": null,
      "_view_module": "@jupyter-widgets/base",
      "_view_module_version": "1.2.0",
      "_view_name": "LayoutView",
      "align_content": null,
      "align_items": null,
      "align_self": null,
      "border": null,
      "bottom": null,
      "display": null,
      "flex": null,
      "flex_flow": null,
      "grid_area": null,
      "grid_auto_columns": null,
      "grid_auto_flow": null,
      "grid_auto_rows": null,
      "grid_column": null,
      "grid_gap": null,
      "grid_row": null,
      "grid_template_areas": null,
      "grid_template_columns": null,
      "grid_template_rows": null,
      "height": null,
      "justify_content": null,
      "justify_items": null,
      "left": null,
      "margin": null,
      "max_height": null,
      "max_width": null,
      "min_height": null,
      "min_width": null,
      "object_fit": null,
      "object_position": null,
      "order": null,
      "overflow": null,
      "overflow_x": null,
      "overflow_y": null,
      "padding": null,
      "right": null,
      "top": null,
      "visibility": null,
      "width": null
     }
    },
    "0d8cabee6cc747859b0fde69eda21fb6": {
     "model_module": "@jupyter-widgets/base",
     "model_module_version": "1.2.0",
     "model_name": "LayoutModel",
     "state": {
      "_model_module": "@jupyter-widgets/base",
      "_model_module_version": "1.2.0",
      "_model_name": "LayoutModel",
      "_view_count": null,
      "_view_module": "@jupyter-widgets/base",
      "_view_module_version": "1.2.0",
      "_view_name": "LayoutView",
      "align_content": null,
      "align_items": null,
      "align_self": null,
      "border": null,
      "bottom": null,
      "display": null,
      "flex": null,
      "flex_flow": null,
      "grid_area": null,
      "grid_auto_columns": null,
      "grid_auto_flow": null,
      "grid_auto_rows": null,
      "grid_column": null,
      "grid_gap": null,
      "grid_row": null,
      "grid_template_areas": null,
      "grid_template_columns": null,
      "grid_template_rows": null,
      "height": null,
      "justify_content": null,
      "justify_items": null,
      "left": null,
      "margin": null,
      "max_height": null,
      "max_width": null,
      "min_height": null,
      "min_width": null,
      "object_fit": null,
      "object_position": null,
      "order": null,
      "overflow": null,
      "overflow_x": null,
      "overflow_y": null,
      "padding": null,
      "right": null,
      "top": null,
      "visibility": null,
      "width": null
     }
    },
    "10de4d3353ab48e8a66f0ba8590b5976": {
     "model_module": "@jupyter-widgets/base",
     "model_module_version": "1.2.0",
     "model_name": "LayoutModel",
     "state": {
      "_model_module": "@jupyter-widgets/base",
      "_model_module_version": "1.2.0",
      "_model_name": "LayoutModel",
      "_view_count": null,
      "_view_module": "@jupyter-widgets/base",
      "_view_module_version": "1.2.0",
      "_view_name": "LayoutView",
      "align_content": null,
      "align_items": null,
      "align_self": null,
      "border": null,
      "bottom": null,
      "display": null,
      "flex": null,
      "flex_flow": null,
      "grid_area": null,
      "grid_auto_columns": null,
      "grid_auto_flow": null,
      "grid_auto_rows": null,
      "grid_column": null,
      "grid_gap": null,
      "grid_row": null,
      "grid_template_areas": null,
      "grid_template_columns": null,
      "grid_template_rows": null,
      "height": null,
      "justify_content": null,
      "justify_items": null,
      "left": null,
      "margin": null,
      "max_height": null,
      "max_width": null,
      "min_height": null,
      "min_width": null,
      "object_fit": null,
      "object_position": null,
      "order": null,
      "overflow": null,
      "overflow_x": null,
      "overflow_y": null,
      "padding": null,
      "right": null,
      "top": null,
      "visibility": null,
      "width": null
     }
    },
    "120bcebc614742829d39c3a3c99c17c3": {
     "model_module": "@jupyter-widgets/base",
     "model_module_version": "1.2.0",
     "model_name": "LayoutModel",
     "state": {
      "_model_module": "@jupyter-widgets/base",
      "_model_module_version": "1.2.0",
      "_model_name": "LayoutModel",
      "_view_count": null,
      "_view_module": "@jupyter-widgets/base",
      "_view_module_version": "1.2.0",
      "_view_name": "LayoutView",
      "align_content": null,
      "align_items": null,
      "align_self": null,
      "border": null,
      "bottom": null,
      "display": null,
      "flex": null,
      "flex_flow": null,
      "grid_area": null,
      "grid_auto_columns": null,
      "grid_auto_flow": null,
      "grid_auto_rows": null,
      "grid_column": null,
      "grid_gap": null,
      "grid_row": null,
      "grid_template_areas": null,
      "grid_template_columns": null,
      "grid_template_rows": null,
      "height": null,
      "justify_content": null,
      "justify_items": null,
      "left": null,
      "margin": null,
      "max_height": null,
      "max_width": null,
      "min_height": null,
      "min_width": null,
      "object_fit": null,
      "object_position": null,
      "order": null,
      "overflow": null,
      "overflow_x": null,
      "overflow_y": null,
      "padding": null,
      "right": null,
      "top": null,
      "visibility": null,
      "width": null
     }
    },
    "1ea23f3d9a8b462aa1442982457bbb0c": {
     "model_module": "@jupyter-widgets/base",
     "model_module_version": "1.2.0",
     "model_name": "LayoutModel",
     "state": {
      "_model_module": "@jupyter-widgets/base",
      "_model_module_version": "1.2.0",
      "_model_name": "LayoutModel",
      "_view_count": null,
      "_view_module": "@jupyter-widgets/base",
      "_view_module_version": "1.2.0",
      "_view_name": "LayoutView",
      "align_content": null,
      "align_items": null,
      "align_self": null,
      "border": null,
      "bottom": null,
      "display": null,
      "flex": null,
      "flex_flow": null,
      "grid_area": null,
      "grid_auto_columns": null,
      "grid_auto_flow": null,
      "grid_auto_rows": null,
      "grid_column": null,
      "grid_gap": null,
      "grid_row": null,
      "grid_template_areas": null,
      "grid_template_columns": null,
      "grid_template_rows": null,
      "height": null,
      "justify_content": null,
      "justify_items": null,
      "left": null,
      "margin": null,
      "max_height": null,
      "max_width": null,
      "min_height": null,
      "min_width": null,
      "object_fit": null,
      "object_position": null,
      "order": null,
      "overflow": null,
      "overflow_x": null,
      "overflow_y": null,
      "padding": null,
      "right": null,
      "top": null,
      "visibility": null,
      "width": null
     }
    },
    "21da089babee4b588ba18f6e1e602e3d": {
     "model_module": "@jupyter-widgets/controls",
     "model_module_version": "1.5.0",
     "model_name": "FloatProgressModel",
     "state": {
      "_dom_classes": [],
      "_model_module": "@jupyter-widgets/controls",
      "_model_module_version": "1.5.0",
      "_model_name": "FloatProgressModel",
      "_view_count": null,
      "_view_module": "@jupyter-widgets/controls",
      "_view_module_version": "1.5.0",
      "_view_name": "ProgressView",
      "bar_style": "success",
      "description": "",
      "description_tooltip": null,
      "layout": "IPY_MODEL_cb335c401f6542d48449fec6e1b60d95",
      "max": 7620,
      "min": 0,
      "orientation": "horizontal",
      "style": "IPY_MODEL_a4dcb8065f5d4bc6a2ebc115c4b3a51a",
      "value": 7620
     }
    },
    "222e0bf320764651a5952a2615ed98f6": {
     "model_module": "@jupyter-widgets/base",
     "model_module_version": "1.2.0",
     "model_name": "LayoutModel",
     "state": {
      "_model_module": "@jupyter-widgets/base",
      "_model_module_version": "1.2.0",
      "_model_name": "LayoutModel",
      "_view_count": null,
      "_view_module": "@jupyter-widgets/base",
      "_view_module_version": "1.2.0",
      "_view_name": "LayoutView",
      "align_content": null,
      "align_items": null,
      "align_self": null,
      "border": null,
      "bottom": null,
      "display": null,
      "flex": null,
      "flex_flow": null,
      "grid_area": null,
      "grid_auto_columns": null,
      "grid_auto_flow": null,
      "grid_auto_rows": null,
      "grid_column": null,
      "grid_gap": null,
      "grid_row": null,
      "grid_template_areas": null,
      "grid_template_columns": null,
      "grid_template_rows": null,
      "height": null,
      "justify_content": null,
      "justify_items": null,
      "left": null,
      "margin": null,
      "max_height": null,
      "max_width": null,
      "min_height": null,
      "min_width": null,
      "object_fit": null,
      "object_position": null,
      "order": null,
      "overflow": null,
      "overflow_x": null,
      "overflow_y": null,
      "padding": null,
      "right": null,
      "top": null,
      "visibility": null,
      "width": null
     }
    },
    "31f6cb7b53af4d9f9fd448b857ff7854": {
     "model_module": "@jupyter-widgets/controls",
     "model_module_version": "1.5.0",
     "model_name": "DescriptionStyleModel",
     "state": {
      "_model_module": "@jupyter-widgets/controls",
      "_model_module_version": "1.5.0",
      "_model_name": "DescriptionStyleModel",
      "_view_count": null,
      "_view_module": "@jupyter-widgets/base",
      "_view_module_version": "1.2.0",
      "_view_name": "StyleView",
      "description_width": ""
     }
    },
    "32ee9ed0d7c7485885e245d78a28c603": {
     "model_module": "@jupyter-widgets/controls",
     "model_module_version": "1.5.0",
     "model_name": "HBoxModel",
     "state": {
      "_dom_classes": [],
      "_model_module": "@jupyter-widgets/controls",
      "_model_module_version": "1.5.0",
      "_model_name": "HBoxModel",
      "_view_count": null,
      "_view_module": "@jupyter-widgets/controls",
      "_view_module_version": "1.5.0",
      "_view_name": "HBoxView",
      "box_style": "",
      "children": [
       "IPY_MODEL_783ad2588d7046cba452eed38068e31d",
       "IPY_MODEL_3ca301257e3544c6a300216d5802de37",
       "IPY_MODEL_8cf6f4ce5ff348d58cc1e781ee42932a"
      ],
      "layout": "IPY_MODEL_6f2593a81ad94772a4de83a5cbb9036d"
     }
    },
    "3805f357295947ca814561f60f79149f": {
     "model_module": "@jupyter-widgets/controls",
     "model_module_version": "1.5.0",
     "model_name": "HBoxModel",
     "state": {
      "_dom_classes": [],
      "_model_module": "@jupyter-widgets/controls",
      "_model_module_version": "1.5.0",
      "_model_name": "HBoxModel",
      "_view_count": null,
      "_view_module": "@jupyter-widgets/controls",
      "_view_module_version": "1.5.0",
      "_view_name": "HBoxView",
      "box_style": "",
      "children": [
       "IPY_MODEL_99daf2308d0d4b268d8c578bbf20c6ac",
       "IPY_MODEL_96d4e62fb6b44f95b8d85cab6355f815",
       "IPY_MODEL_494e2e504ae84a4b803a120bf6202659"
      ],
      "layout": "IPY_MODEL_e68f78291aa54043ae123b7bd1296d1c"
     }
    },
    "3884325e7e4441b29e76fab1fd12105c": {
     "model_module": "@jupyter-widgets/controls",
     "model_module_version": "1.5.0",
     "model_name": "ProgressStyleModel",
     "state": {
      "_model_module": "@jupyter-widgets/controls",
      "_model_module_version": "1.5.0",
      "_model_name": "ProgressStyleModel",
      "_view_count": null,
      "_view_module": "@jupyter-widgets/base",
      "_view_module_version": "1.2.0",
      "_view_name": "StyleView",
      "bar_color": null,
      "description_width": ""
     }
    },
    "3ca301257e3544c6a300216d5802de37": {
     "model_module": "@jupyter-widgets/controls",
     "model_module_version": "1.5.0",
     "model_name": "FloatProgressModel",
     "state": {
      "_dom_classes": [],
      "_model_module": "@jupyter-widgets/controls",
      "_model_module_version": "1.5.0",
      "_model_name": "FloatProgressModel",
      "_view_count": null,
      "_view_module": "@jupyter-widgets/controls",
      "_view_module_version": "1.5.0",
      "_view_name": "ProgressView",
      "bar_style": "success",
      "description": "",
      "description_tooltip": null,
      "layout": "IPY_MODEL_e44394e7416a4816b36b6bf685b17968",
      "max": 1,
      "min": 0,
      "orientation": "horizontal",
      "style": "IPY_MODEL_3884325e7e4441b29e76fab1fd12105c",
      "value": 1
     }
    },
    "42283ce8cab3416ebf57e53eab965ba5": {
     "model_module": "@jupyter-widgets/base",
     "model_module_version": "1.2.0",
     "model_name": "LayoutModel",
     "state": {
      "_model_module": "@jupyter-widgets/base",
      "_model_module_version": "1.2.0",
      "_model_name": "LayoutModel",
      "_view_count": null,
      "_view_module": "@jupyter-widgets/base",
      "_view_module_version": "1.2.0",
      "_view_name": "LayoutView",
      "align_content": null,
      "align_items": null,
      "align_self": null,
      "border": null,
      "bottom": null,
      "display": null,
      "flex": null,
      "flex_flow": null,
      "grid_area": null,
      "grid_auto_columns": null,
      "grid_auto_flow": null,
      "grid_auto_rows": null,
      "grid_column": null,
      "grid_gap": null,
      "grid_row": null,
      "grid_template_areas": null,
      "grid_template_columns": null,
      "grid_template_rows": null,
      "height": null,
      "justify_content": null,
      "justify_items": null,
      "left": null,
      "margin": null,
      "max_height": null,
      "max_width": null,
      "min_height": null,
      "min_width": null,
      "object_fit": null,
      "object_position": null,
      "order": null,
      "overflow": null,
      "overflow_x": null,
      "overflow_y": null,
      "padding": null,
      "right": null,
      "top": null,
      "visibility": null,
      "width": null
     }
    },
    "42916ca4775641b283ebcea299798cff": {
     "model_module": "@jupyter-widgets/controls",
     "model_module_version": "1.5.0",
     "model_name": "HBoxModel",
     "state": {
      "_dom_classes": [],
      "_model_module": "@jupyter-widgets/controls",
      "_model_module_version": "1.5.0",
      "_model_name": "HBoxModel",
      "_view_count": null,
      "_view_module": "@jupyter-widgets/controls",
      "_view_module_version": "1.5.0",
      "_view_name": "HBoxView",
      "box_style": "",
      "children": [
       "IPY_MODEL_a4a4db37118a445cae7d65982120e56b",
       "IPY_MODEL_21da089babee4b588ba18f6e1e602e3d",
       "IPY_MODEL_7400aed6789a4344a4d7b2534456e994"
      ],
      "layout": "IPY_MODEL_222e0bf320764651a5952a2615ed98f6"
     }
    },
    "431c7a736bf34972b9c53fddc5fe354d": {
     "model_module": "@jupyter-widgets/controls",
     "model_module_version": "1.5.0",
     "model_name": "FloatProgressModel",
     "state": {
      "_dom_classes": [],
      "_model_module": "@jupyter-widgets/controls",
      "_model_module_version": "1.5.0",
      "_model_name": "FloatProgressModel",
      "_view_count": null,
      "_view_module": "@jupyter-widgets/controls",
      "_view_module_version": "1.5.0",
      "_view_name": "ProgressView",
      "bar_style": "success",
      "description": "",
      "description_tooltip": null,
      "layout": "IPY_MODEL_7af802ea864147959290ac75a94088f6",
      "max": 1819889,
      "min": 0,
      "orientation": "horizontal",
      "style": "IPY_MODEL_f1213c049af342e3bce482416c2eb60d",
      "value": 1819889
     }
    },
    "45e80102bf924de3a04c30b16ca9cb8d": {
     "model_module": "@jupyter-widgets/base",
     "model_module_version": "1.2.0",
     "model_name": "LayoutModel",
     "state": {
      "_model_module": "@jupyter-widgets/base",
      "_model_module_version": "1.2.0",
      "_model_name": "LayoutModel",
      "_view_count": null,
      "_view_module": "@jupyter-widgets/base",
      "_view_module_version": "1.2.0",
      "_view_name": "LayoutView",
      "align_content": null,
      "align_items": null,
      "align_self": null,
      "border": null,
      "bottom": null,
      "display": null,
      "flex": null,
      "flex_flow": null,
      "grid_area": null,
      "grid_auto_columns": null,
      "grid_auto_flow": null,
      "grid_auto_rows": null,
      "grid_column": null,
      "grid_gap": null,
      "grid_row": null,
      "grid_template_areas": null,
      "grid_template_columns": null,
      "grid_template_rows": null,
      "height": null,
      "justify_content": null,
      "justify_items": null,
      "left": null,
      "margin": null,
      "max_height": null,
      "max_width": null,
      "min_height": null,
      "min_width": null,
      "object_fit": null,
      "object_position": null,
      "order": null,
      "overflow": null,
      "overflow_x": null,
      "overflow_y": null,
      "padding": null,
      "right": null,
      "top": null,
      "visibility": null,
      "width": null
     }
    },
    "470e0cba8350451c97ff8b4328abfdd8": {
     "model_module": "@jupyter-widgets/controls",
     "model_module_version": "1.5.0",
     "model_name": "DescriptionStyleModel",
     "state": {
      "_model_module": "@jupyter-widgets/controls",
      "_model_module_version": "1.5.0",
      "_model_name": "DescriptionStyleModel",
      "_view_count": null,
      "_view_module": "@jupyter-widgets/base",
      "_view_module_version": "1.2.0",
      "_view_name": "StyleView",
      "description_width": ""
     }
    },
    "48449fb57195448ca8da6a8f13767faf": {
     "model_module": "@jupyter-widgets/controls",
     "model_module_version": "1.5.0",
     "model_name": "ProgressStyleModel",
     "state": {
      "_model_module": "@jupyter-widgets/controls",
      "_model_module_version": "1.5.0",
      "_model_name": "ProgressStyleModel",
      "_view_count": null,
      "_view_module": "@jupyter-widgets/base",
      "_view_module_version": "1.2.0",
      "_view_name": "StyleView",
      "bar_color": null,
      "description_width": ""
     }
    },
    "494e2e504ae84a4b803a120bf6202659": {
     "model_module": "@jupyter-widgets/controls",
     "model_module_version": "1.5.0",
     "model_name": "HTMLModel",
     "state": {
      "_dom_classes": [],
      "_model_module": "@jupyter-widgets/controls",
      "_model_module_version": "1.5.0",
      "_model_name": "HTMLModel",
      "_view_count": null,
      "_view_module": "@jupyter-widgets/controls",
      "_view_module_version": "1.5.0",
      "_view_name": "HTMLView",
      "description": "",
      "description_tooltip": null,
      "layout": "IPY_MODEL_7d7130ea87f645179552c7dce7471644",
      "placeholder": "​",
      "style": "IPY_MODEL_4c6128765fd54099ac604e7e69db3489",
      "value": " 87599/87599 [00:00&lt;00:00, 317572.84 examples/s]"
     }
    },
    "4c6128765fd54099ac604e7e69db3489": {
     "model_module": "@jupyter-widgets/controls",
     "model_module_version": "1.5.0",
     "model_name": "DescriptionStyleModel",
     "state": {
      "_model_module": "@jupyter-widgets/controls",
      "_model_module_version": "1.5.0",
      "_model_name": "DescriptionStyleModel",
      "_view_count": null,
      "_view_module": "@jupyter-widgets/base",
      "_view_module_version": "1.2.0",
      "_view_name": "StyleView",
      "description_width": ""
     }
    },
    "52b113d604514fa3812fe358596467d4": {
     "model_module": "@jupyter-widgets/controls",
     "model_module_version": "1.5.0",
     "model_name": "HTMLModel",
     "state": {
      "_dom_classes": [],
      "_model_module": "@jupyter-widgets/controls",
      "_model_module_version": "1.5.0",
      "_model_name": "HTMLModel",
      "_view_count": null,
      "_view_module": "@jupyter-widgets/controls",
      "_view_module_version": "1.5.0",
      "_view_name": "HTMLView",
      "description": "",
      "description_tooltip": null,
      "layout": "IPY_MODEL_ce0d6e6c34534949be79efad5ba8c0be",
      "placeholder": "​",
      "style": "IPY_MODEL_470e0cba8350451c97ff8b4328abfdd8",
      "value": "Generating train split: "
     }
    },
    "5d4aa28e2c8c4b4f93c516abd3cb0226": {
     "model_module": "@jupyter-widgets/controls",
     "model_module_version": "1.5.0",
     "model_name": "DescriptionStyleModel",
     "state": {
      "_model_module": "@jupyter-widgets/controls",
      "_model_module_version": "1.5.0",
      "_model_name": "DescriptionStyleModel",
      "_view_count": null,
      "_view_module": "@jupyter-widgets/base",
      "_view_module_version": "1.2.0",
      "_view_name": "StyleView",
      "description_width": ""
     }
    },
    "63eb204bd9ba4e36958142e1e17b6cf7": {
     "model_module": "@jupyter-widgets/controls",
     "model_module_version": "1.5.0",
     "model_name": "HTMLModel",
     "state": {
      "_dom_classes": [],
      "_model_module": "@jupyter-widgets/controls",
      "_model_module_version": "1.5.0",
      "_model_name": "HTMLModel",
      "_view_count": null,
      "_view_module": "@jupyter-widgets/controls",
      "_view_module_version": "1.5.0",
      "_view_name": "HTMLView",
      "description": "",
      "description_tooltip": null,
      "layout": "IPY_MODEL_f4ef1de9f71e45a28db327ec4e6fac05",
      "placeholder": "​",
      "style": "IPY_MODEL_683752aeeaa9412490840e86e70fc74e",
      "value": "Generating validation split: 100%"
     }
    },
    "642c937e28b445999874e80e6bff83a3": {
     "model_module": "@jupyter-widgets/base",
     "model_module_version": "1.2.0",
     "model_name": "LayoutModel",
     "state": {
      "_model_module": "@jupyter-widgets/base",
      "_model_module_version": "1.2.0",
      "_model_name": "LayoutModel",
      "_view_count": null,
      "_view_module": "@jupyter-widgets/base",
      "_view_module_version": "1.2.0",
      "_view_name": "LayoutView",
      "align_content": null,
      "align_items": null,
      "align_self": null,
      "border": null,
      "bottom": null,
      "display": null,
      "flex": null,
      "flex_flow": null,
      "grid_area": null,
      "grid_auto_columns": null,
      "grid_auto_flow": null,
      "grid_auto_rows": null,
      "grid_column": null,
      "grid_gap": null,
      "grid_row": null,
      "grid_template_areas": null,
      "grid_template_columns": null,
      "grid_template_rows": null,
      "height": null,
      "justify_content": null,
      "justify_items": null,
      "left": null,
      "margin": null,
      "max_height": null,
      "max_width": null,
      "min_height": null,
      "min_width": null,
      "object_fit": null,
      "object_position": null,
      "order": null,
      "overflow": null,
      "overflow_x": null,
      "overflow_y": null,
      "padding": null,
      "right": null,
      "top": null,
      "visibility": null,
      "width": null
     }
    },
    "683752aeeaa9412490840e86e70fc74e": {
     "model_module": "@jupyter-widgets/controls",
     "model_module_version": "1.5.0",
     "model_name": "DescriptionStyleModel",
     "state": {
      "_model_module": "@jupyter-widgets/controls",
      "_model_module_version": "1.5.0",
      "_model_name": "DescriptionStyleModel",
      "_view_count": null,
      "_view_module": "@jupyter-widgets/base",
      "_view_module_version": "1.2.0",
      "_view_name": "StyleView",
      "description_width": ""
     }
    },
    "691dd05ab4b04602aa48454ea5833dec": {
     "model_module": "@jupyter-widgets/controls",
     "model_module_version": "1.5.0",
     "model_name": "DescriptionStyleModel",
     "state": {
      "_model_module": "@jupyter-widgets/controls",
      "_model_module_version": "1.5.0",
      "_model_name": "DescriptionStyleModel",
      "_view_count": null,
      "_view_module": "@jupyter-widgets/base",
      "_view_module_version": "1.2.0",
      "_view_name": "StyleView",
      "description_width": ""
     }
    },
    "6b4c96fb9a724d6c8d5238082f7c66eb": {
     "model_module": "@jupyter-widgets/controls",
     "model_module_version": "1.5.0",
     "model_name": "DescriptionStyleModel",
     "state": {
      "_model_module": "@jupyter-widgets/controls",
      "_model_module_version": "1.5.0",
      "_model_name": "DescriptionStyleModel",
      "_view_count": null,
      "_view_module": "@jupyter-widgets/base",
      "_view_module_version": "1.2.0",
      "_view_name": "StyleView",
      "description_width": ""
     }
    },
    "6cb893e92a1b4d16a8f3dd1d04f1ac63": {
     "model_module": "@jupyter-widgets/controls",
     "model_module_version": "1.5.0",
     "model_name": "HBoxModel",
     "state": {
      "_dom_classes": [],
      "_model_module": "@jupyter-widgets/controls",
      "_model_module_version": "1.5.0",
      "_model_name": "HBoxModel",
      "_view_count": null,
      "_view_module": "@jupyter-widgets/controls",
      "_view_module_version": "1.5.0",
      "_view_name": "HBoxView",
      "box_style": "",
      "children": [
       "IPY_MODEL_c7342141fcde413eaac853d36be975d4",
       "IPY_MODEL_431c7a736bf34972b9c53fddc5fe354d",
       "IPY_MODEL_bfcbfb910eec4f2d9c892b4354b5883a"
      ],
      "layout": "IPY_MODEL_81edabfc33ca4463bf85a08170633ac0"
     }
    },
    "6f2593a81ad94772a4de83a5cbb9036d": {
     "model_module": "@jupyter-widgets/base",
     "model_module_version": "1.2.0",
     "model_name": "LayoutModel",
     "state": {
      "_model_module": "@jupyter-widgets/base",
      "_model_module_version": "1.2.0",
      "_model_name": "LayoutModel",
      "_view_count": null,
      "_view_module": "@jupyter-widgets/base",
      "_view_module_version": "1.2.0",
      "_view_name": "LayoutView",
      "align_content": null,
      "align_items": null,
      "align_self": null,
      "border": null,
      "bottom": null,
      "display": null,
      "flex": null,
      "flex_flow": null,
      "grid_area": null,
      "grid_auto_columns": null,
      "grid_auto_flow": null,
      "grid_auto_rows": null,
      "grid_column": null,
      "grid_gap": null,
      "grid_row": null,
      "grid_template_areas": null,
      "grid_template_columns": null,
      "grid_template_rows": null,
      "height": null,
      "justify_content": null,
      "justify_items": null,
      "left": null,
      "margin": null,
      "max_height": null,
      "max_width": null,
      "min_height": null,
      "min_width": null,
      "object_fit": null,
      "object_position": null,
      "order": null,
      "overflow": null,
      "overflow_x": null,
      "overflow_y": null,
      "padding": null,
      "right": null,
      "top": null,
      "visibility": null,
      "width": null
     }
    },
    "707b3191109c412db58ecfbcc2a599dd": {
     "model_module": "@jupyter-widgets/controls",
     "model_module_version": "1.5.0",
     "model_name": "DescriptionStyleModel",
     "state": {
      "_model_module": "@jupyter-widgets/controls",
      "_model_module_version": "1.5.0",
      "_model_name": "DescriptionStyleModel",
      "_view_count": null,
      "_view_module": "@jupyter-widgets/base",
      "_view_module_version": "1.2.0",
      "_view_name": "StyleView",
      "description_width": ""
     }
    },
    "7400aed6789a4344a4d7b2534456e994": {
     "model_module": "@jupyter-widgets/controls",
     "model_module_version": "1.5.0",
     "model_name": "HTMLModel",
     "state": {
      "_dom_classes": [],
      "_model_module": "@jupyter-widgets/controls",
      "_model_module_version": "1.5.0",
      "_model_name": "HTMLModel",
      "_view_count": null,
      "_view_module": "@jupyter-widgets/controls",
      "_view_module_version": "1.5.0",
      "_view_name": "HTMLView",
      "description": "",
      "description_tooltip": null,
      "layout": "IPY_MODEL_99063c861cb44727876ef6bae384a442",
      "placeholder": "​",
      "style": "IPY_MODEL_8a8ac477631b4ac7b14fee0f2bd79b98",
      "value": " 7.62k/7.62k [00:00&lt;00:00, 285kB/s]"
     }
    },
    "74ee89414fff41128e920a1c532f6141": {
     "model_module": "@jupyter-widgets/base",
     "model_module_version": "1.2.0",
     "model_name": "LayoutModel",
     "state": {
      "_model_module": "@jupyter-widgets/base",
      "_model_module_version": "1.2.0",
      "_model_name": "LayoutModel",
      "_view_count": null,
      "_view_module": "@jupyter-widgets/base",
      "_view_module_version": "1.2.0",
      "_view_name": "LayoutView",
      "align_content": null,
      "align_items": null,
      "align_self": null,
      "border": null,
      "bottom": null,
      "display": null,
      "flex": null,
      "flex_flow": null,
      "grid_area": null,
      "grid_auto_columns": null,
      "grid_auto_flow": null,
      "grid_auto_rows": null,
      "grid_column": null,
      "grid_gap": null,
      "grid_row": null,
      "grid_template_areas": null,
      "grid_template_columns": null,
      "grid_template_rows": null,
      "height": null,
      "justify_content": null,
      "justify_items": null,
      "left": null,
      "margin": null,
      "max_height": null,
      "max_width": null,
      "min_height": null,
      "min_width": null,
      "object_fit": null,
      "object_position": null,
      "order": null,
      "overflow": null,
      "overflow_x": null,
      "overflow_y": null,
      "padding": null,
      "right": null,
      "top": null,
      "visibility": null,
      "width": null
     }
    },
    "783ad2588d7046cba452eed38068e31d": {
     "model_module": "@jupyter-widgets/controls",
     "model_module_version": "1.5.0",
     "model_name": "HTMLModel",
     "state": {
      "_dom_classes": [],
      "_model_module": "@jupyter-widgets/controls",
      "_model_module_version": "1.5.0",
      "_model_name": "HTMLModel",
      "_view_count": null,
      "_view_module": "@jupyter-widgets/controls",
      "_view_module_version": "1.5.0",
      "_view_name": "HTMLView",
      "description": "",
      "description_tooltip": null,
      "layout": "IPY_MODEL_81c6d0caa5d544df834540847c4aa036",
      "placeholder": "​",
      "style": "IPY_MODEL_d9e06f02d41a46d989d831d636039483",
      "value": "Generating train split: "
     }
    },
    "7af802ea864147959290ac75a94088f6": {
     "model_module": "@jupyter-widgets/base",
     "model_module_version": "1.2.0",
     "model_name": "LayoutModel",
     "state": {
      "_model_module": "@jupyter-widgets/base",
      "_model_module_version": "1.2.0",
      "_model_name": "LayoutModel",
      "_view_count": null,
      "_view_module": "@jupyter-widgets/base",
      "_view_module_version": "1.2.0",
      "_view_name": "LayoutView",
      "align_content": null,
      "align_items": null,
      "align_self": null,
      "border": null,
      "bottom": null,
      "display": null,
      "flex": null,
      "flex_flow": null,
      "grid_area": null,
      "grid_auto_columns": null,
      "grid_auto_flow": null,
      "grid_auto_rows": null,
      "grid_column": null,
      "grid_gap": null,
      "grid_row": null,
      "grid_template_areas": null,
      "grid_template_columns": null,
      "grid_template_rows": null,
      "height": null,
      "justify_content": null,
      "justify_items": null,
      "left": null,
      "margin": null,
      "max_height": null,
      "max_width": null,
      "min_height": null,
      "min_width": null,
      "object_fit": null,
      "object_position": null,
      "order": null,
      "overflow": null,
      "overflow_x": null,
      "overflow_y": null,
      "padding": null,
      "right": null,
      "top": null,
      "visibility": null,
      "width": null
     }
    },
    "7d7130ea87f645179552c7dce7471644": {
     "model_module": "@jupyter-widgets/base",
     "model_module_version": "1.2.0",
     "model_name": "LayoutModel",
     "state": {
      "_model_module": "@jupyter-widgets/base",
      "_model_module_version": "1.2.0",
      "_model_name": "LayoutModel",
      "_view_count": null,
      "_view_module": "@jupyter-widgets/base",
      "_view_module_version": "1.2.0",
      "_view_name": "LayoutView",
      "align_content": null,
      "align_items": null,
      "align_self": null,
      "border": null,
      "bottom": null,
      "display": null,
      "flex": null,
      "flex_flow": null,
      "grid_area": null,
      "grid_auto_columns": null,
      "grid_auto_flow": null,
      "grid_auto_rows": null,
      "grid_column": null,
      "grid_gap": null,
      "grid_row": null,
      "grid_template_areas": null,
      "grid_template_columns": null,
      "grid_template_rows": null,
      "height": null,
      "justify_content": null,
      "justify_items": null,
      "left": null,
      "margin": null,
      "max_height": null,
      "max_width": null,
      "min_height": null,
      "min_width": null,
      "object_fit": null,
      "object_position": null,
      "order": null,
      "overflow": null,
      "overflow_x": null,
      "overflow_y": null,
      "padding": null,
      "right": null,
      "top": null,
      "visibility": null,
      "width": null
     }
    },
    "81c6d0caa5d544df834540847c4aa036": {
     "model_module": "@jupyter-widgets/base",
     "model_module_version": "1.2.0",
     "model_name": "LayoutModel",
     "state": {
      "_model_module": "@jupyter-widgets/base",
      "_model_module_version": "1.2.0",
      "_model_name": "LayoutModel",
      "_view_count": null,
      "_view_module": "@jupyter-widgets/base",
      "_view_module_version": "1.2.0",
      "_view_name": "LayoutView",
      "align_content": null,
      "align_items": null,
      "align_self": null,
      "border": null,
      "bottom": null,
      "display": null,
      "flex": null,
      "flex_flow": null,
      "grid_area": null,
      "grid_auto_columns": null,
      "grid_auto_flow": null,
      "grid_auto_rows": null,
      "grid_column": null,
      "grid_gap": null,
      "grid_row": null,
      "grid_template_areas": null,
      "grid_template_columns": null,
      "grid_template_rows": null,
      "height": null,
      "justify_content": null,
      "justify_items": null,
      "left": null,
      "margin": null,
      "max_height": null,
      "max_width": null,
      "min_height": null,
      "min_width": null,
      "object_fit": null,
      "object_position": null,
      "order": null,
      "overflow": null,
      "overflow_x": null,
      "overflow_y": null,
      "padding": null,
      "right": null,
      "top": null,
      "visibility": null,
      "width": null
     }
    },
    "81edabfc33ca4463bf85a08170633ac0": {
     "model_module": "@jupyter-widgets/base",
     "model_module_version": "1.2.0",
     "model_name": "LayoutModel",
     "state": {
      "_model_module": "@jupyter-widgets/base",
      "_model_module_version": "1.2.0",
      "_model_name": "LayoutModel",
      "_view_count": null,
      "_view_module": "@jupyter-widgets/base",
      "_view_module_version": "1.2.0",
      "_view_name": "LayoutView",
      "align_content": null,
      "align_items": null,
      "align_self": null,
      "border": null,
      "bottom": null,
      "display": null,
      "flex": null,
      "flex_flow": null,
      "grid_area": null,
      "grid_auto_columns": null,
      "grid_auto_flow": null,
      "grid_auto_rows": null,
      "grid_column": null,
      "grid_gap": null,
      "grid_row": null,
      "grid_template_areas": null,
      "grid_template_columns": null,
      "grid_template_rows": null,
      "height": null,
      "justify_content": null,
      "justify_items": null,
      "left": null,
      "margin": null,
      "max_height": null,
      "max_width": null,
      "min_height": null,
      "min_width": null,
      "object_fit": null,
      "object_position": null,
      "order": null,
      "overflow": null,
      "overflow_x": null,
      "overflow_y": null,
      "padding": null,
      "right": null,
      "top": null,
      "visibility": null,
      "width": null
     }
    },
    "831bf10c50d34088bfdbc906e4f3a98f": {
     "model_module": "@jupyter-widgets/controls",
     "model_module_version": "1.5.0",
     "model_name": "FloatProgressModel",
     "state": {
      "_dom_classes": [],
      "_model_module": "@jupyter-widgets/controls",
      "_model_module_version": "1.5.0",
      "_model_name": "FloatProgressModel",
      "_view_count": null,
      "_view_module": "@jupyter-widgets/controls",
      "_view_module_version": "1.5.0",
      "_view_name": "ProgressView",
      "bar_style": "success",
      "description": "",
      "description_tooltip": null,
      "layout": "IPY_MODEL_45e80102bf924de3a04c30b16ca9cb8d",
      "max": 10570,
      "min": 0,
      "orientation": "horizontal",
      "style": "IPY_MODEL_a0775d0a655347239c550d9b1abe1f1d",
      "value": 10570
     }
    },
    "89f9d03c7446483f9015e7a26ade83af": {
     "model_module": "@jupyter-widgets/base",
     "model_module_version": "1.2.0",
     "model_name": "LayoutModel",
     "state": {
      "_model_module": "@jupyter-widgets/base",
      "_model_module_version": "1.2.0",
      "_model_name": "LayoutModel",
      "_view_count": null,
      "_view_module": "@jupyter-widgets/base",
      "_view_module_version": "1.2.0",
      "_view_name": "LayoutView",
      "align_content": null,
      "align_items": null,
      "align_self": null,
      "border": null,
      "bottom": null,
      "display": null,
      "flex": null,
      "flex_flow": null,
      "grid_area": null,
      "grid_auto_columns": null,
      "grid_auto_flow": null,
      "grid_auto_rows": null,
      "grid_column": null,
      "grid_gap": null,
      "grid_row": null,
      "grid_template_areas": null,
      "grid_template_columns": null,
      "grid_template_rows": null,
      "height": null,
      "justify_content": null,
      "justify_items": null,
      "left": null,
      "margin": null,
      "max_height": null,
      "max_width": null,
      "min_height": null,
      "min_width": null,
      "object_fit": null,
      "object_position": null,
      "order": null,
      "overflow": null,
      "overflow_x": null,
      "overflow_y": null,
      "padding": null,
      "right": null,
      "top": null,
      "visibility": null,
      "width": "20px"
     }
    },
    "8a8ac477631b4ac7b14fee0f2bd79b98": {
     "model_module": "@jupyter-widgets/controls",
     "model_module_version": "1.5.0",
     "model_name": "DescriptionStyleModel",
     "state": {
      "_model_module": "@jupyter-widgets/controls",
      "_model_module_version": "1.5.0",
      "_model_name": "DescriptionStyleModel",
      "_view_count": null,
      "_view_module": "@jupyter-widgets/base",
      "_view_module_version": "1.2.0",
      "_view_name": "StyleView",
      "description_width": ""
     }
    },
    "8ab2dd8375c94eb482cffa628472401d": {
     "model_module": "@jupyter-widgets/base",
     "model_module_version": "1.2.0",
     "model_name": "LayoutModel",
     "state": {
      "_model_module": "@jupyter-widgets/base",
      "_model_module_version": "1.2.0",
      "_model_name": "LayoutModel",
      "_view_count": null,
      "_view_module": "@jupyter-widgets/base",
      "_view_module_version": "1.2.0",
      "_view_name": "LayoutView",
      "align_content": null,
      "align_items": null,
      "align_self": null,
      "border": null,
      "bottom": null,
      "display": null,
      "flex": null,
      "flex_flow": null,
      "grid_area": null,
      "grid_auto_columns": null,
      "grid_auto_flow": null,
      "grid_auto_rows": null,
      "grid_column": null,
      "grid_gap": null,
      "grid_row": null,
      "grid_template_areas": null,
      "grid_template_columns": null,
      "grid_template_rows": null,
      "height": null,
      "justify_content": null,
      "justify_items": null,
      "left": null,
      "margin": null,
      "max_height": null,
      "max_width": null,
      "min_height": null,
      "min_width": null,
      "object_fit": null,
      "object_position": null,
      "order": null,
      "overflow": null,
      "overflow_x": null,
      "overflow_y": null,
      "padding": null,
      "right": null,
      "top": null,
      "visibility": null,
      "width": null
     }
    },
    "8bfe84a5a3e14e2e8174303efde94c72": {
     "model_module": "@jupyter-widgets/controls",
     "model_module_version": "1.5.0",
     "model_name": "HBoxModel",
     "state": {
      "_dom_classes": [],
      "_model_module": "@jupyter-widgets/controls",
      "_model_module_version": "1.5.0",
      "_model_name": "HBoxModel",
      "_view_count": null,
      "_view_module": "@jupyter-widgets/controls",
      "_view_module_version": "1.5.0",
      "_view_name": "HBoxView",
      "box_style": "",
      "children": [
       "IPY_MODEL_63eb204bd9ba4e36958142e1e17b6cf7",
       "IPY_MODEL_831bf10c50d34088bfdbc906e4f3a98f",
       "IPY_MODEL_bba4a1c3233d4dc2bd4531e891572d47"
      ],
      "layout": "IPY_MODEL_642c937e28b445999874e80e6bff83a3"
     }
    },
    "8cf6f4ce5ff348d58cc1e781ee42932a": {
     "model_module": "@jupyter-widgets/controls",
     "model_module_version": "1.5.0",
     "model_name": "HTMLModel",
     "state": {
      "_dom_classes": [],
      "_model_module": "@jupyter-widgets/controls",
      "_model_module_version": "1.5.0",
      "_model_name": "HTMLModel",
      "_view_count": null,
      "_view_module": "@jupyter-widgets/controls",
      "_view_module_version": "1.5.0",
      "_view_name": "HTMLView",
      "description": "",
      "description_tooltip": null,
      "layout": "IPY_MODEL_1ea23f3d9a8b462aa1442982457bbb0c",
      "placeholder": "​",
      "style": "IPY_MODEL_b38aadb2c7734cbe8f0120041a6991ea",
      "value": " 16441/0 [01:50&lt;00:00, 222.12 examples/s]"
     }
    },
    "8ed5fd63f12a4ee781a282723b8d877f": {
     "model_module": "@jupyter-widgets/controls",
     "model_module_version": "1.5.0",
     "model_name": "HTMLModel",
     "state": {
      "_dom_classes": [],
      "_model_module": "@jupyter-widgets/controls",
      "_model_module_version": "1.5.0",
      "_model_name": "HTMLModel",
      "_view_count": null,
      "_view_module": "@jupyter-widgets/controls",
      "_view_module_version": "1.5.0",
      "_view_name": "HTMLView",
      "description": "",
      "description_tooltip": null,
      "layout": "IPY_MODEL_120bcebc614742829d39c3a3c99c17c3",
      "placeholder": "​",
      "style": "IPY_MODEL_0583a1e631df4d74a01646336a294e84",
      "value": " 2020/0 [00:20&lt;00:00, 132.47 examples/s]"
     }
    },
    "956c56a89b684b1fb80227d2609fcf16": {
     "model_module": "@jupyter-widgets/controls",
     "model_module_version": "1.5.0",
     "model_name": "FloatProgressModel",
     "state": {
      "_dom_classes": [],
      "_model_module": "@jupyter-widgets/controls",
      "_model_module_version": "1.5.0",
      "_model_name": "FloatProgressModel",
      "_view_count": null,
      "_view_module": "@jupyter-widgets/controls",
      "_view_module_version": "1.5.0",
      "_view_name": "ProgressView",
      "bar_style": "success",
      "description": "",
      "description_tooltip": null,
      "layout": "IPY_MODEL_42283ce8cab3416ebf57e53eab965ba5",
      "max": 14458314,
      "min": 0,
      "orientation": "horizontal",
      "style": "IPY_MODEL_48449fb57195448ca8da6a8f13767faf",
      "value": 14458314
     }
    },
    "96d4e62fb6b44f95b8d85cab6355f815": {
     "model_module": "@jupyter-widgets/controls",
     "model_module_version": "1.5.0",
     "model_name": "FloatProgressModel",
     "state": {
      "_dom_classes": [],
      "_model_module": "@jupyter-widgets/controls",
      "_model_module_version": "1.5.0",
      "_model_name": "FloatProgressModel",
      "_view_count": null,
      "_view_module": "@jupyter-widgets/controls",
      "_view_module_version": "1.5.0",
      "_view_name": "ProgressView",
      "bar_style": "success",
      "description": "",
      "description_tooltip": null,
      "layout": "IPY_MODEL_c419b75f9e054470b218b3d4f2f08c39",
      "max": 87599,
      "min": 0,
      "orientation": "horizontal",
      "style": "IPY_MODEL_f83e6c60caaf4c128c5b26cf56f29950",
      "value": 87599
     }
    },
    "99063c861cb44727876ef6bae384a442": {
     "model_module": "@jupyter-widgets/base",
     "model_module_version": "1.2.0",
     "model_name": "LayoutModel",
     "state": {
      "_model_module": "@jupyter-widgets/base",
      "_model_module_version": "1.2.0",
      "_model_name": "LayoutModel",
      "_view_count": null,
      "_view_module": "@jupyter-widgets/base",
      "_view_module_version": "1.2.0",
      "_view_name": "LayoutView",
      "align_content": null,
      "align_items": null,
      "align_self": null,
      "border": null,
      "bottom": null,
      "display": null,
      "flex": null,
      "flex_flow": null,
      "grid_area": null,
      "grid_auto_columns": null,
      "grid_auto_flow": null,
      "grid_auto_rows": null,
      "grid_column": null,
      "grid_gap": null,
      "grid_row": null,
      "grid_template_areas": null,
      "grid_template_columns": null,
      "grid_template_rows": null,
      "height": null,
      "justify_content": null,
      "justify_items": null,
      "left": null,
      "margin": null,
      "max_height": null,
      "max_width": null,
      "min_height": null,
      "min_width": null,
      "object_fit": null,
      "object_position": null,
      "order": null,
      "overflow": null,
      "overflow_x": null,
      "overflow_y": null,
      "padding": null,
      "right": null,
      "top": null,
      "visibility": null,
      "width": null
     }
    },
    "99daf2308d0d4b268d8c578bbf20c6ac": {
     "model_module": "@jupyter-widgets/controls",
     "model_module_version": "1.5.0",
     "model_name": "HTMLModel",
     "state": {
      "_dom_classes": [],
      "_model_module": "@jupyter-widgets/controls",
      "_model_module_version": "1.5.0",
      "_model_name": "HTMLModel",
      "_view_count": null,
      "_view_module": "@jupyter-widgets/controls",
      "_view_module_version": "1.5.0",
      "_view_name": "HTMLView",
      "description": "",
      "description_tooltip": null,
      "layout": "IPY_MODEL_d723e5230db245cfa5ca96681dd057c7",
      "placeholder": "​",
      "style": "IPY_MODEL_6b4c96fb9a724d6c8d5238082f7c66eb",
      "value": "Generating train split: 100%"
     }
    },
    "9df55bab55434bf58b391c949fd97912": {
     "model_module": "@jupyter-widgets/base",
     "model_module_version": "1.2.0",
     "model_name": "LayoutModel",
     "state": {
      "_model_module": "@jupyter-widgets/base",
      "_model_module_version": "1.2.0",
      "_model_name": "LayoutModel",
      "_view_count": null,
      "_view_module": "@jupyter-widgets/base",
      "_view_module_version": "1.2.0",
      "_view_name": "LayoutView",
      "align_content": null,
      "align_items": null,
      "align_self": null,
      "border": null,
      "bottom": null,
      "display": null,
      "flex": null,
      "flex_flow": null,
      "grid_area": null,
      "grid_auto_columns": null,
      "grid_auto_flow": null,
      "grid_auto_rows": null,
      "grid_column": null,
      "grid_gap": null,
      "grid_row": null,
      "grid_template_areas": null,
      "grid_template_columns": null,
      "grid_template_rows": null,
      "height": null,
      "justify_content": null,
      "justify_items": null,
      "left": null,
      "margin": null,
      "max_height": null,
      "max_width": null,
      "min_height": null,
      "min_width": null,
      "object_fit": null,
      "object_position": null,
      "order": null,
      "overflow": null,
      "overflow_x": null,
      "overflow_y": null,
      "padding": null,
      "right": null,
      "top": null,
      "visibility": null,
      "width": null
     }
    },
    "a0775d0a655347239c550d9b1abe1f1d": {
     "model_module": "@jupyter-widgets/controls",
     "model_module_version": "1.5.0",
     "model_name": "ProgressStyleModel",
     "state": {
      "_model_module": "@jupyter-widgets/controls",
      "_model_module_version": "1.5.0",
      "_model_name": "ProgressStyleModel",
      "_view_count": null,
      "_view_module": "@jupyter-widgets/base",
      "_view_module_version": "1.2.0",
      "_view_name": "StyleView",
      "bar_color": null,
      "description_width": ""
     }
    },
    "a4a4db37118a445cae7d65982120e56b": {
     "model_module": "@jupyter-widgets/controls",
     "model_module_version": "1.5.0",
     "model_name": "HTMLModel",
     "state": {
      "_dom_classes": [],
      "_model_module": "@jupyter-widgets/controls",
      "_model_module_version": "1.5.0",
      "_model_name": "HTMLModel",
      "_view_count": null,
      "_view_module": "@jupyter-widgets/controls",
      "_view_module_version": "1.5.0",
      "_view_name": "HTMLView",
      "description": "",
      "description_tooltip": null,
      "layout": "IPY_MODEL_10de4d3353ab48e8a66f0ba8590b5976",
      "placeholder": "​",
      "style": "IPY_MODEL_31f6cb7b53af4d9f9fd448b857ff7854",
      "value": "Downloading readme: 100%"
     }
    },
    "a4dcb8065f5d4bc6a2ebc115c4b3a51a": {
     "model_module": "@jupyter-widgets/controls",
     "model_module_version": "1.5.0",
     "model_name": "ProgressStyleModel",
     "state": {
      "_model_module": "@jupyter-widgets/controls",
      "_model_module_version": "1.5.0",
      "_model_name": "ProgressStyleModel",
      "_view_count": null,
      "_view_module": "@jupyter-widgets/base",
      "_view_module_version": "1.2.0",
      "_view_name": "StyleView",
      "bar_color": null,
      "description_width": ""
     }
    },
    "a6e6283a7cc642108eaae6aec21d0fa4": {
     "model_module": "@jupyter-widgets/controls",
     "model_module_version": "1.5.0",
     "model_name": "HTMLModel",
     "state": {
      "_dom_classes": [],
      "_model_module": "@jupyter-widgets/controls",
      "_model_module_version": "1.5.0",
      "_model_name": "HTMLModel",
      "_view_count": null,
      "_view_module": "@jupyter-widgets/controls",
      "_view_module_version": "1.5.0",
      "_view_name": "HTMLView",
      "description": "",
      "description_tooltip": null,
      "layout": "IPY_MODEL_74ee89414fff41128e920a1c532f6141",
      "placeholder": "​",
      "style": "IPY_MODEL_5d4aa28e2c8c4b4f93c516abd3cb0226",
      "value": " 14.5M/14.5M [00:00&lt;00:00, 26.9MB/s]"
     }
    },
    "b0e4403cc7fe4317ad71c01b6cc7c812": {
     "model_module": "@jupyter-widgets/controls",
     "model_module_version": "1.5.0",
     "model_name": "FloatProgressModel",
     "state": {
      "_dom_classes": [],
      "_model_module": "@jupyter-widgets/controls",
      "_model_module_version": "1.5.0",
      "_model_name": "FloatProgressModel",
      "_view_count": null,
      "_view_module": "@jupyter-widgets/controls",
      "_view_module_version": "1.5.0",
      "_view_name": "ProgressView",
      "bar_style": "success",
      "description": "",
      "description_tooltip": null,
      "layout": "IPY_MODEL_89f9d03c7446483f9015e7a26ade83af",
      "max": 1,
      "min": 0,
      "orientation": "horizontal",
      "style": "IPY_MODEL_d0dd84dc339a4828bf51c3aa8717153c",
      "value": 1
     }
    },
    "b1493f8f091d42ae84229c3c5378f95b": {
     "model_module": "@jupyter-widgets/controls",
     "model_module_version": "1.5.0",
     "model_name": "HBoxModel",
     "state": {
      "_dom_classes": [],
      "_model_module": "@jupyter-widgets/controls",
      "_model_module_version": "1.5.0",
      "_model_name": "HBoxModel",
      "_view_count": null,
      "_view_module": "@jupyter-widgets/controls",
      "_view_module_version": "1.5.0",
      "_view_name": "HBoxView",
      "box_style": "",
      "children": [
       "IPY_MODEL_52b113d604514fa3812fe358596467d4",
       "IPY_MODEL_b0e4403cc7fe4317ad71c01b6cc7c812",
       "IPY_MODEL_8ed5fd63f12a4ee781a282723b8d877f"
      ],
      "layout": "IPY_MODEL_b6d99144d93c4c0198275bc21f9b324a"
     }
    },
    "b38aadb2c7734cbe8f0120041a6991ea": {
     "model_module": "@jupyter-widgets/controls",
     "model_module_version": "1.5.0",
     "model_name": "DescriptionStyleModel",
     "state": {
      "_model_module": "@jupyter-widgets/controls",
      "_model_module_version": "1.5.0",
      "_model_name": "DescriptionStyleModel",
      "_view_count": null,
      "_view_module": "@jupyter-widgets/base",
      "_view_module_version": "1.2.0",
      "_view_name": "StyleView",
      "description_width": ""
     }
    },
    "b6d99144d93c4c0198275bc21f9b324a": {
     "model_module": "@jupyter-widgets/base",
     "model_module_version": "1.2.0",
     "model_name": "LayoutModel",
     "state": {
      "_model_module": "@jupyter-widgets/base",
      "_model_module_version": "1.2.0",
      "_model_name": "LayoutModel",
      "_view_count": null,
      "_view_module": "@jupyter-widgets/base",
      "_view_module_version": "1.2.0",
      "_view_name": "LayoutView",
      "align_content": null,
      "align_items": null,
      "align_self": null,
      "border": null,
      "bottom": null,
      "display": null,
      "flex": null,
      "flex_flow": null,
      "grid_area": null,
      "grid_auto_columns": null,
      "grid_auto_flow": null,
      "grid_auto_rows": null,
      "grid_column": null,
      "grid_gap": null,
      "grid_row": null,
      "grid_template_areas": null,
      "grid_template_columns": null,
      "grid_template_rows": null,
      "height": null,
      "justify_content": null,
      "justify_items": null,
      "left": null,
      "margin": null,
      "max_height": null,
      "max_width": null,
      "min_height": null,
      "min_width": null,
      "object_fit": null,
      "object_position": null,
      "order": null,
      "overflow": null,
      "overflow_x": null,
      "overflow_y": null,
      "padding": null,
      "right": null,
      "top": null,
      "visibility": null,
      "width": null
     }
    },
    "bba4a1c3233d4dc2bd4531e891572d47": {
     "model_module": "@jupyter-widgets/controls",
     "model_module_version": "1.5.0",
     "model_name": "HTMLModel",
     "state": {
      "_dom_classes": [],
      "_model_module": "@jupyter-widgets/controls",
      "_model_module_version": "1.5.0",
      "_model_name": "HTMLModel",
      "_view_count": null,
      "_view_module": "@jupyter-widgets/controls",
      "_view_module_version": "1.5.0",
      "_view_name": "HTMLView",
      "description": "",
      "description_tooltip": null,
      "layout": "IPY_MODEL_9df55bab55434bf58b391c949fd97912",
      "placeholder": "​",
      "style": "IPY_MODEL_691dd05ab4b04602aa48454ea5833dec",
      "value": " 10570/10570 [00:00&lt;00:00, 167557.84 examples/s]"
     }
    },
    "bfcbfb910eec4f2d9c892b4354b5883a": {
     "model_module": "@jupyter-widgets/controls",
     "model_module_version": "1.5.0",
     "model_name": "HTMLModel",
     "state": {
      "_dom_classes": [],
      "_model_module": "@jupyter-widgets/controls",
      "_model_module_version": "1.5.0",
      "_model_name": "HTMLModel",
      "_view_count": null,
      "_view_module": "@jupyter-widgets/controls",
      "_view_module_version": "1.5.0",
      "_view_name": "HTMLView",
      "description": "",
      "description_tooltip": null,
      "layout": "IPY_MODEL_e1cb12e3f3cf4b76ae66129b895e47ff",
      "placeholder": "​",
      "style": "IPY_MODEL_cb83436c968747ddba562891232e1d29",
      "value": " 1.82M/1.82M [00:00&lt;00:00, 9.99MB/s]"
     }
    },
    "c419b75f9e054470b218b3d4f2f08c39": {
     "model_module": "@jupyter-widgets/base",
     "model_module_version": "1.2.0",
     "model_name": "LayoutModel",
     "state": {
      "_model_module": "@jupyter-widgets/base",
      "_model_module_version": "1.2.0",
      "_model_name": "LayoutModel",
      "_view_count": null,
      "_view_module": "@jupyter-widgets/base",
      "_view_module_version": "1.2.0",
      "_view_name": "LayoutView",
      "align_content": null,
      "align_items": null,
      "align_self": null,
      "border": null,
      "bottom": null,
      "display": null,
      "flex": null,
      "flex_flow": null,
      "grid_area": null,
      "grid_auto_columns": null,
      "grid_auto_flow": null,
      "grid_auto_rows": null,
      "grid_column": null,
      "grid_gap": null,
      "grid_row": null,
      "grid_template_areas": null,
      "grid_template_columns": null,
      "grid_template_rows": null,
      "height": null,
      "justify_content": null,
      "justify_items": null,
      "left": null,
      "margin": null,
      "max_height": null,
      "max_width": null,
      "min_height": null,
      "min_width": null,
      "object_fit": null,
      "object_position": null,
      "order": null,
      "overflow": null,
      "overflow_x": null,
      "overflow_y": null,
      "padding": null,
      "right": null,
      "top": null,
      "visibility": null,
      "width": null
     }
    },
    "c7342141fcde413eaac853d36be975d4": {
     "model_module": "@jupyter-widgets/controls",
     "model_module_version": "1.5.0",
     "model_name": "HTMLModel",
     "state": {
      "_dom_classes": [],
      "_model_module": "@jupyter-widgets/controls",
      "_model_module_version": "1.5.0",
      "_model_name": "HTMLModel",
      "_view_count": null,
      "_view_module": "@jupyter-widgets/controls",
      "_view_module_version": "1.5.0",
      "_view_name": "HTMLView",
      "description": "",
      "description_tooltip": null,
      "layout": "IPY_MODEL_0d8cabee6cc747859b0fde69eda21fb6",
      "placeholder": "​",
      "style": "IPY_MODEL_707b3191109c412db58ecfbcc2a599dd",
      "value": "Downloading data: 100%"
     }
    },
    "cb335c401f6542d48449fec6e1b60d95": {
     "model_module": "@jupyter-widgets/base",
     "model_module_version": "1.2.0",
     "model_name": "LayoutModel",
     "state": {
      "_model_module": "@jupyter-widgets/base",
      "_model_module_version": "1.2.0",
      "_model_name": "LayoutModel",
      "_view_count": null,
      "_view_module": "@jupyter-widgets/base",
      "_view_module_version": "1.2.0",
      "_view_name": "LayoutView",
      "align_content": null,
      "align_items": null,
      "align_self": null,
      "border": null,
      "bottom": null,
      "display": null,
      "flex": null,
      "flex_flow": null,
      "grid_area": null,
      "grid_auto_columns": null,
      "grid_auto_flow": null,
      "grid_auto_rows": null,
      "grid_column": null,
      "grid_gap": null,
      "grid_row": null,
      "grid_template_areas": null,
      "grid_template_columns": null,
      "grid_template_rows": null,
      "height": null,
      "justify_content": null,
      "justify_items": null,
      "left": null,
      "margin": null,
      "max_height": null,
      "max_width": null,
      "min_height": null,
      "min_width": null,
      "object_fit": null,
      "object_position": null,
      "order": null,
      "overflow": null,
      "overflow_x": null,
      "overflow_y": null,
      "padding": null,
      "right": null,
      "top": null,
      "visibility": null,
      "width": null
     }
    },
    "cb83436c968747ddba562891232e1d29": {
     "model_module": "@jupyter-widgets/controls",
     "model_module_version": "1.5.0",
     "model_name": "DescriptionStyleModel",
     "state": {
      "_model_module": "@jupyter-widgets/controls",
      "_model_module_version": "1.5.0",
      "_model_name": "DescriptionStyleModel",
      "_view_count": null,
      "_view_module": "@jupyter-widgets/base",
      "_view_module_version": "1.2.0",
      "_view_name": "StyleView",
      "description_width": ""
     }
    },
    "ce0d6e6c34534949be79efad5ba8c0be": {
     "model_module": "@jupyter-widgets/base",
     "model_module_version": "1.2.0",
     "model_name": "LayoutModel",
     "state": {
      "_model_module": "@jupyter-widgets/base",
      "_model_module_version": "1.2.0",
      "_model_name": "LayoutModel",
      "_view_count": null,
      "_view_module": "@jupyter-widgets/base",
      "_view_module_version": "1.2.0",
      "_view_name": "LayoutView",
      "align_content": null,
      "align_items": null,
      "align_self": null,
      "border": null,
      "bottom": null,
      "display": null,
      "flex": null,
      "flex_flow": null,
      "grid_area": null,
      "grid_auto_columns": null,
      "grid_auto_flow": null,
      "grid_auto_rows": null,
      "grid_column": null,
      "grid_gap": null,
      "grid_row": null,
      "grid_template_areas": null,
      "grid_template_columns": null,
      "grid_template_rows": null,
      "height": null,
      "justify_content": null,
      "justify_items": null,
      "left": null,
      "margin": null,
      "max_height": null,
      "max_width": null,
      "min_height": null,
      "min_width": null,
      "object_fit": null,
      "object_position": null,
      "order": null,
      "overflow": null,
      "overflow_x": null,
      "overflow_y": null,
      "padding": null,
      "right": null,
      "top": null,
      "visibility": null,
      "width": null
     }
    },
    "d0dd84dc339a4828bf51c3aa8717153c": {
     "model_module": "@jupyter-widgets/controls",
     "model_module_version": "1.5.0",
     "model_name": "ProgressStyleModel",
     "state": {
      "_model_module": "@jupyter-widgets/controls",
      "_model_module_version": "1.5.0",
      "_model_name": "ProgressStyleModel",
      "_view_count": null,
      "_view_module": "@jupyter-widgets/base",
      "_view_module_version": "1.2.0",
      "_view_name": "StyleView",
      "bar_color": null,
      "description_width": ""
     }
    },
    "d723e5230db245cfa5ca96681dd057c7": {
     "model_module": "@jupyter-widgets/base",
     "model_module_version": "1.2.0",
     "model_name": "LayoutModel",
     "state": {
      "_model_module": "@jupyter-widgets/base",
      "_model_module_version": "1.2.0",
      "_model_name": "LayoutModel",
      "_view_count": null,
      "_view_module": "@jupyter-widgets/base",
      "_view_module_version": "1.2.0",
      "_view_name": "LayoutView",
      "align_content": null,
      "align_items": null,
      "align_self": null,
      "border": null,
      "bottom": null,
      "display": null,
      "flex": null,
      "flex_flow": null,
      "grid_area": null,
      "grid_auto_columns": null,
      "grid_auto_flow": null,
      "grid_auto_rows": null,
      "grid_column": null,
      "grid_gap": null,
      "grid_row": null,
      "grid_template_areas": null,
      "grid_template_columns": null,
      "grid_template_rows": null,
      "height": null,
      "justify_content": null,
      "justify_items": null,
      "left": null,
      "margin": null,
      "max_height": null,
      "max_width": null,
      "min_height": null,
      "min_width": null,
      "object_fit": null,
      "object_position": null,
      "order": null,
      "overflow": null,
      "overflow_x": null,
      "overflow_y": null,
      "padding": null,
      "right": null,
      "top": null,
      "visibility": null,
      "width": null
     }
    },
    "d9e06f02d41a46d989d831d636039483": {
     "model_module": "@jupyter-widgets/controls",
     "model_module_version": "1.5.0",
     "model_name": "DescriptionStyleModel",
     "state": {
      "_model_module": "@jupyter-widgets/controls",
      "_model_module_version": "1.5.0",
      "_model_name": "DescriptionStyleModel",
      "_view_count": null,
      "_view_module": "@jupyter-widgets/base",
      "_view_module_version": "1.2.0",
      "_view_name": "StyleView",
      "description_width": ""
     }
    },
    "e1cb12e3f3cf4b76ae66129b895e47ff": {
     "model_module": "@jupyter-widgets/base",
     "model_module_version": "1.2.0",
     "model_name": "LayoutModel",
     "state": {
      "_model_module": "@jupyter-widgets/base",
      "_model_module_version": "1.2.0",
      "_model_name": "LayoutModel",
      "_view_count": null,
      "_view_module": "@jupyter-widgets/base",
      "_view_module_version": "1.2.0",
      "_view_name": "LayoutView",
      "align_content": null,
      "align_items": null,
      "align_self": null,
      "border": null,
      "bottom": null,
      "display": null,
      "flex": null,
      "flex_flow": null,
      "grid_area": null,
      "grid_auto_columns": null,
      "grid_auto_flow": null,
      "grid_auto_rows": null,
      "grid_column": null,
      "grid_gap": null,
      "grid_row": null,
      "grid_template_areas": null,
      "grid_template_columns": null,
      "grid_template_rows": null,
      "height": null,
      "justify_content": null,
      "justify_items": null,
      "left": null,
      "margin": null,
      "max_height": null,
      "max_width": null,
      "min_height": null,
      "min_width": null,
      "object_fit": null,
      "object_position": null,
      "order": null,
      "overflow": null,
      "overflow_x": null,
      "overflow_y": null,
      "padding": null,
      "right": null,
      "top": null,
      "visibility": null,
      "width": null
     }
    },
    "e279e4d83b4044fc9ead8e04bcfcb8fc": {
     "model_module": "@jupyter-widgets/controls",
     "model_module_version": "1.5.0",
     "model_name": "HTMLModel",
     "state": {
      "_dom_classes": [],
      "_model_module": "@jupyter-widgets/controls",
      "_model_module_version": "1.5.0",
      "_model_name": "HTMLModel",
      "_view_count": null,
      "_view_module": "@jupyter-widgets/controls",
      "_view_module_version": "1.5.0",
      "_view_name": "HTMLView",
      "description": "",
      "description_tooltip": null,
      "layout": "IPY_MODEL_0ccf2164328c427e8dc2572cd255eb61",
      "placeholder": "​",
      "style": "IPY_MODEL_ffb81d456c564b189db55e52c9dd3d4e",
      "value": "Downloading data: 100%"
     }
    },
    "e44394e7416a4816b36b6bf685b17968": {
     "model_module": "@jupyter-widgets/base",
     "model_module_version": "1.2.0",
     "model_name": "LayoutModel",
     "state": {
      "_model_module": "@jupyter-widgets/base",
      "_model_module_version": "1.2.0",
      "_model_name": "LayoutModel",
      "_view_count": null,
      "_view_module": "@jupyter-widgets/base",
      "_view_module_version": "1.2.0",
      "_view_name": "LayoutView",
      "align_content": null,
      "align_items": null,
      "align_self": null,
      "border": null,
      "bottom": null,
      "display": null,
      "flex": null,
      "flex_flow": null,
      "grid_area": null,
      "grid_auto_columns": null,
      "grid_auto_flow": null,
      "grid_auto_rows": null,
      "grid_column": null,
      "grid_gap": null,
      "grid_row": null,
      "grid_template_areas": null,
      "grid_template_columns": null,
      "grid_template_rows": null,
      "height": null,
      "justify_content": null,
      "justify_items": null,
      "left": null,
      "margin": null,
      "max_height": null,
      "max_width": null,
      "min_height": null,
      "min_width": null,
      "object_fit": null,
      "object_position": null,
      "order": null,
      "overflow": null,
      "overflow_x": null,
      "overflow_y": null,
      "padding": null,
      "right": null,
      "top": null,
      "visibility": null,
      "width": "20px"
     }
    },
    "e68f78291aa54043ae123b7bd1296d1c": {
     "model_module": "@jupyter-widgets/base",
     "model_module_version": "1.2.0",
     "model_name": "LayoutModel",
     "state": {
      "_model_module": "@jupyter-widgets/base",
      "_model_module_version": "1.2.0",
      "_model_name": "LayoutModel",
      "_view_count": null,
      "_view_module": "@jupyter-widgets/base",
      "_view_module_version": "1.2.0",
      "_view_name": "LayoutView",
      "align_content": null,
      "align_items": null,
      "align_self": null,
      "border": null,
      "bottom": null,
      "display": null,
      "flex": null,
      "flex_flow": null,
      "grid_area": null,
      "grid_auto_columns": null,
      "grid_auto_flow": null,
      "grid_auto_rows": null,
      "grid_column": null,
      "grid_gap": null,
      "grid_row": null,
      "grid_template_areas": null,
      "grid_template_columns": null,
      "grid_template_rows": null,
      "height": null,
      "justify_content": null,
      "justify_items": null,
      "left": null,
      "margin": null,
      "max_height": null,
      "max_width": null,
      "min_height": null,
      "min_width": null,
      "object_fit": null,
      "object_position": null,
      "order": null,
      "overflow": null,
      "overflow_x": null,
      "overflow_y": null,
      "padding": null,
      "right": null,
      "top": null,
      "visibility": null,
      "width": null
     }
    },
    "f1213c049af342e3bce482416c2eb60d": {
     "model_module": "@jupyter-widgets/controls",
     "model_module_version": "1.5.0",
     "model_name": "ProgressStyleModel",
     "state": {
      "_model_module": "@jupyter-widgets/controls",
      "_model_module_version": "1.5.0",
      "_model_name": "ProgressStyleModel",
      "_view_count": null,
      "_view_module": "@jupyter-widgets/base",
      "_view_module_version": "1.2.0",
      "_view_name": "StyleView",
      "bar_color": null,
      "description_width": ""
     }
    },
    "f4ef1de9f71e45a28db327ec4e6fac05": {
     "model_module": "@jupyter-widgets/base",
     "model_module_version": "1.2.0",
     "model_name": "LayoutModel",
     "state": {
      "_model_module": "@jupyter-widgets/base",
      "_model_module_version": "1.2.0",
      "_model_name": "LayoutModel",
      "_view_count": null,
      "_view_module": "@jupyter-widgets/base",
      "_view_module_version": "1.2.0",
      "_view_name": "LayoutView",
      "align_content": null,
      "align_items": null,
      "align_self": null,
      "border": null,
      "bottom": null,
      "display": null,
      "flex": null,
      "flex_flow": null,
      "grid_area": null,
      "grid_auto_columns": null,
      "grid_auto_flow": null,
      "grid_auto_rows": null,
      "grid_column": null,
      "grid_gap": null,
      "grid_row": null,
      "grid_template_areas": null,
      "grid_template_columns": null,
      "grid_template_rows": null,
      "height": null,
      "justify_content": null,
      "justify_items": null,
      "left": null,
      "margin": null,
      "max_height": null,
      "max_width": null,
      "min_height": null,
      "min_width": null,
      "object_fit": null,
      "object_position": null,
      "order": null,
      "overflow": null,
      "overflow_x": null,
      "overflow_y": null,
      "padding": null,
      "right": null,
      "top": null,
      "visibility": null,
      "width": null
     }
    },
    "f83e6c60caaf4c128c5b26cf56f29950": {
     "model_module": "@jupyter-widgets/controls",
     "model_module_version": "1.5.0",
     "model_name": "ProgressStyleModel",
     "state": {
      "_model_module": "@jupyter-widgets/controls",
      "_model_module_version": "1.5.0",
      "_model_name": "ProgressStyleModel",
      "_view_count": null,
      "_view_module": "@jupyter-widgets/base",
      "_view_module_version": "1.2.0",
      "_view_name": "StyleView",
      "bar_color": null,
      "description_width": ""
     }
    },
    "ffb81d456c564b189db55e52c9dd3d4e": {
     "model_module": "@jupyter-widgets/controls",
     "model_module_version": "1.5.0",
     "model_name": "DescriptionStyleModel",
     "state": {
      "_model_module": "@jupyter-widgets/controls",
      "_model_module_version": "1.5.0",
      "_model_name": "DescriptionStyleModel",
      "_view_count": null,
      "_view_module": "@jupyter-widgets/base",
      "_view_module_version": "1.2.0",
      "_view_name": "StyleView",
      "description_width": ""
     }
    }
   }
  }
 },
 "nbformat": 4,
 "nbformat_minor": 5
}

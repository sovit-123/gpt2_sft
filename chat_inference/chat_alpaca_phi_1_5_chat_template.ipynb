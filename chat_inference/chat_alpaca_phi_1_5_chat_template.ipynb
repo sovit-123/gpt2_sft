{
 "cells": [
  {
   "cell_type": "markdown",
   "id": "339a7b22-81fd-4bef-b05d-e33d7caa3a64",
   "metadata": {},
   "source": [
    "# Introduction \n",
    "\n",
    "This notebook replicates a simple chat template with continuous chat. The model understands and remembers the context according to its capacity. We use the *chat template* functionality of the tokenizer.\n",
    "\n",
    "This is a Phi 1.5 model fine-tuned to Chat Alpaca dataset (https://huggingface.co/datasets/flpelerin/ChatAlpaca-10k). Find the fine-tuning notebook in the `assistant_sft` directory.\n",
    "\n",
    "**NOTE: The notebook uses a customized streamer for text streaming.**"
   ]
  },
  {
   "cell_type": "code",
   "execution_count": 1,
   "id": "4dbbcaa4-9bfd-4265-8fd0-5bd5a18808bf",
   "metadata": {
    "id": "4dbbcaa4-9bfd-4265-8fd0-5bd5a18808bf"
   },
   "outputs": [],
   "source": [
    "from transformers import (\n",
    "    AutoModelForCausalLM,\n",
    "    AutoTokenizer,\n",
    "    pipeline,\n",
    "    logging,\n",
    ")\n",
    "\n",
    "from streaming_utils import TextStreamer"
   ]
  },
  {
   "cell_type": "code",
   "execution_count": 2,
   "id": "02f2cb63-121a-4b8f-a12d-b1d3a429e94e",
   "metadata": {
    "id": "02f2cb63-121a-4b8f-a12d-b1d3a429e94e"
   },
   "outputs": [
    {
     "name": "stderr",
     "output_type": "stream",
     "text": [
      "The `load_in_4bit` and `load_in_8bit` arguments are deprecated and will be removed in the future versions. Please, pass a `BitsAndBytesConfig` object in `quantization_config` argument instead.\n",
      "`low_cpu_mem_usage` was None, now set to True since model is quantized.\n",
      "Special tokens have been added in the vocabulary, make sure the associated word embeddings are fine-tuned or trained.\n",
      "Special tokens have been added in the vocabulary, make sure the associated word embeddings are fine-tuned or trained.\n"
     ]
    }
   ],
   "source": [
    "model = AutoModelForCausalLM.from_pretrained(\n",
    "    '../assistant_sft/outputs/phi_1_5_chat_alpaca/logs/checkpoint-1187/',\n",
    "    load_in_4bit=True\n",
    ")\n",
    "tokenizer = AutoTokenizer.from_pretrained(\n",
    "    '../assistant_sft/outputs/phi_1_5_chat_alpaca/logs/checkpoint-1187/'\n",
    ")"
   ]
  },
  {
   "cell_type": "code",
   "execution_count": 3,
   "id": "4aa8c65a-a587-4f61-86e3-65d64a1f8167",
   "metadata": {},
   "outputs": [],
   "source": [
    "streamer = TextStreamer(\n",
    "    tokenizer,\n",
    "    skip_prompt=True,\n",
    "    skip_special_tokens=True,\n",
    "    truncate_before_pattern=['\\[\\/', 'Goodbye'],\n",
    "    truncate=True\n",
    ")"
   ]
  },
  {
   "cell_type": "code",
   "execution_count": 4,
   "id": "1febdbcd-1652-495c-9193-efd9a89ffcbd",
   "metadata": {},
   "outputs": [],
   "source": [
    "eos_string = tokenizer.eos_token\n",
    "history = None"
   ]
  },
  {
   "cell_type": "code",
   "execution_count": 5,
   "id": "36a4ab4e-10d2-4a75-be90-9d6b35859740",
   "metadata": {},
   "outputs": [
    {
     "data": {
      "text/plain": [
       "'<|endoftext|>[INST] Hello [/INST]'"
      ]
     },
     "execution_count": 5,
     "metadata": {},
     "output_type": "execute_result"
    }
   ],
   "source": [
    "chat = [\n",
    "       {\"from\": \"human\", \"value\": 'Hello'}\n",
    "    ]\n",
    "\n",
    "tokenizer.apply_chat_template(chat, tokenize=False, add_generation_prompt=True)"
   ]
  },
  {
   "cell_type": "code",
   "execution_count": null,
   "id": "366238f6-5e88-46ba-93e8-b49327af8167",
   "metadata": {},
   "outputs": [
    {
     "name": "stdin",
     "output_type": "stream",
     "text": [
      "Question:  Hello.\n"
     ]
    },
    {
     "name": "stderr",
     "output_type": "stream",
     "text": [
      "The attention mask and the pad token id were not set. As a consequence, you may observe unexpected behavior. Please pass your input's `attention_mask` to obtain reliable results.\n",
      "Setting `pad_token_id` to `eos_token_id`:50256 for open-end generation.\n",
      "/home/sovitdl/miniconda3/envs/experiments/lib/python3.10/site-packages/bitsandbytes/nn/modules.py:426: UserWarning: Input type into Linear4bit is torch.float16, but bnb_4bit_compute_dtype=torch.float32 (default). This will lead to slow inference or training speed.\n",
      "  warnings.warn(\n"
     ]
    },
    {
     "name": "stdout",
     "output_type": "stream",
     "text": [
      "Hello! How can I help you? \n",
      "##################################################\n"
     ]
    },
    {
     "name": "stdin",
     "output_type": "stream",
     "text": [
      "Question:  Let's talk about deep learning.\n"
     ]
    },
    {
     "name": "stderr",
     "output_type": "stream",
     "text": [
      "The attention mask and the pad token id were not set. As a consequence, you may observe unexpected behavior. Please pass your input's `attention_mask` to obtain reliable results.\n",
      "Setting `pad_token_id` to `eos_token_id`:50256 for open-end generation.\n"
     ]
    },
    {
     "name": "stdout",
     "output_type": "stream",
     "text": [
      "Sure, what specifically would you like to know about deep learning? \n",
      "##################################################\n"
     ]
    },
    {
     "name": "stdin",
     "output_type": "stream",
     "text": [
      "Question:  CNNs.\n"
     ]
    },
    {
     "name": "stderr",
     "output_type": "stream",
     "text": [
      "The attention mask and the pad token id were not set. As a consequence, you may observe unexpected behavior. Please pass your input's `attention_mask` to obtain reliable results.\n",
      "Setting `pad_token_id` to `eos_token_id`:50256 for open-end generation.\n"
     ]
    },
    {
     "name": "stdout",
     "output_type": "stream",
     "text": [
      "What are some examples of applications of CNNs? \n",
      "##################################################\n"
     ]
    },
    {
     "name": "stdin",
     "output_type": "stream",
     "text": [
      "Question:  You tell me.\n"
     ]
    },
    {
     "name": "stderr",
     "output_type": "stream",
     "text": [
      "The attention mask and the pad token id were not set. As a consequence, you may observe unexpected behavior. Please pass your input's `attention_mask` to obtain reliable results.\n",
      "Setting `pad_token_id` to `eos_token_id`:50256 for open-end generation.\n"
     ]
    },
    {
     "name": "stdout",
     "output_type": "stream",
     "text": [
      "Sure, here are some examples of applications of CNNs:\n",
      "\n",
      "1. Image recognition: CNNs are widely used in image recognition tasks, such as identifying objects in images, detecting faces, and recognizing handwritten digits.\n",
      "\n",
      "2. Natural language processing: CNNs are used in natural language processing tasks, such as language translation, sentiment analysis, and machine translation.\n",
      "\n",
      "3. Object detection: CNNs are used in object detection tasks, such as identifying cars, people, and other objects in images and videos.\n",
      "\n",
      "4. Speech recognition: CNNs are used in speech recognition tasks, such as transcribing audio recordings and speech synthesis.\n",
      "\n",
      "5. Autonomous driving: CNNs are used in autonomous driving tasks, such as object detection, image recognition, and language translation.\n",
      "\n",
      "6. Medical imaging: CNNs are used in medical imaging tasks, such as segmentation of medical images, such as CT scans and MRIs.\n",
      "\n",
      "7. Fraud detection: CNNs are used in fraud detection tasks, such as identifying fraudulent transactions and detecting anomalies in financial data.\n",
      "\n",
      "8. Video surveillance: CNNs are used in video surveillance tasks, such as object detection, face recognition, and facial expression recognition.\n",
      "\n",
      "9. Robotics: CNNs are used in robotics tasks, such as object detection, image recognition, and motion planning.\n",
      "\n",
      "10. Computer vision: CNNs are used in computer vision tasks, such as image classification, object detection, and semantic segmentation.\n",
      "\n",
      "These are just a few examples of the many applications of CNNs. What other applications do you think of? \n",
      "##################################################\n"
     ]
    }
   ],
   "source": [
    "while True:\n",
    "    question = input(\"Question: \")\n",
    "\n",
    "    chat = [\n",
    "       {\"from\": \"human\", \"value\": question}\n",
    "    ]\n",
    "\n",
    "    template = tokenizer.apply_chat_template(chat, tokenize=False, add_generation_prompt=True)\n",
    "\n",
    "    prompt = history + ' ' + template if history is not None else template\n",
    "\n",
    "    # print(prompt)\n",
    "    \n",
    "    prompt_tokenized = tokenizer(\n",
    "        prompt, \n",
    "        return_tensors='pt', \n",
    "    ).to('cuda')['input_ids']\n",
    "    \n",
    "    output_tokenized = model.generate(\n",
    "        input_ids=prompt_tokenized,\n",
    "        max_length=len(prompt_tokenized[0])+400,\n",
    "        temperature=0.7,\n",
    "        top_k=40,\n",
    "        top_p=0.1,\n",
    "        do_sample=True,\n",
    "        eos_token_id=tokenizer.eos_token_id,\n",
    "        streamer=streamer\n",
    "    )\n",
    "    answer = tokenizer.decode(token_ids=output_tokenized[0][len(prompt_tokenized[0]):]).strip()\n",
    "\n",
    "    # Puny guardrails.\n",
    "    if eos_string in answer:\n",
    "        answer = answer.split(eos_string)[0].strip()\n",
    "    if '[/' in answer:\n",
    "        answer = answer.split('[/')[0].strip()\n",
    "\n",
    "    history = ' '.join([prompt, answer, eos_string])\n",
    "    # print(f\"ANSWER: {answer}\\n\")\n",
    "    # print(f\"HISTORY: {history}\\n\")\n",
    "    print('#' * 50)"
   ]
  },
  {
   "cell_type": "code",
   "execution_count": null,
   "id": "ac405be4-c714-414d-8ff5-57565fc5f4b6",
   "metadata": {},
   "outputs": [],
   "source": []
  }
 ],
 "metadata": {
  "colab": {
   "provenance": []
  },
  "kernelspec": {
   "display_name": "Python 3 (ipykernel)",
   "language": "python",
   "name": "python3"
  },
  "language_info": {
   "codemirror_mode": {
    "name": "ipython",
    "version": 3
   },
   "file_extension": ".py",
   "mimetype": "text/x-python",
   "name": "python",
   "nbconvert_exporter": "python",
   "pygments_lexer": "ipython3",
   "version": "3.10.13"
  }
 },
 "nbformat": 4,
 "nbformat_minor": 5
}

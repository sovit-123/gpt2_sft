{
 "cells": [
  {
   "cell_type": "code",
   "execution_count": 1,
   "metadata": {},
   "outputs": [],
   "source": [
    "# !pip install -U transformers\n",
    "# !pip install -U datasets\n",
    "# !pip install tensorboard\n",
    "# !pip install sentencepiece\n",
    "# !pip install accelerate"
   ]
  },
  {
   "cell_type": "code",
   "execution_count": 2,
   "metadata": {
    "_cell_guid": "b1076dfc-b9ad-4769-8c92-a6c4dae69d19",
    "_uuid": "8f2839f25d086af736a60e9eeb907d3b93b6e0e5"
   },
   "outputs": [],
   "source": [
    "from datasets import load_dataset\n",
    "from transformers import (\n",
    "    AutoTokenizer, \n",
    "    AutoModelForCausalLM,\n",
    "    TrainingArguments,\n",
    "    Trainer,\n",
    "    DataCollatorForLanguageModeling,\n",
    "    AutoModelForCausalLM\n",
    ")\n",
    "\n",
    "import os"
   ]
  },
  {
   "cell_type": "markdown",
   "metadata": {},
   "source": [
    "## Dataset Preparation"
   ]
  },
  {
   "cell_type": "code",
   "execution_count": 3,
   "metadata": {},
   "outputs": [
    {
     "name": "stdout",
     "output_type": "stream",
     "text": [
      "Dataset({\n",
      "    features: ['File_path', 'Articles', 'Summaries'],\n",
      "    num_rows: 1779\n",
      "})\n",
      "Dataset({\n",
      "    features: ['File_path', 'Articles', 'Summaries'],\n",
      "    num_rows: 445\n",
      "})\n"
     ]
    }
   ],
   "source": [
    "dataset = load_dataset('gopalkalpande/bbc-news-summary', split='train')\n",
    "full_dataset = dataset.train_test_split(test_size=0.2, shuffle=True)\n",
    "dataset_train = full_dataset['train']\n",
    "dataset_valid = full_dataset['test']\n",
    " \n",
    "print(dataset_train)\n",
    "print(dataset_valid)"
   ]
  },
  {
   "cell_type": "code",
   "execution_count": 4,
   "metadata": {},
   "outputs": [
    {
     "name": "stdout",
     "output_type": "stream",
     "text": [
      "{'File_path': 'sport', 'Articles': 'Newry to fight cup exit in courts..Newry City are expected to discuss legal avenues on Friday regarding overturning their ejection from the Nationwide Irish Cup...The IFA upheld its original decision to throw Newry out of the cup following the Andy Crawford registration row. \\'\\'A law firm will put a case forward for Newry FC, and see what the legal implications of all this is are,\\'\\' said Newry boss Roy McCreadie. \\'\\'This is a big issue, now that we have an appeal pending,\\'\\' On Wednesday, a fresh IFA hearing into Crawford registration saga, ruled that last week\\'s original verdict had been correct. It meant that Bangor, beaten 5-1 by Newry on the field, will take on Portadown in the sixth round. Newry had claimed they had uncovered \"fresh evidence\", in respect of the dates relating to the registration. But McCreadie is not further annoyed that full details of Wednesday\\'s meeting was not relayed to the club. \\'\\'Even to this day, we have as much information about what happened during the meeting on Wednesday as that told to the media. We are being kept in the dark,\\'\\' McCreadie told the..News Letter... \\'\\'We want an explanation. There is no good sending us the same fax message the press people received. \\'\\'It\\'s a real sad case. If we are not back in the Irish Cup after our appeal, and guided by our legal advise, we will seek to lodge an injunction in the courts to stop Bangor playing Portadown.\\'\\'', 'Summaries': '\\'\\'A law firm will put a case forward for Newry FC, and see what the legal implications of all this is are,\\'\\' said Newry boss Roy McCreadie.The IFA upheld its original decision to throw Newry out of the cup following the Andy Crawford registration row.Newry City are expected to discuss legal avenues on Friday regarding overturning their ejection from the Nationwide Irish Cup.Newry had claimed they had uncovered \"fresh evidence\", in respect of the dates relating to the registration.It meant that Bangor, beaten 5-1 by Newry on the field, will take on Portadown in the sixth round.\\'\\'This is a big issue, now that we have an appeal pending,\\'\\' On Wednesday, a fresh IFA hearing into Crawford registration saga, ruled that last week\\'s original verdict had been correct.'}\n"
     ]
    }
   ],
   "source": [
    "print(dataset_train[0])"
   ]
  },
  {
   "cell_type": "markdown",
   "metadata": {},
   "source": [
    "## Configurations"
   ]
  },
  {
   "cell_type": "code",
   "execution_count": 5,
   "metadata": {},
   "outputs": [],
   "source": [
    "MODEL = 'distilgpt2'\n",
    "BATCH_SIZE = 4\n",
    "NUM_PROCS = os.cpu_count()\n",
    "EPOCHS = 5\n",
    "OUT_DIR = 'results_distilgpt2_bbc_news_summary'\n",
    "MAX_LENGTH = 512 # Maximum context length to consider while preparing dataset."
   ]
  },
  {
   "cell_type": "markdown",
   "metadata": {},
   "source": [
    "## Tokenization"
   ]
  },
  {
   "cell_type": "code",
   "execution_count": 6,
   "metadata": {},
   "outputs": [],
   "source": [
    "tokenizer = AutoTokenizer.from_pretrained('distilgpt2')"
   ]
  },
  {
   "cell_type": "code",
   "execution_count": 7,
   "metadata": {},
   "outputs": [],
   "source": [
    "tokenizer.pad_token = tokenizer.eos_token\n",
    "data_collator = DataCollatorForLanguageModeling(tokenizer=tokenizer, mlm=False)"
   ]
  },
  {
   "cell_type": "code",
   "execution_count": 8,
   "metadata": {},
   "outputs": [],
   "source": [
    "text = dataset_train[10]['Articles'] + ' TL;DR: ' + dataset_train[10]['Summaries']"
   ]
  },
  {
   "cell_type": "code",
   "execution_count": 9,
   "metadata": {},
   "outputs": [
    {
     "data": {
      "text/plain": [
       "'Stevens named in England line-up..England have named Bath prop Matt Stevens in the starting line-up for their Six Nations match against Ireland at Lansdowne Road on Sunday...Fellow Bath prop Duncan Bell will start on the bench, as coach Andy Robinson makes just one change to the team that was beaten by France. It will be Stevens\\' first start after two caps as a replacement against the All Blacks last year. Leicester duo Ollie Smith and Andy Goode have been drafted onto the bench. Stevens takes over from Phil Vickery, who suffered a broken arm playing for Gloucester last weekend. \"I\\'m confident Matt will grasp this opportunity and make his mark against Ireland,\" said Robinson...\"All three players have shown outstanding form of late, most recently in the England A win against France A and for their club,\" added Robinson. \"Selection beckons when players demonstrate such consistent ability. \"This game against Ireland will be massive. We recognise it\\'s a must-win game for us this season.\" England confirmed that Sale Sharks prop Andrew Sheridan was not considered for selection because of an injury he picked up to the back of his ankle during last Friday\\'s match against Leeds...J Robinson (Sale Sharks, capt); M Cueto (Sale Sharks), J Noon (Newcastle), O Barkley (Bath), J Lewsey (Wasps); C Hodgson (Sale Sharks), H Ellis (Leicester); G Rowntree (Leicester), S Thompson (Northampton), M Stevens (Bath), D Grewcock (Bath), B Kay (Leicester), J Worsley (Wasps), L Moody (Leicester), M Corry (Leicester)...A Titterrell (Sale Sharks), D Bell (Bath), S Borthwick (Bath), A Hazell (Gloucester), M Dawson (Wasps), A Goode (Leicester), O Smith (Leicester). TL;DR: A Titterrell (Sale Sharks), D Bell (Bath), S Borthwick (Bath), A Hazell (Gloucester), M Dawson (Wasps), A Goode (Leicester), O Smith (Leicester).J Robinson (Sale Sharks, capt); M Cueto (Sale Sharks), J Noon (Newcastle), O Barkley (Bath), J Lewsey (Wasps); C Hodgson (Sale Sharks), H Ellis (Leicester); G Rowntree (Leicester), S Thompson (Northampton), M Stevens (Bath), D Grewcock (Bath), B Kay (Leicester), J Worsley (Wasps), L Moody (Leicester), M Corry (Leicester).England have named Bath prop Matt Stevens in the starting line-up for their Six Nations match against Ireland at Lansdowne Road on Sunday.Fellow Bath prop Duncan Bell will start on the bench, as coach Andy Robinson makes just one change to the team that was beaten by France.England confirmed that Sale Sharks prop Andrew Sheridan was not considered for selection because of an injury he picked up to the back of his ankle during last Friday\\'s match against Leeds.\"This game against Ireland will be massive.'"
      ]
     },
     "execution_count": 9,
     "metadata": {},
     "output_type": "execute_result"
    }
   ],
   "source": [
    "text"
   ]
  },
  {
   "cell_type": "code",
   "execution_count": 10,
   "metadata": {},
   "outputs": [],
   "source": [
    "def preprocess_function(example):\n",
    "    context = f\"{example['Articles'] + ' TL;DR: ' + example['Summaries']}\"\n",
    "    final_tokens = tokenizer(context, max_length=MAX_LENGTH, padding='max_length')\n",
    "    return final_tokens"
   ]
  },
  {
   "cell_type": "code",
   "execution_count": 11,
   "metadata": {},
   "outputs": [
    {
     "data": {
      "application/vnd.jupyter.widget-view+json": {
       "model_id": "a165b4db3f554d97aadd9f750813ead7",
       "version_major": 2,
       "version_minor": 0
      },
      "text/plain": [
       "Map (num_proc=16):   0%|          | 0/1779 [00:00<?, ? examples/s]"
      ]
     },
     "metadata": {},
     "output_type": "display_data"
    },
    {
     "data": {
      "application/vnd.jupyter.widget-view+json": {
       "model_id": "fcae5969831a40e889049de7c4657148",
       "version_major": 2,
       "version_minor": 0
      },
      "text/plain": [
       "Map (num_proc=16):   0%|          | 0/445 [00:00<?, ? examples/s]"
      ]
     },
     "metadata": {},
     "output_type": "display_data"
    }
   ],
   "source": [
    "tokenized_train = dataset_train.map(\n",
    "    preprocess_function,\n",
    "#     batched=True,\n",
    "    num_proc=NUM_PROCS,\n",
    "    remove_columns=dataset_train.column_names,\n",
    ")\n",
    "tokenized_valid = dataset_valid.map(\n",
    "    preprocess_function,\n",
    "#     batched=True,\n",
    "    num_proc=NUM_PROCS,\n",
    "    remove_columns=dataset_valid.column_names,\n",
    ")"
   ]
  },
  {
   "cell_type": "code",
   "execution_count": 12,
   "metadata": {},
   "outputs": [
    {
     "name": "stdout",
     "output_type": "stream",
     "text": [
      "{'input_ids': [3791, 563, 284, 1907, 6508, 8420, 287, 8028, 492, 3791, 563, 2254, 389, 2938, 284, 2112, 2742, 34265, 319, 3217, 5115, 17586, 278, 511, 22189, 295, 422, 262, 49232, 8685, 5454, 986, 464, 314, 7708, 24816, 663, 2656, 2551, 284, 3714, 968, 563, 503, 286, 262, 6508, 1708, 262, 12382, 24499, 9352, 5752, 13, 10148, 32, 1099, 4081, 481, 1234, 257, 1339, 2651, 329, 968, 563, 10029, 11, 290, 766, 644, 262, 2742, 10939, 286, 477, 428, 318, 389, 14004, 531, 968, 563, 6478, 9817, 5108, 961, 494, 13, 10148, 1212, 318, 257, 1263, 2071, 11, 783, 326, 356, 423, 281, 5198, 13310, 14004, 1550, 3583, 11, 257, 4713, 314, 7708, 4854, 656, 24499, 9352, 26784, 11, 8879, 326, 938, 1285, 338, 2656, 15593, 550, 587, 3376, 13, 632, 4001, 326, 9801, 273, 11, 13125, 642, 12, 16, 416, 968, 563, 319, 262, 2214, 11, 481, 1011, 319, 4347, 324, 593, 287, 262, 11695, 2835, 13, 968, 563, 550, 4752, 484, 550, 18838, 366, 48797, 2370, 1600, 287, 2461, 286, 262, 9667, 11270, 284, 262, 9352, 13, 887, 5108, 961, 494, 318, 407, 2252, 25602, 326, 1336, 3307, 286, 3583, 338, 3249, 373, 407, 47968, 284, 262, 3430, 13, 10148, 6104, 284, 428, 1110, 11, 356, 423, 355, 881, 1321, 546, 644, 3022, 1141, 262, 3249, 319, 3583, 355, 326, 1297, 284, 262, 2056, 13, 775, 389, 852, 4030, 287, 262, 3223, 14004, 5108, 961, 494, 1297, 262, 492, 9980, 18121, 986, 10148, 1135, 765, 281, 7468, 13, 1318, 318, 645, 922, 7216, 514, 262, 976, 35168, 3275, 262, 1803, 661, 2722, 13, 10148, 1026, 338, 257, 1103, 6507, 1339, 13, 1002, 356, 389, 407, 736, 287, 262, 8685, 5454, 706, 674, 5198, 11, 290, 17455, 416, 674, 2742, 18595, 11, 356, 481, 5380, 284, 35362, 281, 27439, 287, 262, 8028, 284, 2245, 9801, 273, 2712, 4347, 324, 593, 13531, 24811, 26, 7707, 25, 10148, 32, 1099, 4081, 481, 1234, 257, 1339, 2651, 329, 968, 563, 10029, 11, 290, 766, 644, 262, 2742, 10939, 286, 477, 428, 318, 389, 14004, 531, 968, 563, 6478, 9817, 5108, 961, 494, 13, 464, 314, 7708, 24816, 663, 2656, 2551, 284, 3714, 968, 563, 503, 286, 262, 6508, 1708, 262, 12382, 24499, 9352, 5752, 13, 3791, 563, 2254, 389, 2938, 284, 2112, 2742, 34265, 319, 3217, 5115, 17586, 278, 511, 22189, 295, 422, 262, 49232, 8685, 5454, 13, 3791, 563, 550, 4752, 484, 550, 18838, 366, 48797, 2370, 1600, 287, 2461, 286, 262, 9667, 11270, 284, 262, 9352, 13, 1026, 4001, 326, 9801, 273, 11, 13125, 642, 12, 16, 416, 968, 563, 319, 262, 2214, 11, 481, 1011, 319, 4347, 324, 593, 287, 262, 11695, 2835, 13531, 1212, 318, 257, 1263, 2071, 11, 783, 326, 356, 423, 281, 5198, 13310, 14004, 1550, 3583, 11, 257, 4713, 314, 7708, 4854, 656, 24499, 9352, 26784, 11, 8879, 326, 938, 1285, 338, 2656, 15593, 550, 587, 3376, 13, 50256, 50256, 50256, 50256, 50256, 50256, 50256, 50256, 50256, 50256, 50256, 50256, 50256, 50256, 50256, 50256, 50256, 50256, 50256, 50256, 50256, 50256, 50256, 50256, 50256, 50256, 50256, 50256, 50256, 50256, 50256], 'attention_mask': [1, 1, 1, 1, 1, 1, 1, 1, 1, 1, 1, 1, 1, 1, 1, 1, 1, 1, 1, 1, 1, 1, 1, 1, 1, 1, 1, 1, 1, 1, 1, 1, 1, 1, 1, 1, 1, 1, 1, 1, 1, 1, 1, 1, 1, 1, 1, 1, 1, 1, 1, 1, 1, 1, 1, 1, 1, 1, 1, 1, 1, 1, 1, 1, 1, 1, 1, 1, 1, 1, 1, 1, 1, 1, 1, 1, 1, 1, 1, 1, 1, 1, 1, 1, 1, 1, 1, 1, 1, 1, 1, 1, 1, 1, 1, 1, 1, 1, 1, 1, 1, 1, 1, 1, 1, 1, 1, 1, 1, 1, 1, 1, 1, 1, 1, 1, 1, 1, 1, 1, 1, 1, 1, 1, 1, 1, 1, 1, 1, 1, 1, 1, 1, 1, 1, 1, 1, 1, 1, 1, 1, 1, 1, 1, 1, 1, 1, 1, 1, 1, 1, 1, 1, 1, 1, 1, 1, 1, 1, 1, 1, 1, 1, 1, 1, 1, 1, 1, 1, 1, 1, 1, 1, 1, 1, 1, 1, 1, 1, 1, 1, 1, 1, 1, 1, 1, 1, 1, 1, 1, 1, 1, 1, 1, 1, 1, 1, 1, 1, 1, 1, 1, 1, 1, 1, 1, 1, 1, 1, 1, 1, 1, 1, 1, 1, 1, 1, 1, 1, 1, 1, 1, 1, 1, 1, 1, 1, 1, 1, 1, 1, 1, 1, 1, 1, 1, 1, 1, 1, 1, 1, 1, 1, 1, 1, 1, 1, 1, 1, 1, 1, 1, 1, 1, 1, 1, 1, 1, 1, 1, 1, 1, 1, 1, 1, 1, 1, 1, 1, 1, 1, 1, 1, 1, 1, 1, 1, 1, 1, 1, 1, 1, 1, 1, 1, 1, 1, 1, 1, 1, 1, 1, 1, 1, 1, 1, 1, 1, 1, 1, 1, 1, 1, 1, 1, 1, 1, 1, 1, 1, 1, 1, 1, 1, 1, 1, 1, 1, 1, 1, 1, 1, 1, 1, 1, 1, 1, 1, 1, 1, 1, 1, 1, 1, 1, 1, 1, 1, 1, 1, 1, 1, 1, 1, 1, 1, 1, 1, 1, 1, 1, 1, 1, 1, 1, 1, 1, 1, 1, 1, 1, 1, 1, 1, 1, 1, 1, 1, 1, 1, 1, 1, 1, 1, 1, 1, 1, 1, 1, 1, 1, 1, 1, 1, 1, 1, 1, 1, 1, 1, 1, 1, 1, 1, 1, 1, 1, 1, 1, 1, 1, 1, 1, 1, 1, 1, 1, 1, 1, 1, 1, 1, 1, 1, 1, 1, 1, 1, 1, 1, 1, 1, 1, 1, 1, 1, 1, 1, 1, 1, 1, 1, 1, 1, 1, 1, 1, 1, 1, 1, 1, 1, 1, 1, 1, 1, 1, 1, 1, 1, 1, 1, 1, 1, 1, 1, 1, 1, 1, 1, 1, 1, 1, 1, 1, 1, 1, 1, 1, 1, 1, 1, 1, 1, 1, 1, 1, 1, 1, 1, 1, 0, 0, 0, 0, 0, 0, 0, 0, 0, 0, 0, 0, 0, 0, 0, 0, 0, 0, 0, 0, 0, 0, 0, 0, 0, 0, 0, 0, 0, 0, 0]}\n"
     ]
    }
   ],
   "source": [
    "print(tokenized_train[0])"
   ]
  },
  {
   "cell_type": "code",
   "execution_count": 13,
   "metadata": {},
   "outputs": [],
   "source": [
    "def group_texts(examples):\n",
    "    concatenated_examples = {k: sum(examples[k], []) for k in examples.keys()}\n",
    "    total_length = len(concatenated_examples[list(examples.keys())[0]])\n",
    "    if total_length >= MAX_LENGTH:\n",
    "        total_length = (total_length // MAX_LENGTH) * MAX_LENGTH\n",
    "    result = {\n",
    "        k: [t[i : i + MAX_LENGTH] for i in range(0, total_length, MAX_LENGTH)]\n",
    "        for k, t in concatenated_examples.items()\n",
    "    }\n",
    "    result[\"labels\"] = result[\"input_ids\"].copy()\n",
    "    return result"
   ]
  },
  {
   "cell_type": "code",
   "execution_count": 14,
   "metadata": {},
   "outputs": [
    {
     "data": {
      "application/vnd.jupyter.widget-view+json": {
       "model_id": "fe6c611ad5be4ea9897153fc6f7ea14e",
       "version_major": 2,
       "version_minor": 0
      },
      "text/plain": [
       "Map (num_proc=16):   0%|          | 0/1779 [00:00<?, ? examples/s]"
      ]
     },
     "metadata": {},
     "output_type": "display_data"
    },
    {
     "data": {
      "application/vnd.jupyter.widget-view+json": {
       "model_id": "02880b9ee66b4322adfc28797cfa39fe",
       "version_major": 2,
       "version_minor": 0
      },
      "text/plain": [
       "Map (num_proc=16):   0%|          | 0/445 [00:00<?, ? examples/s]"
      ]
     },
     "metadata": {},
     "output_type": "display_data"
    }
   ],
   "source": [
    "lm_dataset_train = tokenized_train.map(\n",
    "    group_texts, num_proc=NUM_PROCS, batched=True\n",
    ")\n",
    "lm_dataset_valid = tokenized_valid.map(\n",
    "    group_texts, num_proc=NUM_PROCS, batched=True\n",
    ")"
   ]
  },
  {
   "cell_type": "code",
   "execution_count": 15,
   "metadata": {},
   "outputs": [
    {
     "name": "stdout",
     "output_type": "stream",
     "text": [
      "{'input_ids': [3791, 563, 284, 1907, 6508, 8420, 287, 8028, 492, 3791, 563, 2254, 389, 2938, 284, 2112, 2742, 34265, 319, 3217, 5115, 17586, 278, 511, 22189, 295, 422, 262, 49232, 8685, 5454, 986, 464, 314, 7708, 24816, 663, 2656, 2551, 284, 3714, 968, 563, 503, 286, 262, 6508, 1708, 262, 12382, 24499, 9352, 5752, 13, 10148, 32, 1099, 4081, 481, 1234, 257, 1339, 2651, 329, 968, 563, 10029, 11, 290, 766, 644, 262, 2742, 10939, 286, 477, 428, 318, 389, 14004, 531, 968, 563, 6478, 9817, 5108, 961, 494, 13, 10148, 1212, 318, 257, 1263, 2071, 11, 783, 326, 356, 423, 281, 5198, 13310, 14004, 1550, 3583, 11, 257, 4713, 314, 7708, 4854, 656, 24499, 9352, 26784, 11, 8879, 326, 938, 1285, 338, 2656, 15593, 550, 587, 3376, 13, 632, 4001, 326, 9801, 273, 11, 13125, 642, 12, 16, 416, 968, 563, 319, 262, 2214, 11, 481, 1011, 319, 4347, 324, 593, 287, 262, 11695, 2835, 13, 968, 563, 550, 4752, 484, 550, 18838, 366, 48797, 2370, 1600, 287, 2461, 286, 262, 9667, 11270, 284, 262, 9352, 13, 887, 5108, 961, 494, 318, 407, 2252, 25602, 326, 1336, 3307, 286, 3583, 338, 3249, 373, 407, 47968, 284, 262, 3430, 13, 10148, 6104, 284, 428, 1110, 11, 356, 423, 355, 881, 1321, 546, 644, 3022, 1141, 262, 3249, 319, 3583, 355, 326, 1297, 284, 262, 2056, 13, 775, 389, 852, 4030, 287, 262, 3223, 14004, 5108, 961, 494, 1297, 262, 492, 9980, 18121, 986, 10148, 1135, 765, 281, 7468, 13, 1318, 318, 645, 922, 7216, 514, 262, 976, 35168, 3275, 262, 1803, 661, 2722, 13, 10148, 1026, 338, 257, 1103, 6507, 1339, 13, 1002, 356, 389, 407, 736, 287, 262, 8685, 5454, 706, 674, 5198, 11, 290, 17455, 416, 674, 2742, 18595, 11, 356, 481, 5380, 284, 35362, 281, 27439, 287, 262, 8028, 284, 2245, 9801, 273, 2712, 4347, 324, 593, 13531, 24811, 26, 7707, 25, 10148, 32, 1099, 4081, 481, 1234, 257, 1339, 2651, 329, 968, 563, 10029, 11, 290, 766, 644, 262, 2742, 10939, 286, 477, 428, 318, 389, 14004, 531, 968, 563, 6478, 9817, 5108, 961, 494, 13, 464, 314, 7708, 24816, 663, 2656, 2551, 284, 3714, 968, 563, 503, 286, 262, 6508, 1708, 262, 12382, 24499, 9352, 5752, 13, 3791, 563, 2254, 389, 2938, 284, 2112, 2742, 34265, 319, 3217, 5115, 17586, 278, 511, 22189, 295, 422, 262, 49232, 8685, 5454, 13, 3791, 563, 550, 4752, 484, 550, 18838, 366, 48797, 2370, 1600, 287, 2461, 286, 262, 9667, 11270, 284, 262, 9352, 13, 1026, 4001, 326, 9801, 273, 11, 13125, 642, 12, 16, 416, 968, 563, 319, 262, 2214, 11, 481, 1011, 319, 4347, 324, 593, 287, 262, 11695, 2835, 13531, 1212, 318, 257, 1263, 2071, 11, 783, 326, 356, 423, 281, 5198, 13310, 14004, 1550, 3583, 11, 257, 4713, 314, 7708, 4854, 656, 24499, 9352, 26784, 11, 8879, 326, 938, 1285, 338, 2656, 15593, 550, 587, 3376, 13, 50256, 50256, 50256, 50256, 50256, 50256, 50256, 50256, 50256, 50256, 50256, 50256, 50256, 50256, 50256, 50256, 50256, 50256, 50256, 50256, 50256, 50256, 50256, 50256, 50256, 50256, 50256, 50256, 50256, 50256, 50256], 'attention_mask': [1, 1, 1, 1, 1, 1, 1, 1, 1, 1, 1, 1, 1, 1, 1, 1, 1, 1, 1, 1, 1, 1, 1, 1, 1, 1, 1, 1, 1, 1, 1, 1, 1, 1, 1, 1, 1, 1, 1, 1, 1, 1, 1, 1, 1, 1, 1, 1, 1, 1, 1, 1, 1, 1, 1, 1, 1, 1, 1, 1, 1, 1, 1, 1, 1, 1, 1, 1, 1, 1, 1, 1, 1, 1, 1, 1, 1, 1, 1, 1, 1, 1, 1, 1, 1, 1, 1, 1, 1, 1, 1, 1, 1, 1, 1, 1, 1, 1, 1, 1, 1, 1, 1, 1, 1, 1, 1, 1, 1, 1, 1, 1, 1, 1, 1, 1, 1, 1, 1, 1, 1, 1, 1, 1, 1, 1, 1, 1, 1, 1, 1, 1, 1, 1, 1, 1, 1, 1, 1, 1, 1, 1, 1, 1, 1, 1, 1, 1, 1, 1, 1, 1, 1, 1, 1, 1, 1, 1, 1, 1, 1, 1, 1, 1, 1, 1, 1, 1, 1, 1, 1, 1, 1, 1, 1, 1, 1, 1, 1, 1, 1, 1, 1, 1, 1, 1, 1, 1, 1, 1, 1, 1, 1, 1, 1, 1, 1, 1, 1, 1, 1, 1, 1, 1, 1, 1, 1, 1, 1, 1, 1, 1, 1, 1, 1, 1, 1, 1, 1, 1, 1, 1, 1, 1, 1, 1, 1, 1, 1, 1, 1, 1, 1, 1, 1, 1, 1, 1, 1, 1, 1, 1, 1, 1, 1, 1, 1, 1, 1, 1, 1, 1, 1, 1, 1, 1, 1, 1, 1, 1, 1, 1, 1, 1, 1, 1, 1, 1, 1, 1, 1, 1, 1, 1, 1, 1, 1, 1, 1, 1, 1, 1, 1, 1, 1, 1, 1, 1, 1, 1, 1, 1, 1, 1, 1, 1, 1, 1, 1, 1, 1, 1, 1, 1, 1, 1, 1, 1, 1, 1, 1, 1, 1, 1, 1, 1, 1, 1, 1, 1, 1, 1, 1, 1, 1, 1, 1, 1, 1, 1, 1, 1, 1, 1, 1, 1, 1, 1, 1, 1, 1, 1, 1, 1, 1, 1, 1, 1, 1, 1, 1, 1, 1, 1, 1, 1, 1, 1, 1, 1, 1, 1, 1, 1, 1, 1, 1, 1, 1, 1, 1, 1, 1, 1, 1, 1, 1, 1, 1, 1, 1, 1, 1, 1, 1, 1, 1, 1, 1, 1, 1, 1, 1, 1, 1, 1, 1, 1, 1, 1, 1, 1, 1, 1, 1, 1, 1, 1, 1, 1, 1, 1, 1, 1, 1, 1, 1, 1, 1, 1, 1, 1, 1, 1, 1, 1, 1, 1, 1, 1, 1, 1, 1, 1, 1, 1, 1, 1, 1, 1, 1, 1, 1, 1, 1, 1, 1, 1, 1, 1, 1, 1, 1, 1, 1, 1, 1, 1, 1, 1, 1, 1, 1, 1, 1, 1, 1, 1, 1, 1, 1, 1, 1, 1, 1, 1, 1, 1, 1, 1, 1, 0, 0, 0, 0, 0, 0, 0, 0, 0, 0, 0, 0, 0, 0, 0, 0, 0, 0, 0, 0, 0, 0, 0, 0, 0, 0, 0, 0, 0, 0, 0], 'labels': [3791, 563, 284, 1907, 6508, 8420, 287, 8028, 492, 3791, 563, 2254, 389, 2938, 284, 2112, 2742, 34265, 319, 3217, 5115, 17586, 278, 511, 22189, 295, 422, 262, 49232, 8685, 5454, 986, 464, 314, 7708, 24816, 663, 2656, 2551, 284, 3714, 968, 563, 503, 286, 262, 6508, 1708, 262, 12382, 24499, 9352, 5752, 13, 10148, 32, 1099, 4081, 481, 1234, 257, 1339, 2651, 329, 968, 563, 10029, 11, 290, 766, 644, 262, 2742, 10939, 286, 477, 428, 318, 389, 14004, 531, 968, 563, 6478, 9817, 5108, 961, 494, 13, 10148, 1212, 318, 257, 1263, 2071, 11, 783, 326, 356, 423, 281, 5198, 13310, 14004, 1550, 3583, 11, 257, 4713, 314, 7708, 4854, 656, 24499, 9352, 26784, 11, 8879, 326, 938, 1285, 338, 2656, 15593, 550, 587, 3376, 13, 632, 4001, 326, 9801, 273, 11, 13125, 642, 12, 16, 416, 968, 563, 319, 262, 2214, 11, 481, 1011, 319, 4347, 324, 593, 287, 262, 11695, 2835, 13, 968, 563, 550, 4752, 484, 550, 18838, 366, 48797, 2370, 1600, 287, 2461, 286, 262, 9667, 11270, 284, 262, 9352, 13, 887, 5108, 961, 494, 318, 407, 2252, 25602, 326, 1336, 3307, 286, 3583, 338, 3249, 373, 407, 47968, 284, 262, 3430, 13, 10148, 6104, 284, 428, 1110, 11, 356, 423, 355, 881, 1321, 546, 644, 3022, 1141, 262, 3249, 319, 3583, 355, 326, 1297, 284, 262, 2056, 13, 775, 389, 852, 4030, 287, 262, 3223, 14004, 5108, 961, 494, 1297, 262, 492, 9980, 18121, 986, 10148, 1135, 765, 281, 7468, 13, 1318, 318, 645, 922, 7216, 514, 262, 976, 35168, 3275, 262, 1803, 661, 2722, 13, 10148, 1026, 338, 257, 1103, 6507, 1339, 13, 1002, 356, 389, 407, 736, 287, 262, 8685, 5454, 706, 674, 5198, 11, 290, 17455, 416, 674, 2742, 18595, 11, 356, 481, 5380, 284, 35362, 281, 27439, 287, 262, 8028, 284, 2245, 9801, 273, 2712, 4347, 324, 593, 13531, 24811, 26, 7707, 25, 10148, 32, 1099, 4081, 481, 1234, 257, 1339, 2651, 329, 968, 563, 10029, 11, 290, 766, 644, 262, 2742, 10939, 286, 477, 428, 318, 389, 14004, 531, 968, 563, 6478, 9817, 5108, 961, 494, 13, 464, 314, 7708, 24816, 663, 2656, 2551, 284, 3714, 968, 563, 503, 286, 262, 6508, 1708, 262, 12382, 24499, 9352, 5752, 13, 3791, 563, 2254, 389, 2938, 284, 2112, 2742, 34265, 319, 3217, 5115, 17586, 278, 511, 22189, 295, 422, 262, 49232, 8685, 5454, 13, 3791, 563, 550, 4752, 484, 550, 18838, 366, 48797, 2370, 1600, 287, 2461, 286, 262, 9667, 11270, 284, 262, 9352, 13, 1026, 4001, 326, 9801, 273, 11, 13125, 642, 12, 16, 416, 968, 563, 319, 262, 2214, 11, 481, 1011, 319, 4347, 324, 593, 287, 262, 11695, 2835, 13531, 1212, 318, 257, 1263, 2071, 11, 783, 326, 356, 423, 281, 5198, 13310, 14004, 1550, 3583, 11, 257, 4713, 314, 7708, 4854, 656, 24499, 9352, 26784, 11, 8879, 326, 938, 1285, 338, 2656, 15593, 550, 587, 3376, 13, 50256, 50256, 50256, 50256, 50256, 50256, 50256, 50256, 50256, 50256, 50256, 50256, 50256, 50256, 50256, 50256, 50256, 50256, 50256, 50256, 50256, 50256, 50256, 50256, 50256, 50256, 50256, 50256, 50256, 50256, 50256]}\n"
     ]
    }
   ],
   "source": [
    "print(lm_dataset_train[0])"
   ]
  },
  {
   "cell_type": "markdown",
   "metadata": {},
   "source": [
    "## Model"
   ]
  },
  {
   "cell_type": "code",
   "execution_count": 16,
   "metadata": {},
   "outputs": [],
   "source": [
    "model = AutoModelForCausalLM.from_pretrained('distilgpt2')"
   ]
  },
  {
   "cell_type": "code",
   "execution_count": 17,
   "metadata": {},
   "outputs": [
    {
     "name": "stdout",
     "output_type": "stream",
     "text": [
      "81,912,576 total parameters.\n",
      "81,912,576 training parameters.\n"
     ]
    }
   ],
   "source": [
    "# Total parameters and trainable parameters.\n",
    "total_params = sum(p.numel() for p in model.parameters())\n",
    "print(f\"{total_params:,} total parameters.\")\n",
    "total_trainable_params = sum(\n",
    "    p.numel() for p in model.parameters() if p.requires_grad)\n",
    "print(f\"{total_trainable_params:,} training parameters.\")"
   ]
  },
  {
   "cell_type": "markdown",
   "metadata": {},
   "source": [
    "## Training"
   ]
  },
  {
   "cell_type": "code",
   "execution_count": 18,
   "metadata": {},
   "outputs": [
    {
     "data": {
      "text/html": [
       "\n",
       "    <div>\n",
       "      \n",
       "      <progress value='3210' max='3210' style='width:300px; height:20px; vertical-align: middle;'></progress>\n",
       "      [3210/3210 04:45, Epoch 5/5]\n",
       "    </div>\n",
       "    <table border=\"1\" class=\"dataframe\">\n",
       "  <thead>\n",
       " <tr style=\"text-align: left;\">\n",
       "      <th>Epoch</th>\n",
       "      <th>Training Loss</th>\n",
       "      <th>Validation Loss</th>\n",
       "    </tr>\n",
       "  </thead>\n",
       "  <tbody>\n",
       "    <tr>\n",
       "      <td>1</td>\n",
       "      <td>3.146000</td>\n",
       "      <td>2.998546</td>\n",
       "    </tr>\n",
       "    <tr>\n",
       "      <td>2</td>\n",
       "      <td>2.811800</td>\n",
       "      <td>2.944553</td>\n",
       "    </tr>\n",
       "    <tr>\n",
       "      <td>3</td>\n",
       "      <td>2.942100</td>\n",
       "      <td>2.918390</td>\n",
       "    </tr>\n",
       "    <tr>\n",
       "      <td>4</td>\n",
       "      <td>2.719000</td>\n",
       "      <td>2.913258</td>\n",
       "    </tr>\n",
       "    <tr>\n",
       "      <td>5</td>\n",
       "      <td>2.871600</td>\n",
       "      <td>2.913400</td>\n",
       "    </tr>\n",
       "  </tbody>\n",
       "</table><p>"
      ],
      "text/plain": [
       "<IPython.core.display.HTML object>"
      ]
     },
     "metadata": {},
     "output_type": "display_data"
    },
    {
     "name": "stderr",
     "output_type": "stream",
     "text": [
      "There were missing keys in the checkpoint model loaded: ['lm_head.weight'].\n"
     ]
    }
   ],
   "source": [
    "training_args = TrainingArguments(\n",
    "    output_dir=OUT_DIR,\n",
    "    num_train_epochs=EPOCHS,\n",
    "    per_device_train_batch_size=BATCH_SIZE,\n",
    "    per_device_eval_batch_size=BATCH_SIZE,\n",
    "    warmup_steps=500,\n",
    "    weight_decay=0.01,\n",
    "    logging_dir=OUT_DIR,\n",
    "    logging_steps=10,\n",
    "    evaluation_strategy='epoch',\n",
    "    save_strategy='epoch',\n",
    "    load_best_model_at_end=True,\n",
    "    save_total_limit=1,\n",
    "    report_to='tensorboard',\n",
    "    learning_rate=0.00005,\n",
    "    fp16=True,\n",
    "    dataloader_num_workers=NUM_PROCS\n",
    ")\n",
    "\n",
    "trainer = Trainer(\n",
    "    model=model,\n",
    "    args=training_args,\n",
    "    train_dataset=lm_dataset_train,\n",
    "    eval_dataset=lm_dataset_valid,\n",
    ")\n",
    "\n",
    "history = trainer.train()"
   ]
  },
  {
   "cell_type": "code",
   "execution_count": 19,
   "metadata": {},
   "outputs": [],
   "source": [
    "model.save_pretrained(f\"{OUT_DIR}/final_model\")"
   ]
  },
  {
   "cell_type": "code",
   "execution_count": 20,
   "metadata": {},
   "outputs": [
    {
     "data": {
      "text/plain": [
       "('results_distilgpt2_bbc_news_summary/final_model/tokenizer_config.json',\n",
       " 'results_distilgpt2_bbc_news_summary/final_model/special_tokens_map.json',\n",
       " 'results_distilgpt2_bbc_news_summary/final_model/vocab.json',\n",
       " 'results_distilgpt2_bbc_news_summary/final_model/merges.txt',\n",
       " 'results_distilgpt2_bbc_news_summary/final_model/added_tokens.json',\n",
       " 'results_distilgpt2_bbc_news_summary/final_model/tokenizer.json')"
      ]
     },
     "execution_count": 20,
     "metadata": {},
     "output_type": "execute_result"
    }
   ],
   "source": [
    "tokenizer.save_pretrained(f\"{OUT_DIR}/final_model\")"
   ]
  },
  {
   "cell_type": "markdown",
   "metadata": {},
   "source": [
    "## Inference"
   ]
  },
  {
   "cell_type": "code",
   "execution_count": 1,
   "metadata": {},
   "outputs": [],
   "source": [
    "from transformers import AutoModelForCausalLM, AutoTokenizer\n",
    "\n",
    "import torch"
   ]
  },
  {
   "cell_type": "code",
   "execution_count": 2,
   "metadata": {},
   "outputs": [],
   "source": [
    "model_path = 'results_distilgpt2_bbc_news_summary/final_model'\n",
    "model = AutoModelForCausalLM.from_pretrained(model_path)\n",
    "tokenizer = AutoTokenizer.from_pretrained(model_path)"
   ]
  },
  {
   "cell_type": "code",
   "execution_count": 3,
   "metadata": {},
   "outputs": [
    {
     "data": {
      "text/plain": [
       "GPT2LMHeadModel(\n",
       "  (transformer): GPT2Model(\n",
       "    (wte): Embedding(50257, 768)\n",
       "    (wpe): Embedding(1024, 768)\n",
       "    (drop): Dropout(p=0.1, inplace=False)\n",
       "    (h): ModuleList(\n",
       "      (0-5): 6 x GPT2Block(\n",
       "        (ln_1): LayerNorm((768,), eps=1e-05, elementwise_affine=True)\n",
       "        (attn): GPT2Attention(\n",
       "          (c_attn): Conv1D()\n",
       "          (c_proj): Conv1D()\n",
       "          (attn_dropout): Dropout(p=0.1, inplace=False)\n",
       "          (resid_dropout): Dropout(p=0.1, inplace=False)\n",
       "        )\n",
       "        (ln_2): LayerNorm((768,), eps=1e-05, elementwise_affine=True)\n",
       "        (mlp): GPT2MLP(\n",
       "          (c_fc): Conv1D()\n",
       "          (c_proj): Conv1D()\n",
       "          (act): NewGELUActivation()\n",
       "          (dropout): Dropout(p=0.1, inplace=False)\n",
       "        )\n",
       "      )\n",
       "    )\n",
       "    (ln_f): LayerNorm((768,), eps=1e-05, elementwise_affine=True)\n",
       "  )\n",
       "  (lm_head): Linear(in_features=768, out_features=50257, bias=False)\n",
       ")"
      ]
     },
     "execution_count": 3,
     "metadata": {},
     "output_type": "execute_result"
    }
   ],
   "source": [
    "model.eval()"
   ]
  },
  {
   "cell_type": "code",
   "execution_count": 4,
   "metadata": {},
   "outputs": [],
   "source": [
    "prompt = \"\"\"Architecturally, the school has a Catholic character.\\\n",
    "Atop the Main Building\\'s gold dome is a golden statue of the Virgin Mary. Immediately in front of \\\n",
    "the Main Building and facing it, is a copper statue of Christ with arms upraised with the legend \\\n",
    "'Venite Ad Me Omnes'. Next to the Main Building is the Basilica of the Sacred Heart. Immediately \\\n",
    "behind the basilica is the Grotto, a Marian place of prayer and reflection. It is a replica of the \\\n",
    "grotto at Lourdes, France where the Virgin Mary reputedly appeared to Saint Bernadette Soubirous in \\\n",
    "1858. At the end of the main drive (and in a direct line that connects through 3 statues and the Gold Dome), \\\n",
    "is a simple, modern stone statue of Mary\"\"\""
   ]
  },
  {
   "cell_type": "code",
   "execution_count": 5,
   "metadata": {},
   "outputs": [
    {
     "name": "stdout",
     "output_type": "stream",
     "text": [
      "Architecturally, the school has a Catholic character.Atop the Main Building's gold dome is a golden statue of the Virgin Mary. Immediately in front of the Main Building and facing it, is a copper statue of Christ with arms upraised with the legend 'Venite Ad Me Omnes'. Next to the Main Building is the Basilica of the Sacred Heart. Immediately behind the basilica is the Grotto, a Marian place of prayer and reflection. It is a replica of the grotto at Lourdes, France where the Virgin Mary reputedly appeared to Saint Bernadette Soubirous in 1858. At the end of the main drive (and in a direct line that connects through 3 statues and the Gold Dome), is a simple, modern stone statue of Mary\n"
     ]
    }
   ],
   "source": [
    "print(prompt)"
   ]
  },
  {
   "cell_type": "code",
   "execution_count": 8,
   "metadata": {},
   "outputs": [],
   "source": [
    "def summarize_text(text, model, tokenizer, max_length=512, num_beams=5):\n",
    "    # Preprocess the text\n",
    "    inputs = tokenizer.encode(\n",
    "        text + ' TL;DR: ',\n",
    "        return_tensors='pt',\n",
    "        max_length=max_length,\n",
    "        truncation=True\n",
    "    )\n",
    "\n",
    "    with torch.no_grad():\n",
    "        # Generate the summary\n",
    "        summary_ids = model.generate(\n",
    "            inputs,\n",
    "            max_length=512,\n",
    "            num_beams=num_beams,\n",
    "            early_stopping=True,\n",
    "        )\n",
    "\n",
    "    # Decode and return the summary\n",
    "    return tokenizer.decode(summary_ids[0], skip_special_tokens=True)"
   ]
  },
  {
   "cell_type": "code",
   "execution_count": 9,
   "metadata": {},
   "outputs": [
    {
     "name": "stderr",
     "output_type": "stream",
     "text": [
      "The attention mask and the pad token id were not set. As a consequence, you may observe unexpected behavior. Please pass your input's `attention_mask` to obtain reliable results.\n",
      "Setting `pad_token_id` to `eos_token_id`:50256 for open-end generation.\n"
     ]
    },
    {
     "data": {
      "text/plain": [
       "\"Architecturally, the school has a Catholic character.Atop the Main Building's gold dome is a golden statue of the Virgin Mary. Immediately in front of the Main Building and facing it, is a copper statue of Christ with arms upraised with the legend 'Venite Ad Me Omnes'. Next to the Main Building is the Basilica of the Sacred Heart. Immediately behind the basilica is the Grotto, a Marian place of prayer and reflection. It is a replica of the grotto at Lourdes, France where the Virgin Mary reputedly appeared to Saint Bernadette Soubirous in 1858. At the end of the main drive (and in a direct line that connects through 3 statues and the Gold Dome), is a simple, modern stone statue of Mary TL;DR: Architecturally, the school has a Catholic character.Atop the Main Building's gold dome is a golden statue of the Virgin Mary.Atop the Main Building's gold dome is a golden statue of the Virgin Mary.Atop the Main Building's gold dome is a golden statue of the Virgin Mary.Atop the Main Building's gold dome is a golden statue of the Virgin Mary.\""
      ]
     },
     "execution_count": 9,
     "metadata": {},
     "output_type": "execute_result"
    }
   ],
   "source": [
    "summarize_text(prompt, model, tokenizer, num_beams=2)"
   ]
  },
  {
   "cell_type": "code",
   "execution_count": null,
   "metadata": {},
   "outputs": [],
   "source": []
  }
 ],
 "metadata": {
  "kaggle": {
   "accelerator": "gpu",
   "dataSources": [],
   "dockerImageVersionId": 30636,
   "isGpuEnabled": true,
   "isInternetEnabled": true,
   "language": "python",
   "sourceType": "notebook"
  },
  "kernelspec": {
   "display_name": "Python 3 (ipykernel)",
   "language": "python",
   "name": "python3"
  },
  "language_info": {
   "codemirror_mode": {
    "name": "ipython",
    "version": 3
   },
   "file_extension": ".py",
   "mimetype": "text/x-python",
   "name": "python",
   "nbconvert_exporter": "python",
   "pygments_lexer": "ipython3",
   "version": "3.10.13"
  }
 },
 "nbformat": 4,
 "nbformat_minor": 4
}
